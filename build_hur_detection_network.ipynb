{
 "cells": [
  {
   "cell_type": "code",
   "execution_count": 2,
   "metadata": {
    "collapsed": false
   },
   "outputs": [
    {
     "name": "stdout",
     "output_type": "stream",
     "text": [
      "importing Jupyter notebook from detec_helper_fxns.ipynb\n",
      "importing Jupyter notebook from print_n_plot.ipynb\n",
      "importing Jupyter notebook from helper_fxns.ipynb\n"
     ]
    }
   ],
   "source": [
    "import lasagne\n",
    "import theano\n",
    "from theano import tensor as T\n",
    "import sys\n",
    "import numpy as np\n",
    "#enable importing of notebooks\n",
    "from nbfinder import NotebookFinder\n",
    "sys.meta_path.append(NotebookFinder())\n",
    "from detec_helper_fxns import get_best_box, get_detec_loss, get_iou, make_test_data, get_detec_acc"
   ]
  },
  {
   "cell_type": "code",
   "execution_count": 3,
   "metadata": {
    "collapsed": false
   },
   "outputs": [],
   "source": [
    "def build_det_network_layers(class_net, layers_to_remove,\n",
    "                                  num_filters,\n",
    "                                  num_fc_units,\n",
    "                                  num_extra_conv, \n",
    "                                  nonlinearity,\n",
    "                                  n_boxes,\n",
    "                                  nclass,\n",
    "                                  grid_size,\n",
    "                                  w_init,\n",
    "                                  dropout_p):\n",
    "    #remove last two layers\n",
    "    for i in range(layers_to_remove):\n",
    "        class_net = class_net.input_layer\n",
    "        \n",
    "    #add new layers\n",
    "    network = lasagne.layers.Conv2DLayer(class_net, num_filters=num_filters, \n",
    "                                     filter_size=(3,3),\n",
    "                                     pad=1,\n",
    "                                     nonlinearity=nonlinearity,\n",
    "                                     W=w_init)\n",
    "    \n",
    "    \n",
    "    \n",
    "    for i in range(num_extra_conv):\n",
    "        network = lasagne.layers.Conv2DLayer(network, num_filters=num_filters, \n",
    "                                             filter_size=(3,3),\n",
    "                                             pad=1,\n",
    "                                             nonlinearity=nonlinearity,\n",
    "                                             W=w_init)\n",
    "\n",
    "\n",
    "    \n",
    "    network = lasagne.layers.DenseLayer(\n",
    "                                lasagne.layers.dropout(network, p=dropout_p),\n",
    "                                num_units=num_fc_units,\n",
    "                                nonlinearity=lasagne.nonlinearities.rectify)\n",
    "    \n",
    "    network = lasagne.layers.DenseLayer(network, \n",
    "                                        num_units=(grid_size * grid_size) * (n_boxes* 5 + nclass),\n",
    "                                        nonlinearity=lasagne.nonlinearities.linear)\n",
    "    network = lasagne.layers.ReshapeLayer(network, shape=(grid_size, grid_size,(n_boxes* 5 + nclass)))\n",
    "    \n",
    "    return network \n",
    "    "
   ]
  },
  {
   "cell_type": "code",
   "execution_count": 4,
   "metadata": {
    "collapsed": false
   },
   "outputs": [],
   "source": [
    "def build_det_network(class_net,\n",
    "                      learning_rate = 0.001,\n",
    "                      momentum = 0.9,\n",
    "                      layers_to_remove=3,\n",
    "                      num_filters=512,\n",
    "                      num_fc_units=1024,\n",
    "                      num_extra_conv=1, \n",
    "                      nonlinearity=lasagne.nonlinearities.LeakyRectify(0.1),\n",
    "                      n_boxes=2,\n",
    "                      nclass=2,\n",
    "                      grid_size=7,\n",
    "                      w_init=lasagne.init.HeNormal(),\n",
    "                      dropout_p=0.5,\n",
    "                      lc = 5,\n",
    "                      ln = 0.5,\n",
    "                      load=False):\n",
    "    \n",
    "    input_var = T.tensor4('inputs')\n",
    "    target_var = T.tensor4('targets') #is of shape (grid_size, grid_size,(n_boxes* 5 + nclass)\n",
    "    print(\"Building model and compiling functions...\")\n",
    "    \n",
    "    \n",
    "    network = build_det_network_layers(class_net, layers_to_remove,\n",
    "                                  num_filters,\n",
    "                                  num_fc_units,\n",
    "                                  num_extra_conv, \n",
    "                                  nonlinearity,\n",
    "                                  n_boxes,\n",
    "                                  nclass,\n",
    "                                  grid_size,\n",
    "                                  w_init,\n",
    "                                  dropout_p)\n",
    "    \n",
    "    if load:\n",
    "        pass\n",
    "#         with np.load('model.npz') as f:\n",
    "#             param_values = [f['arr_%d' % i] for i in range(len(f.files))]\n",
    "#             lasagne.layers.set_all_param_values(network, param_values)\n",
    "\n",
    " \n",
    "    prediction = lasagne.layers.get_output(network, deterministic=False)\n",
    "    \n",
    "    #returns symbolic expression for loss\n",
    "    loss = get_detec_loss(prediction, target_var, lc, ln)\n",
    "\n",
    "    params = lasagne.layers.get_all_params(network, trainable=True)\n",
    "    updates = lasagne.updates.nesterov_momentum(loss, \n",
    "                                                params, \n",
    "                                                learning_rate=learning_rate, \n",
    "                                                momentum=momentum)\n",
    "\n",
    "    test_prediction = lasagne.layers.get_output(network, deterministic=True)\n",
    "    \n",
    "    #get non-maximally suppressed bbox\n",
    "    test_loss = get_detec_loss(test_prediction, target_var, lc, ln)\n",
    "\n",
    "\n",
    "    pred_boxes = get_best_box(prediction)\n",
    "    gt_boxes = get_best_box(target_var)\n",
    "    # As a bonus, also create an expression for the classification accuracy:\n",
    "    #we use avg IOU here?\n",
    "    test_acc = get_detec_acc(test_prediction, target_var)\n",
    "\n",
    "    # Compile a function performing a training step on a mini-batch (by giving\n",
    "    # the updates dictionary) and returning the corresponding training loss:\n",
    "    train_fn = theano.function([input_var, target_var], loss, updates=updates)\n",
    "\n",
    "\n",
    "    # Compile a second function computing the validation loss and accuracy:\n",
    "    val_fn = theano.function([input_var, target_var], [test_loss, test_acc])\n",
    "    box_fn = theano.function([input_var, target_var], [pred_boxes, gt_boxes])\n",
    "\n",
    "    return train_fn, val_fn, network, box_fn"
   ]
  },
  {
   "cell_type": "code",
   "execution_count": 6,
   "metadata": {
    "collapsed": false
   },
   "outputs": [],
   "source": [
    "\n"
   ]
  },
  {
   "cell_type": "code",
   "execution_count": null,
   "metadata": {
    "collapsed": true
   },
   "outputs": [],
   "source": []
  }
 ],
 "metadata": {
  "kernelspec": {
   "display_name": "Python 2",
   "language": "python",
   "name": "python2"
  },
  "language_info": {
   "codemirror_mode": {
    "name": "ipython",
    "version": 2
   },
   "file_extension": ".py",
   "mimetype": "text/x-python",
   "name": "python",
   "nbconvert_exporter": "python",
   "pygments_lexer": "ipython2",
   "version": "2.7.11"
  }
 },
 "nbformat": 4,
 "nbformat_minor": 0
}
