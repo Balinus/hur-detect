{
 "cells": [
  {
   "cell_type": "code",
   "execution_count": 7,
   "metadata": {
    "collapsed": false
   },
   "outputs": [
    {
     "name": "stdout",
     "output_type": "stream",
     "text": [
      "[TerminalIPythonApp] WARNING | Subcommand `ipython nbconvert` is deprecated and will be removed in future versions.\n",
      "[TerminalIPythonApp] WARNING | You likely want to use `jupyter nbconvert` in the future\n",
      "[NbConvertApp] Converting notebook ./convert_nb_to_scripts-main.ipynb to script\n",
      "[NbConvertApp] Writing 1384 bytes to ./convert_nb_to_scripts-main.py\n",
      "[NbConvertApp] Converting notebook ./hur_main.ipynb to script\n",
      "[NbConvertApp] Writing 3857 bytes to ./hur_main.py\n",
      "rm: cannot remove ‘convert_nb_to_scripts-main.txt’: No such file or directory\n"
     ]
    }
   ],
   "source": [
    "! ipython nbconvert --to script ./*.ipynb\n",
    "\n",
    "import os\n",
    "import sys\n",
    "! rm convert_nb_to_scripts-main.txt\n",
    "#.txt means file was open/not saved so converted to .txt not .py\n",
    "for fil in os.listdir('.'):\n",
    "    assert '.txt' not in fil, \"Save all your notebooks first!\"\n",
    "        \n",
    "        \n",
    "\n",
    "! sed -i.bak 's/# coding: utf-8/import matplotlib; matplotlib.use(\"agg\")/g' ./*.py\n",
    "\n",
    "#get rid of IN[] lines\n",
    "!sed -i.bak '/# In\\[*/d' ./*.py\n",
    "\n",
    "#get rid of ipython lines\n",
    "!sed -i.bak '/ipython*/d' ./*.py\n",
    "\n",
    "!sed -i.bak '/NotebookFinder*/d' ./*.py\n",
    "\n",
    "#get rid of IN[] lines\n",
    "!sed -i.bak '/# In\\[*/d' ./*.py\n",
    "\n",
    "!sed -i.bak '/# coding:*/d' ./*.py\n",
    "\n",
    "!sed -i.bak 's/plt.show()*/pass/g' ./*.py\n",
    "\n",
    "!sed -i.bak 's/notebooks./scripts./g' ./*.py\n",
    "\n",
    "\n",
    "\n",
    "! rm *.bak\n",
    "! rm convert_nb_to_scripts-main.py\n",
    "\n",
    "\n",
    "\n",
    "\n"
   ]
  },
  {
   "cell_type": "code",
   "execution_count": null,
   "metadata": {
    "collapsed": false
   },
   "outputs": [
    {
     "name": "stdout",
     "output_type": "stream",
     "text": [
      "/global/u1/r/racah/projects/hur-detect/results/run38\n",
      "Building model and compiling functions...\n",
      "Starting training...\n",
      "['cam5_1_amip_run2.cam2.h2.1979-01-01-00000.nc', 'cam5_1_amip_run2.cam2.h2.1979-01-02-00000.nc', 'cam5_1_amip_run2.cam2.h2.1979-01-03-00000.nc', 'cam5_1_amip_run2.cam2.h2.1979-01-04-00000.nc', 'cam5_1_amip_run2.cam2.h2.1979-01-05-00000.nc', 'cam5_1_amip_run2.cam2.h2.1979-01-06-00000.nc']\n"
     ]
    }
   ],
   "source": [
    "! python hur_main.py -e 2 -n 6 -f 2 --fc 10 -c 1"
   ]
  },
  {
   "cell_type": "code",
   "execution_count": 33,
   "metadata": {
    "collapsed": false
   },
   "outputs": [
    {
     "name": "stdout",
     "output_type": "stream",
     "text": [
      "['lol', 'foo']\n"
     ]
    }
   ],
   "source": [
    "import sys\n",
    "args = sys.argv[1:]\n",
    "[args.remove(arg) for arg in args if 'local[' in arg and ']' in arg]\n",
    "[args.remove(arg) for arg in args if '--master' in arg]\n",
    "print args"
   ]
  },
  {
   "cell_type": "code",
   "execution_count": 12,
   "metadata": {
    "collapsed": false
   },
   "outputs": [
    {
     "data": {
      "text/plain": [
       "True"
      ]
     },
     "execution_count": 12,
     "metadata": {},
     "output_type": "execute_result"
    }
   ],
   "source": [
    "'local' in 'local[10]'"
   ]
  },
  {
   "cell_type": "code",
   "execution_count": null,
   "metadata": {
    "collapsed": true
   },
   "outputs": [],
   "source": []
  }
 ],
 "metadata": {
  "anaconda-cloud": {},
  "kernelspec": {
   "display_name": "Python [conda root]",
   "language": "python",
   "name": "conda-root-py"
  },
  "language_info": {
   "codemirror_mode": {
    "name": "ipython",
    "version": 2
   },
   "file_extension": ".py",
   "mimetype": "text/x-python",
   "name": "python",
   "nbconvert_exporter": "python",
   "pygments_lexer": "ipython2",
   "version": "2.7.12"
  }
 },
 "nbformat": 4,
 "nbformat_minor": 0
}
