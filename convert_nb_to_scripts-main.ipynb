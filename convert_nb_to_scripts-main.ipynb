{
 "cells": [
  {
   "cell_type": "code",
   "execution_count": 4,
   "metadata": {
    "collapsed": false
   },
   "outputs": [
    {
     "name": "stdout",
     "output_type": "stream",
     "text": [
      "[TerminalIPythonApp] WARNING | Subcommand `ipython nbconvert` is deprecated and will be removed in future versions.\n",
      "[TerminalIPythonApp] WARNING | You likely want to use `jupyter nbconvert` in the future\n",
      "[NbConvertApp] Converting notebook ./climate_data_tutorial.ipynb to script\n",
      "[NbConvertApp] Writing 1198 bytes to ./climate_data_tutorial.py\n",
      "[NbConvertApp] Converting notebook ./convert_nb_to_scripts-main.ipynb to script\n",
      "[NbConvertApp] Writing 1110 bytes to ./convert_nb_to_scripts-main.py\n",
      "[NbConvertApp] Converting notebook ./hur_main.ipynb to script\n",
      "[NbConvertApp] Writing 3440 bytes to ./hur_main.py\n"
     ]
    }
   ],
   "source": [
    "! ipython nbconvert --to script ./*.ipynb\n",
    "\n",
    "import os\n",
    "import sys\n",
    "\n",
    "#.txt means file was open/not saved so converted to .txt not .py\n",
    "for fil in os.listdir('.'):\n",
    "    assert '.txt' not in fil, \"Save all your notebooks first!\"\n",
    "        \n",
    "        \n",
    "\n",
    "! sed -i.bak 's/# coding: utf-8/import matplotlib; matplotlib.use(\"agg\")/g' ./*.py\n",
    "\n",
    "#get rid of IN[] lines\n",
    "!sed -i.bak '/# In\\[*/d' ./*.py\n",
    "\n",
    "#get rid of ipython lines\n",
    "!sed -i.bak '/ipython*/d' ./*.py\n",
    "\n",
    "!sed -i.bak '/NotebookFinder*/d' ./*.py\n",
    "\n",
    "#get rid of IN[] lines\n",
    "!sed -i.bak '/# In\\[*/d' ./*.py\n",
    "\n",
    "!sed -i.bak '/# coding:*/d' ./*.py\n",
    "\n",
    "!sed -i.bak 's/plt.show()*/pass/g' ./*.py\n",
    "\n",
    "!sed -i.bak 's/notebooks./scripts./g' ./*.py\n",
    "\n",
    "\n",
    "\n",
    "! rm *.bak\n",
    "! rm convert_nb_to_scripts-main.py\n",
    "\n",
    "\n",
    "\n",
    "\n"
   ]
  },
  {
   "cell_type": "code",
   "execution_count": 5,
   "metadata": {
    "collapsed": false
   },
   "outputs": [
    {
     "name": "stdout",
     "output_type": "stream",
     "text": [
      "/global/u1/r/racah/projects/mantissa-climate/results/run89\n",
      "getting data...\n",
      "40\n",
      "Building model and compiling functions...\n",
      "Starting training...\n",
      "Epoch 1 of 2 took 0.661s\n",
      "\ttraining los:\t\t13.9705\n",
      "\ttraining acc:\t\t0.0003 %\n",
      "  validation loss:\t\t13.792468\n",
      "  validation accuracy:\t\t0.00 %\n",
      "Epoch 2 of 2 took 0.516s\n",
      "\ttraining los:\t\t13.9060\n",
      "\ttraining acc:\t\t0.0025 %\n"
     ]
    }
   ],
   "source": [
    "! python hur_main.py -e 2 -n 40 -f 5 --fc 10 -c 1"
   ]
  },
  {
   "cell_type": "code",
   "execution_count": null,
   "metadata": {
    "collapsed": true
   },
   "outputs": [],
   "source": []
  }
 ],
 "metadata": {
  "kernelspec": {
   "display_name": "deeplearning",
   "language": "python",
   "name": "deeplearning"
  },
  "language_info": {
   "codemirror_mode": {
    "name": "ipython",
    "version": 2
   },
   "file_extension": ".py",
   "mimetype": "text/x-python",
   "name": "python",
   "nbconvert_exporter": "python",
   "pygments_lexer": "ipython2",
   "version": "2.7.12"
  }
 },
 "nbformat": 4,
 "nbformat_minor": 0
}
