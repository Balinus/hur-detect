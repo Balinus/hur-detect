{
 "cells": [
  {
   "cell_type": "code",
   "execution_count": 1,
   "metadata": {
    "collapsed": false
   },
   "outputs": [
    {
     "name": "stdout",
     "output_type": "stream",
     "text": [
      "importing Jupyter notebook from notebooks/run_dir.ipynb\n",
      "importing Jupyter notebook from notebooks/helper_fxns.ipynb\n",
      "importing Jupyter notebook from notebooks/train_val.ipynb\n",
      "importing Jupyter notebook from notebooks/print_n_plot.ipynb\n",
      "importing Jupyter notebook from notebooks/build_network.ipynb\n",
      "importing Jupyter notebook from notebooks/netcdf_loader.ipynb\n"
     ]
    }
   ],
   "source": [
    "import sys\n",
    "import os\n",
    "import matplotlib\n",
    "%matplotlib inline\n",
    "import argparse\n",
    "import numpy as np\n",
    "from lasagne.nonlinearities import *\n",
    "from lasagne.init import *\n",
    "from scripts.nbfinder import NotebookFinder\n",
    "sys.meta_path.append(NotebookFinder())\n",
    "\n",
    "'''before we import theano anywhere else we want to make sure we specify \n",
    "a unique directory for compiling, so we dont get into a locking issue\n",
    "if we run multiple hur_mains at once on a global file system. Haven't truly implementedthis yet '''\n",
    "from notebooks.run_dir import create_run_dir\n",
    "from notebooks.helper_fxns import dump_hyperparams\n",
    "\n",
    "from notebooks.train_val import train, test\n",
    "from notebooks.print_n_plot import plot_ims_with_boxes\n",
    "from notebooks.build_network import build_network\n",
    "from notebooks.netcdf_loader import bbox_iterator\n",
    "from notebooks.helper_fxns import setup_logging"
   ]
  },
  {
   "cell_type": "code",
   "execution_count": 2,
   "metadata": {
    "collapsed": false
   },
   "outputs": [],
   "source": [
    "default_args = {                  'learning_rate': 0.0001,\n",
    "                                  'num_tr_days': 150,\n",
    "                                  'input_shape': (None,16,768,1152),\n",
    "                                  'dropout_p': 0, \n",
    "                                  'weight_decay': 0.0005, \n",
    "                                  'num_filters': 128, \n",
    "                                  'num_layers': 6,\n",
    "                                  'num_extra_conv': 0,\n",
    "                                  'momentum': 0.9,\n",
    "                                  'lambda_ae' : 10,\n",
    "                                  'coord_penalty': 5,\n",
    "                                  'size_penalty': 5,\n",
    "                                  'nonobj_penalty': 0.5,\n",
    "                                  'iou_thresh' : 0.1,\n",
    "                                  'conf_thresh': 0.4,\n",
    "                                  'shuffle': True,\n",
    "                                  'num_fc_units': \"None\",\n",
    "                                  'metadata_dir': \"/storeSSD/eracah/data/metadata/\",\n",
    "                                  'data_dir': \"/storeSSD/eracah/data/netcdf_ims\",\n",
    "                                  'batch_size' : 1,\n",
    "                                  'ae_weight': 0.0,\n",
    "                                  'epochs': 10000,\n",
    "                                  'tr_years': [1980,1983],\n",
    "                                  'val_years': [1982],\n",
    "                                  'save_weights': True,\n",
    "                                  'num_classes': 4,\n",
    "                                  'labels_only': True,\n",
    "                                  'time_chunks_per_example': 1,\n",
    "                                  'filter_dim':5,\n",
    "                                  'scale_factor': 64,\n",
    "                                  'nonlinearity': LeakyRectify(0.1),\n",
    "                                  'w_init': HeUniform(),\n",
    "                                  \"batch_norm\" : False,\n",
    "                                  \"num_ims_to_plot\" : 3,\n",
    "                                  \"test\": False,\n",
    "                                  \"yolo_batch_norm\" : True,\n",
    "                                  \"yolo_load_path\": \"None\",\n",
    "                                  \"ae_load_path\": \"None\", # \"/storeSSD/cbeckham/nersc/models/output/full_image_1/12.model\"\n",
    "                \n",
    "                                  \n",
    "                    }"
   ]
  },
  {
   "cell_type": "code",
   "execution_count": 3,
   "metadata": {
    "collapsed": false
   },
   "outputs": [],
   "source": [
    "# if inside a notebook, then get rid of weird notebook arguments, so that arg parsing still works\n",
    "if any([\"jupyter\" in arg for arg in sys.argv]):\n",
    "    sys.argv=sys.argv[:1]\n",
    "    default_args.update({\"num_tr_days\":2, \"num_filters\":2, \"num_layers\": 1})\n",
    "    \n",
    "    \n",
    "\n",
    "parser = argparse.ArgumentParser(formatter_class=argparse.ArgumentDefaultsHelpFormatter)\n",
    "for k,v in default_args.iteritems():\n",
    "    parser.add_argument('--' + k, type=type(v), default=v, help=k)\n",
    "\n",
    "args = parser.parse_args()"
   ]
  },
  {
   "cell_type": "code",
   "execution_count": 4,
   "metadata": {
    "collapsed": false
   },
   "outputs": [],
   "source": [
    "run_dir = create_run_dir()\n",
    "\n",
    "'''set params'''\n",
    "kwargs = default_args\n",
    "kwargs.update(args.__dict__)\n",
    "kwargs['num_val_days'] = int(np.ceil(0.2*kwargs['num_tr_days']))\n",
    "kwargs['save_path'] = run_dir\n",
    "\n",
    "'''save hyperparams'''\n",
    "dump_hyperparams(kwargs,run_dir)\n",
    "\n",
    "kwargs[\"logger\"] = setup_logging(kwargs['save_path'])"
   ]
  },
  {
   "cell_type": "code",
   "execution_count": 5,
   "metadata": {
    "collapsed": false
   },
   "outputs": [
    {
     "name": "stderr",
     "output_type": "stream",
     "text": [
      "\n",
      "yolo: \n",
      "\n",
      "<lasagne.layers.input.InputLayer object at 0x7fea7fd798d0>, (None, 16, 768, 1152)\n",
      "<lasagne.layers.conv.Conv2DLayer object at 0x7fea7fd0b610>, (None, 2, 384, 576)\n",
      "<lasagne.layers.normalization.BatchNormLayer object at 0x7fea90575c10>, (None, 2, 384, 576)\n",
      "<lasagne.layers.special.NonlinearityLayer object at 0x7fea7fd24ed0>, (None, 2, 384, 576)\n",
      "<lasagne.layers.conv.Conv2DLayer object at 0x7fea7fcbe090>, (None, 5, 384, 576)\n",
      "<lasagne.layers.normalization.BatchNormLayer object at 0x7fea7fcbe210>, (None, 2, 384, 576)\n",
      "<lasagne.layers.special.NonlinearityLayer object at 0x7fea7fcbe890>, (None, 2, 384, 576)\n",
      "<lasagne.layers.conv.Conv2DLayer object at 0x7fea7fcbea10>, (None, 4, 384, 576)\n",
      "<lasagne.layers.merge.ConcatLayer object at 0x7fea7fcbeb90>, (None, 9, 384, 576)\n",
      "\n",
      "ae: \n",
      "\n",
      "<lasagne.layers.input.InputLayer object at 0x7fea7fd792d0>, (None, 16, 768, 1152)\n",
      "<lasagne.layers.conv.Conv2DLayer object at 0x7fea7fd79510>, (None, 2, 384, 576)\n",
      "<lasagne.layers.special.InverseLayer object at 0x7fea7fd79590>, (None, 16, 768, 1152)\n",
      "\n",
      "encoder: \n",
      "\n",
      "<lasagne.layers.input.InputLayer object at 0x7fea7fd798d0>, (None, 16, 768, 1152)\n",
      "<lasagne.layers.conv.Conv2DLayer object at 0x7fea7fd0b610>, (None, 2, 384, 576)\n"
     ]
    },
    {
     "name": "stdout",
     "output_type": "stream",
     "text": [
      "Building model and compiling functions...\n"
     ]
    }
   ],
   "source": [
    "'''get network and train_fns'''\n",
    "fns, networks = build_network(kwargs)"
   ]
  },
  {
   "cell_type": "code",
   "execution_count": 5,
   "metadata": {
    "collapsed": false
   },
   "outputs": [
    {
     "ename": "NameError",
     "evalue": "name 'kwargs' is not defined",
     "output_type": "error",
     "traceback": [
      "\u001b[0;31m---------------------------------------------------------------------------\u001b[0m",
      "\u001b[0;31mNameError\u001b[0m                                 Traceback (most recent call last)",
      "\u001b[0;32m<ipython-input-5-2c11a3e97f8d>\u001b[0m in \u001b[0;36m<module>\u001b[0;34m()\u001b[0m\n\u001b[0;32m----> 1\u001b[0;31m \u001b[0;32mif\u001b[0m \u001b[0mkwargs\u001b[0m\u001b[0;34m[\u001b[0m\u001b[0;34m\"test\"\u001b[0m\u001b[0;34m]\u001b[0m \u001b[0;34m==\u001b[0m \u001b[0mTrue\u001b[0m\u001b[0;34m:\u001b[0m\u001b[0;34m\u001b[0m\u001b[0m\n\u001b[0m\u001b[1;32m      2\u001b[0m     \u001b[0mtest\u001b[0m\u001b[0;34m(\u001b[0m\u001b[0mbbox_iterator\u001b[0m\u001b[0;34m,\u001b[0m \u001b[0mkwargs\u001b[0m\u001b[0;34m,\u001b[0m \u001b[0mnetworks\u001b[0m\u001b[0;34m,\u001b[0m \u001b[0mfns\u001b[0m\u001b[0;34m)\u001b[0m\u001b[0;34m\u001b[0m\u001b[0m\n\u001b[1;32m      3\u001b[0m \u001b[0;32melse\u001b[0m\u001b[0;34m:\u001b[0m\u001b[0;34m\u001b[0m\u001b[0m\n\u001b[1;32m      4\u001b[0m     \u001b[0mtrain\u001b[0m\u001b[0;34m(\u001b[0m\u001b[0mbbox_iterator\u001b[0m\u001b[0;34m,\u001b[0m \u001b[0mkwargs\u001b[0m\u001b[0;34m,\u001b[0m \u001b[0mnetworks\u001b[0m\u001b[0;34m,\u001b[0m \u001b[0mfns\u001b[0m\u001b[0;34m)\u001b[0m\u001b[0;34m\u001b[0m\u001b[0m\n\u001b[1;32m      5\u001b[0m \u001b[0;34m\u001b[0m\u001b[0m\n",
      "\u001b[0;31mNameError\u001b[0m: name 'kwargs' is not defined"
     ]
    }
   ],
   "source": [
    "if kwargs[\"test\"] == True:\n",
    "    test(bbox_iterator, kwargs, networks, fns)\n",
    "else:\n",
    "    train(bbox_iterator, kwargs, networks, fns)\n",
    "\n"
   ]
  },
  {
   "cell_type": "code",
   "execution_count": null,
   "metadata": {
    "collapsed": true
   },
   "outputs": [],
   "source": []
  }
 ],
 "metadata": {
  "anaconda-cloud": {},
  "kernelspec": {
   "display_name": "Python [conda root]",
   "language": "python",
   "name": "conda-root-py"
  },
  "language_info": {
   "codemirror_mode": {
    "name": "ipython",
    "version": 2
   },
   "file_extension": ".py",
   "mimetype": "text/x-python",
   "name": "python",
   "nbconvert_exporter": "python",
   "pygments_lexer": "ipython2",
   "version": "2.7.12"
  }
 },
 "nbformat": 4,
 "nbformat_minor": 0
}
