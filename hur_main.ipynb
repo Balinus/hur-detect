{
 "cells": [
  {
   "cell_type": "code",
   "execution_count": 1,
   "metadata": {
    "collapsed": false
   },
   "outputs": [
    {
     "name": "stderr",
     "output_type": "stream",
     "text": [
      "Using gpu device 1: TITAN X (Pascal) (CNMeM is disabled, cuDNN 5105)\n"
     ]
    },
    {
     "name": "stdout",
     "output_type": "stream",
     "text": [
      "importing Jupyter notebook from notebooks/run_dir.ipynb\n",
      "importing Jupyter notebook from notebooks/helper_fxns.ipynb\n",
      "importing Jupyter notebook from notebooks/train_val.ipynb\n",
      "importing Jupyter notebook from notebooks/print_n_plot.ipynb\n",
      "importing Jupyter notebook from notebooks/build_network.ipynb\n",
      "importing Jupyter notebook from notebooks/netcdf_loader.ipynb\n",
      "importing Jupyter notebook from notebooks/configs.ipynb\n"
     ]
    }
   ],
   "source": [
    "import sys\n",
    "import os\n",
    "import matplotlib\n",
    "%matplotlib inline\n",
    "import argparse\n",
    "import numpy as np\n",
    "from lasagne.nonlinearities import *\n",
    "from lasagne.init import *\n",
    "from scripts.nbfinder import NotebookFinder\n",
    "sys.meta_path.append(NotebookFinder())\n",
    "\n",
    "'''before we import theano anywhere else we want to make sure we specify \n",
    "a unique directory for compiling, so we dont get into a locking issue\n",
    "if we run multiple hur_mains at once on a global file system. Haven't truly implementedthis yet '''\n",
    "from notebooks.run_dir import create_run_dir\n",
    "from notebooks.helper_fxns import dump_hyperparams\n",
    "\n",
    "from notebooks.train_val import *\n",
    "from notebooks.build_network import build_network\n",
    "from notebooks.load_data.netcdf_loader import BBoxIterator\n",
    "from notebooks.helper_fxns import *\n",
    "from notebooks.configs import *"
   ]
  },
  {
   "cell_type": "code",
   "execution_count": null,
   "metadata": {
    "collapsed": true
   },
   "outputs": [],
   "source": [
    "# if inside a notebook, then get rid of weird notebook arguments, so that arg parsing still works\n",
    "if any([\"jupyter\" in arg for arg in sys.argv]):\n",
    "    sys.argv=sys.argv[:1]\n",
    "    default_args.update({\"num_layers\": 6, \"num_test_days\":3,\"ignore_plot_fails\":0, \"test\":False, \"no_plots\":True, \"num_filters\": 2, \"filters_scale\": 0.01, \"num_tr_days\":3, \"lambda_ae\":0})\n",
    "    \n",
    "\n",
    "parser = argparse.ArgumentParser(formatter_class=argparse.ArgumentDefaultsHelpFormatter)\n",
    "for k,v in default_args.iteritems():\n",
    "    parser.add_argument('--' + k, type=type(v), default=v, help=k)\n",
    "\n",
    "args = parser.parse_args()\n",
    "kwargs = process_kwargs(args.__dict__)"
   ]
  },
  {
   "cell_type": "code",
   "execution_count": 2,
   "metadata": {
    "collapsed": false
   },
   "outputs": [],
   "source": [
    "fns, networks = build_network(kwargs)"
   ]
  },
  {
   "cell_type": "code",
   "execution_count": 5,
   "metadata": {
    "collapsed": false
   },
   "outputs": [
    {
     "name": "stderr",
     "output_type": "stream",
     "text": [
      "\n",
      "\n",
      "<lasagne.layers.input.InputLayer object at 0x7f0be31bb350> : (None, 16, 768, 1152)\n",
      "<lasagne.layers.conv.Conv2DLayer object at 0x7f0be31bbc50> : (None, 1, 384, 576)\n",
      "<lasagne.layers.conv.Conv2DLayer object at 0x7f0be314c050> : (None, 2, 192, 288)\n",
      "<lasagne.layers.conv.Conv2DLayer object at 0x7f0be314c3d0> : (None, 5, 96, 144)\n",
      "<lasagne.layers.conv.Conv2DLayer object at 0x7f0be314c750> : (None, 7, 48, 72)\n",
      "<lasagne.layers.conv.Conv2DLayer object at 0x7f0be314cad0> : (None, 10, 24, 36)\n",
      "<lasagne.layers.conv.Conv2DLayer object at 0x7f0be314ce50> : (None, 12, 12, 18)\n",
      "<lasagne.layers.normalization.BatchNormLayer object at 0x7f0be31bbc10> : (None, 12, 12, 18)\n",
      "<lasagne.layers.conv.Conv2DLayer object at 0x7f0be3185490> : (None, 4, 12, 18)\n",
      "<lasagne.layers.conv.Conv2DLayer object at 0x7f0be3185110> : (None, 2, 12, 18)\n",
      "<lasagne.layers.special.NonlinearityLayer object at 0x7f0c4c487550> : (None, 2, 12, 18)\n",
      "<lasagne.layers.conv.Conv2DLayer object at 0x7f0c4c4879d0> : (None, 4, 12, 18)\n",
      "<lasagne.layers.special.NonlinearityLayer object at 0x7f0c4c487f50> : (None, 4, 12, 18)\n",
      "<lasagne.layers.merge.ConcatLayer object at 0x7f0be3185650> : (None, 10, 12, 18)\n",
      "7500\n",
      "\n",
      "\n"
     ]
    },
    {
     "name": "stdout",
     "output_type": "stream",
     "text": [
      "beginning epoch 0\n",
      "iterator constructor:  0.0178401470184\n",
      "initial io and vstack:  2.54320597649\n",
      "make gt masks:  0.0317249298096\n",
      "total iterate time:  2.72905993462\n",
      "actual iteration time:  0.0938589572906\n",
      "total iterate time:  6.103515625e-05\n",
      "actual iteration time:  0.0945651531219\n",
      "total iterate time:  9.70363616943e-05\n",
      "actual iteration time:  0.11394906044\n",
      "total iterate time:  4.10079956055e-05\n",
      "actual iteration time:  0.155152082443\n",
      "initial io and vstack:  3.0408000946\n",
      "make gt masks:  0.0312600135803\n",
      "total iterate time:  3.27677989006\n",
      "actual iteration time:  0.168020963669\n",
      "total iterate time:  0.000143051147461\n",
      "actual iteration time:  0.110559940338\n",
      "total iterate time:  7.08103179932e-05\n",
      "actual iteration time:  0.119505882263\n",
      "total iterate time:  9.41753387451e-05\n",
      "actual iteration time:  0.12073802948\n",
      "initial io and vstack:  2.92010903358\n",
      "make gt masks:  0.0310730934143\n",
      "total iterate time:  3.09691286087\n",
      "actual iteration time:  0.122805118561\n",
      "total iterate time:  0.000102996826172\n",
      "actual iteration time:  0.1282081604\n",
      "total iterate time:  0.000133037567139\n",
      "actual iteration time:  0.13822889328\n",
      "total iterate time:  7.48634338379e-05\n",
      "actual iteration time:  0.133843898773\n",
      "postprocess time:  0.00382900238037\n",
      "beginning epoch 0\n",
      "iterator constructor:  0.00516605377197\n",
      "initial io and vstack:  2.39852690697\n",
      "make gt masks:  0.0324728488922\n",
      "total iterate time:  2.57350420952\n",
      "actual iteration time:  0.134847164154\n",
      "total iterate time:  5.31673431396e-05\n",
      "actual iteration time:  0.129951953888\n",
      "total iterate time:  3.50475311279e-05\n"
     ]
    },
    {
     "name": "stderr",
     "output_type": "stream",
     "text": [
      "Epoch 1 of 10000\n",
      "\t tr took 10.611s\n",
      "\t\ttr_ETC_ap:\t\t0.0000\n",
      "\t\ttr_AR_ap:\t\t0.0000\n",
      "\t\ttr_TC_ap:\t\t0.0000\n",
      "\t\ttr_loss:\t\t157.8246\n",
      "\t\ttr_TD_ap:\t\t0.9071\n",
      "\t\ttr_mAP:\t\t0.2268\n",
      "\t\ttr_ae_loss:\t\t0.3431\n",
      "\t\ttr_yolo_loss:\t\t157.8246\n",
      "\t val took 3.117s\n",
      "\t\tval_ae_loss:\t\t0.3318\n",
      "\t\tval_TD_ap:\t\t0.8924\n",
      "\t\tval_TC_ap:\t\t0.0000\n",
      "\t\tval_AR_ap:\t\t0.0000\n",
      "\t\tval_loss:\t\t98.3121\n",
      "\t\tval_mAP:\t\t0.2258\n",
      "\t\tval_ETC_ap:\t\t0.0108\n",
      "\t\tval_yolo_loss:\t\t98.3121\n"
     ]
    },
    {
     "name": "stdout",
     "output_type": "stream",
     "text": [
      "actual iteration time:  0.137268066406\n",
      "total iterate time:  4.10079956055e-05\n",
      "actual iteration time:  0.138082027435\n",
      "postprocess time:  0.00158596038818\n",
      "beginning epoch 1\n",
      "iterator constructor:  0.00510096549988\n",
      "initial io and vstack:  2.05978298187\n",
      "make gt masks:  0.0291218757629\n",
      "total iterate time:  2.23155212402\n",
      "actual iteration time:  0.125195980072\n",
      "total iterate time:  0.000148057937622\n",
      "actual iteration time:  0.131594896317\n",
      "total iterate time:  0.00017786026001\n",
      "actual iteration time:  0.156078100204\n",
      "total iterate time:  0.000110149383545\n",
      "actual iteration time:  0.128196001053\n",
      "initial io and vstack:  2.6516520977\n",
      "make gt masks:  0.0286688804626\n",
      "total iterate time:  3.11211299896\n",
      "actual iteration time:  0.125929832458\n",
      "total iterate time:  0.000110149383545\n",
      "actual iteration time:  0.210923194885\n",
      "total iterate time:  7.70092010498e-05\n",
      "actual iteration time:  0.14852309227\n",
      "total iterate time:  0.000123023986816\n",
      "actual iteration time:  0.131092786789\n",
      "initial io and vstack:  2.42513394356\n",
      "make gt masks:  0.0300300121307\n",
      "total iterate time:  2.60349607468\n",
      "actual iteration time:  0.127801895142\n",
      "total iterate time:  0.000131845474243\n",
      "actual iteration time:  0.128162145615\n",
      "total iterate time:  5.00679016113e-05\n",
      "actual iteration time:  0.136152029037\n",
      "total iterate time:  0.00012993812561\n",
      "actual iteration time:  0.130324840546\n",
      "postprocess time:  0.00195407867432\n",
      "beginning epoch 1\n",
      "iterator constructor:  0.00531005859375\n",
      "initial io and vstack:  2.0991089344\n",
      "make gt masks:  0.0281879901886\n",
      "total iterate time:  2.27288794518\n",
      "actual iteration time:  0.124682188034\n",
      "total iterate time:  6.69956207275e-05\n",
      "actual iteration time:  0.126966953278\n",
      "total iterate time:  0.000112056732178\n"
     ]
    },
    {
     "name": "stderr",
     "output_type": "stream",
     "text": [
      "Epoch 2 of 10000\n",
      "\t tr took 9.634s\n",
      "\t\ttr_ETC_ap:\t\t0.0007\n",
      "\t\ttr_AR_ap:\t\t0.0000\n",
      "\t\ttr_TC_ap:\t\t0.0000\n",
      "\t\ttr_loss:\t\t135.7632\n",
      "\t\ttr_TD_ap:\t\t0.5555\n",
      "\t\ttr_mAP:\t\t0.1390\n",
      "\t\ttr_ae_loss:\t\t0.3431\n",
      "\t\ttr_yolo_loss:\t\t135.7632\n",
      "\t val took 2.778s\n",
      "\t\tval_ae_loss:\t\t0.3318\n",
      "\t\tval_TD_ap:\t\t0.4860\n",
      "\t\tval_TC_ap:\t\t0.0000\n",
      "\t\tval_AR_ap:\t\t0.0000\n",
      "\t\tval_loss:\t\t100.4219\n",
      "\t\tval_mAP:\t\t0.1219\n",
      "\t\tval_ETC_ap:\t\t0.0016\n",
      "\t\tval_yolo_loss:\t\t100.4219\n"
     ]
    },
    {
     "name": "stdout",
     "output_type": "stream",
     "text": [
      "actual iteration time:  0.13076210022\n",
      "total iterate time:  0.000103950500488\n",
      "actual iteration time:  0.119355916977\n",
      "postprocess time:  0.00165319442749\n",
      "beginning epoch 2\n",
      "iterator constructor:  0.00516796112061\n",
      "initial io and vstack:  2.24046897888\n",
      "make gt masks:  0.0300230979919\n",
      "total iterate time:  2.41761302948\n",
      "actual iteration time:  0.126578092575\n",
      "total iterate time:  6.38961791992e-05\n",
      "actual iteration time:  0.124732971191\n",
      "total iterate time:  0.000193119049072\n",
      "actual iteration time:  0.130016088486\n",
      "total iterate time:  3.38554382324e-05\n",
      "actual iteration time:  0.133677005768\n",
      "initial io and vstack:  2.8784840107\n",
      "make gt masks:  0.0297548770905\n",
      "total iterate time:  3.52822995186\n",
      "actual iteration time:  0.116024971008\n",
      "total iterate time:  0.000118970870972\n",
      "actual iteration time:  0.124691009521\n",
      "total iterate time:  0.000124931335449\n",
      "actual iteration time:  0.116457939148\n",
      "total iterate time:  0.000160217285156\n",
      "actual iteration time:  0.116901159286\n",
      "initial io and vstack:  2.39348912239\n",
      "make gt masks:  0.0314240455627\n",
      "total iterate time:  2.57725000381\n",
      "actual iteration time:  0.118020057678\n",
      "total iterate time:  0.000108003616333\n",
      "actual iteration time:  0.119543075562\n",
      "total iterate time:  0.000162124633789\n",
      "actual iteration time:  0.121448993683\n",
      "total iterate time:  0.000105142593384\n",
      "actual iteration time:  0.150574922562\n",
      "postprocess time:  0.00180602073669\n",
      "beginning epoch 2\n",
      "iterator constructor:  0.00504589080811\n",
      "initial io and vstack:  2.26548910141\n",
      "make gt masks:  0.0278680324554\n",
      "total iterate time:  2.44109916687\n",
      "actual iteration time:  0.106059074402\n",
      "total iterate time:  3.69548797607e-05\n",
      "actual iteration time:  0.105730772018\n",
      "total iterate time:  3.40938568115e-05\n"
     ]
    },
    {
     "name": "stderr",
     "output_type": "stream",
     "text": [
      "Epoch 3 of 10000\n",
      "\t tr took 10.028s\n",
      "\t\ttr_ETC_ap:\t\t0.0005\n",
      "\t\ttr_AR_ap:\t\t0.0000\n",
      "\t\ttr_TC_ap:\t\t0.0000\n",
      "\t\ttr_loss:\t\t123.4181\n",
      "\t\ttr_TD_ap:\t\t0.4162\n",
      "\t\ttr_mAP:\t\t0.1042\n",
      "\t\ttr_ae_loss:\t\t0.3431\n",
      "\t\ttr_yolo_loss:\t\t123.4181\n",
      "\t val took 2.849s\n",
      "\t\tval_ae_loss:\t\t0.3318\n",
      "\t\tval_TD_ap:\t\t0.4993\n",
      "\t\tval_TC_ap:\t\t0.0000\n",
      "\t\tval_AR_ap:\t\t0.0000\n",
      "\t\tval_loss:\t\t92.6194\n",
      "\t\tval_mAP:\t\t0.1248\n",
      "\t\tval_ETC_ap:\t\t0.0000\n",
      "\t\tval_yolo_loss:\t\t92.6194\n"
     ]
    },
    {
     "name": "stdout",
     "output_type": "stream",
     "text": [
      "actual iteration time:  0.0961539745331\n",
      "total iterate time:  6.00814819336e-05\n",
      "actual iteration time:  0.0975840091705\n",
      "postprocess time:  0.00132203102112\n",
      "beginning epoch 3\n",
      "iterator constructor:  0.00969815254211\n",
      "initial io and vstack:  2.41364216805\n",
      "make gt masks:  0.0321710109711\n",
      "total iterate time:  2.66719913483\n",
      "actual iteration time:  0.107645988464\n",
      "total iterate time:  0.000104904174805\n",
      "actual iteration time:  0.114868164062\n",
      "total iterate time:  9.29832458496e-05\n",
      "actual iteration time:  0.110311985016\n",
      "total iterate time:  6.89029693604e-05\n",
      "actual iteration time:  0.106091022491\n"
     ]
    },
    {
     "name": "stderr",
     "output_type": "stream",
     "text": [
      "ERROR:root:Internal Python error in the inspect module.\n",
      "Below is the traceback from this internal error.\n",
      "\n"
     ]
    },
    {
     "name": "stdout",
     "output_type": "stream",
     "text": [
      "Traceback (most recent call last):\n",
      "  File \"/usr/local/lib/python2.7/dist-packages/IPython/core/ultratb.py\", line 1132, in get_records\n",
      "    return _fixed_getinnerframes(etb, number_of_lines_of_context, tb_offset)\n",
      "  File \"/usr/local/lib/python2.7/dist-packages/IPython/core/ultratb.py\", line 313, in wrapped\n",
      "    return f(*args, **kwargs)\n",
      "  File \"/usr/local/lib/python2.7/dist-packages/IPython/core/ultratb.py\", line 358, in _fixed_getinnerframes\n",
      "    records = fix_frame_records_filenames(inspect.getinnerframes(etb, context))\n",
      "  File \"/usr/lib/python2.7/inspect.py\", line 1049, in getinnerframes\n",
      "    framelist.append((tb.tb_frame,) + getframeinfo(tb, context))\n",
      "  File \"/usr/lib/python2.7/inspect.py\", line 1009, in getframeinfo\n",
      "    filename = getsourcefile(frame) or getfile(frame)\n",
      "  File \"/usr/lib/python2.7/inspect.py\", line 454, in getsourcefile\n",
      "    if hasattr(getmodule(object, filename), '__loader__'):\n",
      "  File \"/usr/lib/python2.7/inspect.py\", line 497, in getmodule\n",
      "    f = getabsfile(module)\n",
      "  File \"/usr/lib/python2.7/inspect.py\", line 466, in getabsfile\n",
      "    _filename = getsourcefile(object) or getfile(object)\n",
      "  File \"/usr/lib/python2.7/inspect.py\", line 448, in getsourcefile\n",
      "    if 'b' in mode and string.lower(filename[-len(suffix):]) == suffix:\n",
      "  File \"/usr/lib/python2.7/string.py\", line 222, in lower\n",
      "    def lower(s):\n",
      "KeyboardInterrupt\n"
     ]
    },
    {
     "ename": "IndexError",
     "evalue": "string index out of range",
     "output_type": "error",
     "traceback": [
      "\u001b[0;31m---------------------------------------------------------------------------\u001b[0m",
      "\u001b[0;31mIndexError\u001b[0m                                Traceback (most recent call last)",
      "\u001b[0;32m/usr/local/lib/python2.7/dist-packages/IPython/core/interactiveshell.pyc\u001b[0m in \u001b[0;36mrun_code\u001b[0;34m(self, code_obj, result)\u001b[0m\n\u001b[1;32m   2896\u001b[0m             \u001b[0;32mif\u001b[0m \u001b[0mresult\u001b[0m \u001b[0;32mis\u001b[0m \u001b[0;32mnot\u001b[0m \u001b[0mNone\u001b[0m\u001b[0;34m:\u001b[0m\u001b[0;34m\u001b[0m\u001b[0m\n\u001b[1;32m   2897\u001b[0m                 \u001b[0mresult\u001b[0m\u001b[0;34m.\u001b[0m\u001b[0merror_in_exec\u001b[0m \u001b[0;34m=\u001b[0m \u001b[0msys\u001b[0m\u001b[0;34m.\u001b[0m\u001b[0mexc_info\u001b[0m\u001b[0;34m(\u001b[0m\u001b[0;34m)\u001b[0m\u001b[0;34m[\u001b[0m\u001b[0;36m1\u001b[0m\u001b[0;34m]\u001b[0m\u001b[0;34m\u001b[0m\u001b[0m\n\u001b[0;32m-> 2898\u001b[0;31m             \u001b[0mself\u001b[0m\u001b[0;34m.\u001b[0m\u001b[0mshowtraceback\u001b[0m\u001b[0;34m(\u001b[0m\u001b[0;34m)\u001b[0m\u001b[0;34m\u001b[0m\u001b[0m\n\u001b[0m\u001b[1;32m   2899\u001b[0m         \u001b[0;32melse\u001b[0m\u001b[0;34m:\u001b[0m\u001b[0;34m\u001b[0m\u001b[0m\n\u001b[1;32m   2900\u001b[0m             \u001b[0moutflag\u001b[0m \u001b[0;34m=\u001b[0m \u001b[0;36m0\u001b[0m\u001b[0;34m\u001b[0m\u001b[0m\n",
      "\u001b[0;32m/usr/local/lib/python2.7/dist-packages/IPython/core/interactiveshell.pyc\u001b[0m in \u001b[0;36mshowtraceback\u001b[0;34m(self, exc_tuple, filename, tb_offset, exception_only)\u001b[0m\n\u001b[1;32m   1822\u001b[0m                     \u001b[0;32mexcept\u001b[0m \u001b[0mException\u001b[0m\u001b[0;34m:\u001b[0m\u001b[0;34m\u001b[0m\u001b[0m\n\u001b[1;32m   1823\u001b[0m                         stb = self.InteractiveTB.structured_traceback(etype,\n\u001b[0;32m-> 1824\u001b[0;31m                                             value, tb, tb_offset=tb_offset)\n\u001b[0m\u001b[1;32m   1825\u001b[0m \u001b[0;34m\u001b[0m\u001b[0m\n\u001b[1;32m   1826\u001b[0m                     \u001b[0mself\u001b[0m\u001b[0;34m.\u001b[0m\u001b[0m_showtraceback\u001b[0m\u001b[0;34m(\u001b[0m\u001b[0metype\u001b[0m\u001b[0;34m,\u001b[0m \u001b[0mvalue\u001b[0m\u001b[0;34m,\u001b[0m \u001b[0mstb\u001b[0m\u001b[0;34m)\u001b[0m\u001b[0;34m\u001b[0m\u001b[0m\n",
      "\u001b[0;32m/usr/local/lib/python2.7/dist-packages/IPython/core/ultratb.pyc\u001b[0m in \u001b[0;36mstructured_traceback\u001b[0;34m(self, etype, value, tb, tb_offset, number_of_lines_of_context)\u001b[0m\n\u001b[1;32m   1404\u001b[0m         \u001b[0mself\u001b[0m\u001b[0;34m.\u001b[0m\u001b[0mtb\u001b[0m \u001b[0;34m=\u001b[0m \u001b[0mtb\u001b[0m\u001b[0;34m\u001b[0m\u001b[0m\n\u001b[1;32m   1405\u001b[0m         return FormattedTB.structured_traceback(\n\u001b[0;32m-> 1406\u001b[0;31m             self, etype, value, tb, tb_offset, number_of_lines_of_context)\n\u001b[0m\u001b[1;32m   1407\u001b[0m \u001b[0;34m\u001b[0m\u001b[0m\n\u001b[1;32m   1408\u001b[0m \u001b[0;34m\u001b[0m\u001b[0m\n",
      "\u001b[0;32m/usr/local/lib/python2.7/dist-packages/IPython/core/ultratb.pyc\u001b[0m in \u001b[0;36mstructured_traceback\u001b[0;34m(self, etype, value, tb, tb_offset, number_of_lines_of_context)\u001b[0m\n\u001b[1;32m   1312\u001b[0m             \u001b[0;31m# Verbose modes need a full traceback\u001b[0m\u001b[0;34m\u001b[0m\u001b[0;34m\u001b[0m\u001b[0m\n\u001b[1;32m   1313\u001b[0m             return VerboseTB.structured_traceback(\n\u001b[0;32m-> 1314\u001b[0;31m                 \u001b[0mself\u001b[0m\u001b[0;34m,\u001b[0m \u001b[0metype\u001b[0m\u001b[0;34m,\u001b[0m \u001b[0mvalue\u001b[0m\u001b[0;34m,\u001b[0m \u001b[0mtb\u001b[0m\u001b[0;34m,\u001b[0m \u001b[0mtb_offset\u001b[0m\u001b[0;34m,\u001b[0m \u001b[0mnumber_of_lines_of_context\u001b[0m\u001b[0;34m\u001b[0m\u001b[0m\n\u001b[0m\u001b[1;32m   1315\u001b[0m             )\n\u001b[1;32m   1316\u001b[0m         \u001b[0;32melse\u001b[0m\u001b[0;34m:\u001b[0m\u001b[0;34m\u001b[0m\u001b[0m\n",
      "\u001b[0;32m/usr/local/lib/python2.7/dist-packages/IPython/core/ultratb.pyc\u001b[0m in \u001b[0;36mstructured_traceback\u001b[0;34m(self, etype, evalue, etb, tb_offset, number_of_lines_of_context)\u001b[0m\n\u001b[1;32m   1196\u001b[0m                 \u001b[0mstructured_traceback_parts\u001b[0m \u001b[0;34m+=\u001b[0m \u001b[0mformatted_exception\u001b[0m\u001b[0;34m\u001b[0m\u001b[0m\n\u001b[1;32m   1197\u001b[0m         \u001b[0;32melse\u001b[0m\u001b[0;34m:\u001b[0m\u001b[0;34m\u001b[0m\u001b[0m\n\u001b[0;32m-> 1198\u001b[0;31m             \u001b[0mstructured_traceback_parts\u001b[0m \u001b[0;34m+=\u001b[0m \u001b[0mformatted_exception\u001b[0m\u001b[0;34m[\u001b[0m\u001b[0;36m0\u001b[0m\u001b[0;34m]\u001b[0m\u001b[0;34m\u001b[0m\u001b[0m\n\u001b[0m\u001b[1;32m   1199\u001b[0m \u001b[0;34m\u001b[0m\u001b[0m\n\u001b[1;32m   1200\u001b[0m         \u001b[0;32mreturn\u001b[0m \u001b[0mstructured_traceback_parts\u001b[0m\u001b[0;34m\u001b[0m\u001b[0m\n",
      "\u001b[0;31mIndexError\u001b[0m: string index out of range"
     ]
    },
    {
     "data": {
      "text/plain": [
       "<matplotlib.figure.Figure at 0x7f0bfa61a2d0>"
      ]
     },
     "metadata": {},
     "output_type": "display_data"
    }
   ],
   "source": [
    "tv = TrainVal(BBoxIterator,kwargs, fns, networks)\n",
    "if kwargs[\"test\"] == True:\n",
    "    tv.test()\n",
    "else:\n",
    "    tv.train()\n",
    "\n"
   ]
  }
 ],
 "metadata": {
  "anaconda-cloud": {},
  "kernelspec": {
   "display_name": "Python 2",
   "language": "python",
   "name": "python2"
  },
  "language_info": {
   "codemirror_mode": {
    "name": "ipython",
    "version": 2
   },
   "file_extension": ".py",
   "mimetype": "text/x-python",
   "name": "python",
   "nbconvert_exporter": "python",
   "pygments_lexer": "ipython2",
   "version": "2.7.12"
  }
 },
 "nbformat": 4,
 "nbformat_minor": 0
}
