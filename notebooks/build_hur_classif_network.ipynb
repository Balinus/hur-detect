{
 "cells": [
  {
   "cell_type": "code",
   "execution_count": 1,
   "metadata": {
    "collapsed": false
   },
   "outputs": [],
   "source": [
    "import lasagne\n",
    "import theano\n",
    "from theano import tensor as T\n",
    "import sys\n",
    "import numpy as np\n",
    "#enable importing of notebooks\n",
    "from nbfinder import NotebookFinder\n",
    "sys.meta_path.append(NotebookFinder())"
   ]
  },
  {
   "cell_type": "code",
   "execution_count": 17,
   "metadata": {
    "collapsed": false
   },
   "outputs": [],
   "source": [
    "def build_yolo_layers(input_var,\n",
    "                      input_shape,\n",
    "                      num_filters,\n",
    "                      num_fc_units,\n",
    "                      num_extra_conv, \n",
    "                      num_pool,\n",
    "                      nonlinearity,\n",
    "                      w_init,\n",
    "                      dropout_p):\n",
    "    # 8x8x96\n",
    "    network = lasagne.layers.InputLayer(shape=input_shape, input_var=input_var)\n",
    "    \n",
    "    #num_filters/2 x 96 x 96 \n",
    "    network = lasagne.layers.Conv2DLayer(network, num_filters=num_filters / 2, \n",
    "                                     filter_size=(3,3),\n",
    "                                     pad=1,\n",
    "                                     nonlinearity=nonlinearity,\n",
    "                                     W=w_init)\n",
    "    \n",
    "    for i in range(num_pool - 1):\n",
    "\n",
    "        #num_filters x 96 / (2*(i+1)) x 96 / (2*(i+1))\n",
    "        network = lasagne.layers.MaxPool2DLayer(network, \n",
    "                                                pool_size=(2,2))\n",
    "\n",
    "        # num_filters x 96 / (2*(i+1)) x 96 / (2*(i+1))\n",
    "        network = lasagne.layers.Conv2DLayer(network, num_filters=num_filters, \n",
    "                                             filter_size=(3,3),\n",
    "                                             pad=1,\n",
    "                                             nonlinearity=nonlinearity,\n",
    "                                             W=w_init)\n",
    "        for j in range(num_extra_conv):\n",
    "            # num_filters x 96 / (2*(i+1)) x 96 / (2*(i+1))\n",
    "            network = lasagne.layers.Conv2DLayer(network, num_filters=num_filters, \n",
    "                                     filter_size=(3,3),\n",
    "                                     pad=1,\n",
    "                                     nonlinearity=nonlinearity,\n",
    "                                     W=w_init)\n",
    "\n",
    "\n",
    "    \n",
    "    #1024 x 96 / (2^num_pool) x 96 / (2^num_pool)\n",
    "    #average pooling\n",
    "    #name this layer, so we know where it is when we cut layers off this network\n",
    "    network = lasagne.layers.Pool2DLayer(network, pool_size=(2,2), mode='average_exc_pad', name='avg_pool_layer')\n",
    "    \n",
    "    network = lasagne.layers.dropout(network, p=dropout_p) #shape: same as above\n",
    "    network = lasagne.layers.DenseLayer(\n",
    "                                lasagne.layers.dropout(network, p=dropout_p),\n",
    "                                num_units=num_fc_units,\n",
    "                                nonlinearity=lasagne.nonlinearities.rectify)\n",
    "    \n",
    "    network = lasagne.layers.dropout(network, p=dropout_p) #shape: same as above\n",
    "    network = lasagne.layers.DenseLayer(network, \n",
    "                                        num_units=2,\n",
    "                                        nonlinearity=lasagne.nonlinearities.softmax)\n",
    "    \n",
    "    return network"
   ]
  },
  {
   "cell_type": "code",
   "execution_count": 18,
   "metadata": {
    "collapsed": false
   },
   "outputs": [],
   "source": [
    "def build_classif_network(learning_rate = 0.01,\n",
    "                  momentum = 0.9,\n",
    "                  num_filters=128,\n",
    "                  num_fc_units=1024,\n",
    "                  num_extra_conv=0, \n",
    "                  num_pool=4,\n",
    "                  nonlinearity=lasagne.nonlinearities.LeakyRectify(0.1),\n",
    "                  w_init=lasagne.init.HeUniform(),\n",
    "                  dropout_p=0.5,\n",
    "                  weight_decay=0.0005,\n",
    "                  load=False,\n",
    "                  load_path='model.npz',\n",
    "                  input_shape=(None,8,96,96)):\n",
    "    \n",
    "    input_var = T.tensor4('input_var')\n",
    "    classif_target_var = T.ivector('classif_target_var')\n",
    "    print(\"Building model and compiling functions...\")\n",
    "    \n",
    "    \n",
    "    network = build_yolo_layers(input_var,\n",
    "                                            input_shape,\n",
    "                                            num_filters,\n",
    "                                            num_fc_units,\n",
    "                                            num_extra_conv, \n",
    "                                            num_pool,\n",
    "                                            nonlinearity,\n",
    "                                            w_init,\n",
    "                                            dropout_p)\n",
    "    \n",
    "    if load:\n",
    "        with np.load(load_path) as f:\n",
    "            param_values = [f['arr_%d' % i] for i in range(len(f.files))]\n",
    "            lasagne.layers.set_all_param_values(network, param_values)\n",
    "\n",
    "    # Create a loss expression for training, i.e., a scalar objective we want\n",
    "    # to minimize (for our multi-class problem, it is the cross-entropy loss):\n",
    "    prediction = lasagne.layers.get_output(network, deterministic=False)\n",
    "    loss = lasagne.objectives.categorical_crossentropy(prediction, classif_target_var)\n",
    "    loss = loss.mean()\n",
    "\n",
    "    # Create update expressions for training, i.e., how to modify the\n",
    "    # parameters at each training step\n",
    "    params = lasagne.layers.get_all_params(network, trainable=True)\n",
    "    weightsl2 = lasagne.regularization.regularize_network_params(network, lasagne.regularization.l2)\n",
    "    loss += weight_decay * weightsl2\n",
    "    updates = lasagne.updates.nesterov_momentum(loss, params, learning_rate=learning_rate, momentum=momentum)\n",
    "\n",
    "    # Create a loss expression for validation/testing. The crucial difference\n",
    "    # here is that we do a deterministic forward pass through the network,\n",
    "    # disabling dropout layers.\n",
    "    test_prediction = lasagne.layers.get_output(network, deterministic=True)\n",
    "    test_loss = lasagne.objectives.categorical_crossentropy(test_prediction,\n",
    "                                                                classif_target_var)\n",
    "    test_loss = test_loss.mean()\n",
    "\n",
    "\n",
    "\n",
    "    # As a bonus, also create an expression for the classification accuracy:\n",
    "    test_acc = T.mean(T.eq(T.argmax(test_prediction, axis=1), classif_target_var),\n",
    "                          dtype=theano.config.floatX)\n",
    "\n",
    "    # Compile a function performing a training step on a mini-batch (by giving\n",
    "    # the updates dictionary) and returning the corresponding training loss:\n",
    "    train_fn = theano.function([input_var, classif_target_var], loss, updates=updates)\n",
    "\n",
    "\n",
    "    # Compile a second function computing the validation loss and accuracy:\n",
    "    val_fn = theano.function([input_var, classif_target_var], [test_loss, test_acc])\n",
    "\n",
    "    return train_fn, val_fn, input_var, network"
   ]
  },
  {
   "cell_type": "code",
   "execution_count": 9,
   "metadata": {
    "collapsed": false
   },
   "outputs": [
    {
     "name": "stdout",
     "output_type": "stream",
     "text": [
      "Building model and compiling functions...\n"
     ]
    }
   ],
   "source": [
    "if __name__ == \"__main__\":\n",
    "    tf,vfn,inp, n = build_classif_network()"
   ]
  }
 ],
 "metadata": {
  "kernelspec": {
   "display_name": "deeplearning",
   "language": "python",
   "name": "deeplearning"
  },
  "language_info": {
   "codemirror_mode": {
    "name": "ipython",
    "version": 2
   },
   "file_extension": ".py",
   "mimetype": "text/x-python",
   "name": "python",
   "nbconvert_exporter": "python",
   "pygments_lexer": "ipython2",
   "version": "2.7.12"
  }
 },
 "nbformat": 4,
 "nbformat_minor": 0
}
