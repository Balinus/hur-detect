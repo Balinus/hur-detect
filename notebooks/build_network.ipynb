{
 "cells": [
  {
   "cell_type": "code",
   "execution_count": 52,
   "metadata": {
    "collapsed": false
   },
   "outputs": [],
   "source": [
    "import lasagne\n",
    "from lasagne.layers import Conv2DLayer as conv\n",
    "from lasagne.layers import MaxPool2DLayer as maxpool\n",
    "from lasagne.layers import dropout\n",
    "from lasagne.layers import DenseLayer as fully_connected\n",
    "from lasagne.nonlinearities import rectify as relu\n",
    "import theano\n",
    "from theano import tensor as T\n",
    "import sys\n",
    "import numpy as np\n",
    "#enable importing of notebooks\n",
    "from nbfinder import NotebookFinder\n",
    "sys.meta_path.append(NotebookFinder())\n",
    "import inspect\n",
    "from helper_fxns import get_best_box, get_detec_loss, get_iou, make_test_data, get_detec_acc, get_final_box\n",
    "if __name__ == \"__main__\":\n",
    "    from data_loader import load_classification_dataset, load_detection_dataset"
   ]
  },
  {
   "cell_type": "code",
   "execution_count": 53,
   "metadata": {
    "collapsed": true
   },
   "outputs": [],
   "source": [
    "def get_hyperparams(frame):\n",
    "    args, _, _, values = inspect.getargvalues(frame)\n",
    "    #return dict(zip(args,values))\n",
    "    #del values['frame']\n",
    "    return values"
   ]
  },
  {
   "cell_type": "code",
   "execution_count": 70,
   "metadata": {
    "collapsed": false
   },
   "outputs": [],
   "source": [
    "def build_network(    input_shape=(None,8,96,96),\n",
    "                      filter_dim=3,\n",
    "                      num_convpool=4,\n",
    "                      num_filters=512,\n",
    "                      num_fc_units=1024,\n",
    "                      num_extra_conv=2, \n",
    "                      nonlinearity=lasagne.nonlinearities.LeakyRectify(0.1),\n",
    "                      w_init=lasagne.init.HeUniform(),\n",
    "                      dropout_p=0.5,      \n",
    "                      learning_rate = 0.001,\n",
    "                      weight_decay = 0.0005,\n",
    "                      momentum = 0.9,\n",
    "                      delta=0.00001,\n",
    "                      coord_penalty = 5,\n",
    "                      size_penalty = 5,\n",
    "                      nonobj_penalty = 0.5,\n",
    "                      n_boxes=1,\n",
    "                      nclass=1,\n",
    "                      grid_size=6,\n",
    "                      load=False,\n",
    "                      load_path=None):\n",
    "    \n",
    "    '''Takes a pretrained classification net and adds a few convolutional layers on top of it\n",
    "    and defines a detection loss function'''\n",
    "    '''Args:\n",
    "                      \n",
    "                      num_convpool: number of conv layer-pool layer pairs\n",
    "                      delta: smoothing constant to loss function (ie sqrt(x + delta)) \n",
    "                            -> if x is 0 gradient is undefined\n",
    "                      num_filters\n",
    "                      num_fc_units\n",
    "                      num_extra_conv: conv layers to add on to each conv layer before max pooling\n",
    "                      nonlinearity: which nonlinearity to use throughout\n",
    "                      n_boxes: how many boxes should be predicted at each grid point,\n",
    "                      nclass: how many classes are we predicting,\n",
    "                      grid_size: size of the grid that encodes various \n",
    "                                locations of image (ie in the YOLO paper they use 7x7 grid)\n",
    "                      w_init: weight intitialization\n",
    "                      dropout_p: prob of dropping unit\n",
    "                      coord_penalty : penalty in YOLO loss function for getting coordinates wrong\n",
    "                      nonobj_penalty: penalty in YOLO loss for guessing object when there isn't one\n",
    "                      learning_rate\n",
    "                      weight_decay\n",
    "                      momentum\n",
    "                      load: whether to load weights or not\n",
    "                      load_path: path for loading weights'''\n",
    "\n",
    "    #get all key,value args from function\n",
    "    hyperparams = get_hyperparams(inspect.currentframe())\n",
    "    \n",
    "    input_var = T.tensor4('input_var')\n",
    "    target_var = T.tensor4('target_var') #is of shape (grid_size, grid_size,(n_boxes* 5 + nclass)\n",
    "    \n",
    "    print \"Building model and compiling functions...\" \n",
    "    \n",
    "    #make layers\n",
    "    network = build_layers(input_var, **hyperparams)\n",
    "    \n",
    "    #load in any pretrained weights\n",
    "    if load:\n",
    "        network = load_weights(load_path, network)\n",
    "    \n",
    "    #compile theano functions\n",
    "    train_fn, val_fn, box_fn = make_fns(network,input_var, target_var, coord_penalty, size_penalty, nonobj_penalty,\n",
    "                                        learning_rate, momentum, weight_decay, delta)\n",
    "    \n",
    "    return train_fn, val_fn, box_fn, network, hyperparams"
   ]
  },
  {
   "cell_type": "code",
   "execution_count": 65,
   "metadata": {
    "collapsed": false
   },
   "outputs": [],
   "source": [
    "def build_layers(input_var, **nk):\n",
    "    '''nk: network_kwargs'''\n",
    "    '''conv, extra_convs, pool multiple times then fc with dropout, fc with dropout and softmax then reshape'''\n",
    "    \n",
    "    '''total number of conv layers is num_convpool * (1 + num_extra_conv)'''\n",
    "    \n",
    "\n",
    "    \n",
    "    \n",
    "    filter_dim = nk['filter_dim']\n",
    "    assert filter_dim % 2 != 0, \"filter dimensions must be odd to ensure x,y dim preservation in convolutions\"\n",
    "    # convolution parameters that don't change the shape of the input\n",
    "    conv_kwargs = dict(num_filters=nk['num_filters'], filter_size=(filter_dim,filter_dim), pad=(filter_dim - 1)/2, \n",
    "                       nonlinearity=nk['nonlinearity'], W=nk['w_init'])\n",
    "    \n",
    "    #shape: 8x8x96\n",
    "    network = lasagne.layers.InputLayer(shape=nk['input_shape'], input_var=input_var)\n",
    "    \n",
    "\n",
    "    #shape: num_filters x 96 * 2^(-num_convpool) x 96 * 2^(-num_convpool)\n",
    "    for _ in range(nk['num_convpool']):\n",
    "        network = conv(network,**conv_kwargs )\n",
    "        \n",
    "        for _ in range(nk['num_extra_conv']):\n",
    "            network = conv(network,**conv_kwargs)\n",
    "        \n",
    "        network = maxpool(network, pool_size=(2,2))\n",
    "        \n",
    "    \n",
    "\n",
    "    #shape: num_fc_units\n",
    "    network = fully_connected(dropout(network, p=nk['dropout_p']), num_units=nk['num_fc_units'], \n",
    "                              nonlinearity=nk['nonlinearity'])  \n",
    "    \n",
    "    \n",
    "    grid_size, n_boxes, nclass = [nk[k] for k in ['grid_size', 'n_boxes', 'nclass']]\n",
    "    #shape: (grid_size * grid_size) * (n_boxes* 5 + nclass)  \n",
    "    network = fully_connected(dropout(network, p=nk['dropout_p']), \n",
    "                                      num_units=(grid_size * grid_size) * (n_boxes* 5 + nclass),\n",
    "                                      nonlinearity=lasagne.nonlinearities.rectify)  \n",
    "                                      \n",
    "    \n",
    "    #shape: grid_size, grid_size,(n_boxes* 5 + nclass))\n",
    "    network = lasagne.layers.ReshapeLayer(network, shape=([0],grid_size, grid_size,(n_boxes* 5 + nclass)))\n",
    "                                \n",
    "    \n",
    "    return network\n",
    "        "
   ]
  },
  {
   "cell_type": "code",
   "execution_count": 66,
   "metadata": {
    "collapsed": false
   },
   "outputs": [],
   "source": [
    "def load_weights(file_path, network):\n",
    "    '''grabs weights from an npz file'''\n",
    "    with np.load(file_path) as f:\n",
    "        param_values = [f['arr_%d' % i] for i in range(len(f.files))]\n",
    "        lasagne.layers.set_all_param_values(network, param_values)\n",
    "    return network\n",
    "    "
   ]
  },
  {
   "cell_type": "code",
   "execution_count": 67,
   "metadata": {
    "collapsed": true
   },
   "outputs": [],
   "source": [
    "def make_fns(network,input_var, det_target_var, lcxy, lchw, ln, learning_rate, momentum, weight_decay, delta):\n",
    "    '''Compiles theano train, test, box_fns'''\n",
    "    #deterministic determines whether to use dropout or not in forward pass\n",
    "    test_prediction = lasagne.layers.get_output(network, deterministic=True)\n",
    "    prediction = lasagne.layers.get_output(network, deterministic=False)\n",
    "    \n",
    "    \n",
    "    def make_loss(pred):\n",
    "        loss = get_detec_loss(pred, det_target_var, lcxy, lchw, ln, delta)\n",
    "        weightsl2 = lasagne.regularization.regularize_network_params(network, lasagne.regularization.l2)\n",
    "        loss += weight_decay * weightsl2\n",
    "        return loss\n",
    "    \n",
    "    def make_train_fn():\n",
    "        '''takes as input the input, target vars and ouputs a loss'''\n",
    "        \n",
    "        loss =  make_loss(prediction)\n",
    "        weightsl2 = lasagne.regularization.regularize_network_params(network, lasagne.regularization.l2)\n",
    "        params = lasagne.layers.get_all_params(network, trainable=True)\n",
    "        updates = lasagne.updates.nesterov_momentum(loss, \n",
    "                                                    params, \n",
    "                                                    learning_rate=learning_rate, \n",
    "                                                    momentum=momentum)\n",
    "        train_fn = theano.function([input_var, det_target_var], loss, updates=updates)\n",
    "        return train_fn\n",
    "        \n",
    "    \n",
    "    def make_test_or_val_fn():\n",
    "        '''takes as input the input, target vars and ouputs a non-dropout loss and an accuracy (intersection over union)'''\n",
    "        test_loss = make_loss(test_prediction)\n",
    "        test_acc = get_detec_acc(test_prediction, det_target_var)\n",
    "        val_fn = theano.function([input_var, det_target_var], [test_loss, test_acc])\n",
    "        return val_fn\n",
    "    \n",
    "    \n",
    "    def make_box_fn():\n",
    "        '''takes as input the input, target vars and outputs the predicted and the ground truth boxes)'''\n",
    "        pred_boxes = get_final_box(test_prediction)\n",
    "        gt_boxes = get_final_box(det_target_var)\n",
    "        box_fn = theano.function([input_var, det_target_var], [pred_boxes, gt_boxes])\n",
    "        return box_fn\n",
    "    \n",
    "    def make_pred_fn():\n",
    "        '''takes as input the input, target vars and outputs the predicted grid'''\n",
    "        pred_fn = theano.function([input_var], test_prediction)\n",
    "        return pred_fn\n",
    "        \n",
    "        \n",
    "    train_fn = make_train_fn()\n",
    "    test_or_val_fn = make_test_or_val_fn()\n",
    "    box_fn = make_box_fn()\n",
    "    pred_fn = make_pred_fn()\n",
    "    \n",
    "    return train_fn, test_or_val_fn, box_fn #,pred_fn"
   ]
  },
  {
   "cell_type": "code",
   "execution_count": 69,
   "metadata": {
    "collapsed": false
   },
   "outputs": [
    {
     "name": "stdout",
     "output_type": "stream",
     "text": [
      "Building model and compiling functions...\n"
     ]
    }
   ],
   "source": [
    "if __name__ == \"__main__\":\n",
    "    build_network()"
   ]
  },
  {
   "cell_type": "code",
   "execution_count": 26,
   "metadata": {
    "collapsed": false
   },
   "outputs": [],
   "source": []
  },
  {
   "cell_type": "code",
   "execution_count": null,
   "metadata": {
    "collapsed": true
   },
   "outputs": [],
   "source": []
  }
 ],
 "metadata": {
  "kernelspec": {
   "display_name": "Python 2",
   "language": "python",
   "name": "python2"
  },
  "language_info": {
   "codemirror_mode": {
    "name": "ipython",
    "version": 2
   },
   "file_extension": ".py",
   "mimetype": "text/x-python",
   "name": "python",
   "nbconvert_exporter": "python",
   "pygments_lexer": "ipython2",
   "version": "2.7.12"
  }
 },
 "nbformat": 4,
 "nbformat_minor": 0
}
