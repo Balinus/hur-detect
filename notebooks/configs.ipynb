{
 "cells": [
  {
   "cell_type": "code",
   "execution_count": 1,
   "metadata": {
    "collapsed": false
   },
   "outputs": [
    {
     "name": "stdout",
     "output_type": "stream",
     "text": [
      "importing Jupyter notebook from helper_fxns.ipynb\n",
      "importing Jupyter notebook from run_dir.ipynb\n"
     ]
    }
   ],
   "source": [
    "import sys\n",
    "from nbfinder import NotebookFinder\n",
    "sys.meta_path.append(NotebookFinder())\n",
    "from helper_fxns import *\n",
    "from run_dir import *\n",
    "from lasagne.nonlinearities import *\n",
    "from lasagne.init import *"
   ]
  },
  {
   "cell_type": "code",
   "execution_count": 2,
   "metadata": {
    "collapsed": true
   },
   "outputs": [],
   "source": [
    "default_args = {                  'learning_rate': 0.0001,\n",
    "                                  'num_tr_days': 365,\n",
    "                                  'input_shape': (None,16,768,1152),\n",
    "                                  'dropout_p': 0, \n",
    "                                  'weight_decay': 0.0005, \n",
    "                                  'num_layers': 6,\n",
    "                                  'num_extra_conv': 0,\n",
    "                                  'momentum': 0.9,\n",
    "                                  'lambda_ae' : 10,\n",
    "                                  'coord_penalty': 5,\n",
    "                                  'size_penalty': 7,\n",
    "                                  'nonobj_penalty': 0.5,\n",
    "                                  'iou_thresh' : 0.5,\n",
    "                                  'conf_thresh': 0.8,\n",
    "                                  'shuffle': False,\n",
    "                                  \"use_fc\": False,\n",
    "                                  'metadata_dir': \"/home/evan/data/climate/labels/\",\n",
    "                                  'data_dir': \"/home/evan/data/climate/input\",\n",
    "                                  'batch_size' : 1,\n",
    "                                  'epochs': 10000,\n",
    "                                  'tr_years': [1979],\n",
    "                                  'val_years': [1980],\n",
    "                                  \"test_years\" : [1984],\n",
    "                                  'save_weights': True,\n",
    "                                  'num_classes': 4,\n",
    "                                  'labels_only': True,\n",
    "                                  'time_chunks_per_example': 1,\n",
    "                                  'filter_dim':5,\n",
    "                                  'scale_factor': 64,\n",
    "                                  'nonlinearity': LeakyRectify(0.1),\n",
    "                                  'w_init': HeUniform(),\n",
    "                                  \"batch_norm\" : False,\n",
    "                                  \"num_ims_to_plot\" : 8,\n",
    "                                  \"test\": False,\n",
    "                                  \"get_fmaps\": False,\n",
    "                                  \"grid_search\": False,\n",
    "                                  \"yolo_batch_norm\" : True,\n",
    "                                  \"filters_scale\" : 1.,\n",
    "                                  \"yolo_load_path\": \"None\",\n",
    "                                  \"no_plots\": False,\n",
    "                                  \"3D\": False,\n",
    "                                  \"get_ims\": False,\n",
    "                                  \"save_path\":\"None\",\n",
    "                                  'num_test_days':365,\n",
    "                                  'box_sizes':[(64,64)],\n",
    "                                  \"ignore_plot_fails\":1,\n",
    "                                  \"ae_load_path\": \"None\",\n",
    "                                  \"variables\": [u'PRECT',u'PS',u'PSL',\n",
    "                                                 u'QREFHT',\n",
    "                                                 u'T200',\n",
    "                                                 u'T500',\n",
    "                                                 u'TMQ',\n",
    "                                                 u'TREFHT',\n",
    "                                                 u'TS',\n",
    "                                                 u'U850',\n",
    "                                                 u'UBOT',\n",
    "                                                 u'V850',\n",
    "                                                 u'VBOT',\n",
    "                                                 u'Z1000',\n",
    "                                                 u'Z200',\n",
    "                                                 u'ZBOT'],\n",
    "                                \"xdim\": 768,\n",
    "                                \"ydim\": 1152,\n",
    "                                \"time_steps_per_day\": 8,\n",
    "                                \"time_steps_per_file\": 8,\n",
    "                                \"max_files_open\": 45,\n",
    "                                \"time_step_stride\": 2,\n",
    "\n",
    "                                  \n",
    "                    }"
   ]
  },
  {
   "cell_type": "code",
   "execution_count": 1,
   "metadata": {
    "collapsed": true
   },
   "outputs": [],
   "source": [
    "def process_kwargs(args={},save_res=True):\n",
    "    kwargs = default_args\n",
    "    \n",
    "    if \"save_path\" in args:\n",
    "        if args.save_path == \"None\":\n",
    "            save_path = None\n",
    "        else:\n",
    "            save_path = args.save_path\n",
    "        kwargs.update(args)\n",
    "    else:\n",
    "        save_path=None\n",
    "\n",
    "\n",
    "    if kwargs[\"lambda_ae\"] == 0:\n",
    "        kwargs[\"labels_only\"] = True\n",
    "    if kwargs[\"3D\"] == True:\n",
    "        kwargs[\"labels_only\"] = False\n",
    "        kwargs[\"input_shape\"] = (None,16,8,768,1152)\n",
    "        kwargs['time_chunks_per_example'] = 8\n",
    "\n",
    "    kwargs['num_val_days'] = int(np.ceil(0.2*kwargs['num_tr_days']))\n",
    "\n",
    "    \n",
    "    if save_res:\n",
    "        run_dir = create_run_dir(save_path)\n",
    "        kwargs['save_path'] = run_dir\n",
    "        '''save hyperparams'''\n",
    "        dump_hyperparams(kwargs,run_dir)\n",
    "\n",
    "        kwargs[\"logger\"] = setup_logging(kwargs['save_path'])\n",
    "    return kwargs"
   ]
  },
  {
   "cell_type": "code",
   "execution_count": null,
   "metadata": {
    "collapsed": true
   },
   "outputs": [],
   "source": []
  }
 ],
 "metadata": {
  "kernelspec": {
   "display_name": "Python 2",
   "language": "python",
   "name": "python2"
  },
  "language_info": {
   "codemirror_mode": {
    "name": "ipython",
    "version": 2
   },
   "file_extension": ".py",
   "mimetype": "text/x-python",
   "name": "python",
   "nbconvert_exporter": "python",
   "pygments_lexer": "ipython2",
   "version": "2.7.12"
  }
 },
 "nbformat": 4,
 "nbformat_minor": 2
}
