{
 "cells": [
  {
   "cell_type": "code",
   "execution_count": 11,
   "metadata": {
    "collapsed": false
   },
   "outputs": [
    {
     "name": "stdout",
     "output_type": "stream",
     "text": [
      "[TerminalIPythonApp] WARNING | Subcommand `ipython nbconvert` is deprecated and will be removed in future versions.\n",
      "[TerminalIPythonApp] WARNING | You likely want to use `jupyter nbconvert` in the future\n",
      "[NbConvertApp] Converting notebook ./build_network.ipynb to script\n",
      "[NbConvertApp] Writing 12483 bytes to ./build_network.py\n",
      "[NbConvertApp] Converting notebook ./convert_nb_to_scripts.ipynb to script\n",
      "[NbConvertApp] Writing 1369 bytes to ./convert_nb_to_scripts.py\n",
      "[NbConvertApp] Converting notebook ./data_loader.ipynb to script\n",
      "[NbConvertApp] Writing 8993 bytes to ./data_loader.py\n",
      "[NbConvertApp] Converting notebook ./helper_fxns.ipynb to script\n",
      "[NbConvertApp] Writing 15203 bytes to ./helper_fxns.py\n",
      "[NbConvertApp] Converting notebook ./make_data_for_thorsten.ipynb to script\n",
      "[NbConvertApp] Writing 1704 bytes to ./make_data_for_thorsten.py\n",
      "[NbConvertApp] Converting notebook ./netcdf_loader.ipynb to script\n",
      "[NbConvertApp] Writing 18349 bytes to ./netcdf_loader.py\n",
      "[NbConvertApp] Converting notebook ./print_n_plot.ipynb to script\n",
      "[NbConvertApp] Writing 2576 bytes to ./print_n_plot.py\n",
      "[NbConvertApp] Converting notebook ./run_dir.ipynb to script\n",
      "[NbConvertApp] Writing 1297 bytes to ./run_dir.py\n",
      "[NbConvertApp] Converting notebook ./split_classif_detect_data.ipynb to script\n",
      "[NbConvertApp] Writing 3221 bytes to ./split_classif_detect_data.py\n",
      "[NbConvertApp] Converting notebook ./train_val.ipynb to script\n",
      "[NbConvertApp] Writing 12848 bytes to ./train_val.py\n"
     ]
    }
   ],
   "source": [
    "! ipython nbconvert --to script ./*.ipynb\n",
    "\n",
    "import os\n",
    "import sys\n",
    "\n",
    "\n",
    "\n",
    "#.txt means file was open/not saved so converted to .txt not .py\n",
    "for fil in os.listdir('.'):\n",
    "    assert '.txt' not in fil, \"Save all your notebooks first!\"\n",
    "\n",
    "! mv __init__.py __init__.pyc\n",
    "! mv nbfinder.py nbfinder.pyc        \n",
    "        \n",
    "\n",
    "! sed -i.bak 's/# coding: utf-8/import matplotlib; matplotlib.use(\"agg\")/g' ./*.py\n",
    "\n",
    "#get rid of IN[] lines\n",
    "!sed -i.bak '/# IN\\[*/d' ./*.py\n",
    "\n",
    "#get rid of ipython lines\n",
    "!sed -i.bak '/ipython*/d' ./*.py\n",
    "\n",
    "!sed -i.bak '/NotebookFinder*/d' ./*.py\n",
    "\n",
    "!sed -i.bak '/NotebookFinder*/d' ./*.py\n",
    "#get rid of IN[] lines\n",
    "!sed -i.bak '/# In\\[*/d' ./*.py\n",
    "\n",
    "!sed -i.bak '/# coding:*/d' ./*.py\n",
    "\n",
    "!sed -i.bak 's/plt.show()*/pass/g' ./*.py\n",
    "\n",
    "! rm *.bak\n",
    "! rm convert_nb_to_scripts.py\n",
    "\n",
    "#move to scripts\n",
    "! mv *.py ../scripts\n",
    "! mv __init__.pyc __init__.py\n",
    "! mv nbfinder.pyc nbfinder.py\n"
   ]
  },
  {
   "cell_type": "code",
   "execution_count": 3,
   "metadata": {
    "collapsed": true
   },
   "outputs": [],
   "source": [
    "a =[128, 256, 512, 768, 1024, 1280]"
   ]
  },
  {
   "cell_type": "code",
   "execution_count": 10,
   "metadata": {
    "collapsed": false
   },
   "outputs": [
    {
     "data": {
      "text/plain": [
       "[2, 5, 10, 16, 21, 26]"
      ]
     },
     "execution_count": 10,
     "metadata": {},
     "output_type": "execute_result"
    }
   ],
   "source": [
    "[i / 48 for i in a ]"
   ]
  },
  {
   "cell_type": "code",
   "execution_count": null,
   "metadata": {
    "collapsed": true
   },
   "outputs": [],
   "source": []
  }
 ],
 "metadata": {
  "anaconda-cloud": {},
  "kernelspec": {
   "display_name": "Python [default]",
   "language": "python",
   "name": "python2"
  },
  "language_info": {
   "codemirror_mode": {
    "name": "ipython",
    "version": 2
   },
   "file_extension": ".py",
   "mimetype": "text/x-python",
   "name": "python",
   "nbconvert_exporter": "python",
   "pygments_lexer": "ipython2",
   "version": "2.7.12"
  }
 },
 "nbformat": 4,
 "nbformat_minor": 0
}
