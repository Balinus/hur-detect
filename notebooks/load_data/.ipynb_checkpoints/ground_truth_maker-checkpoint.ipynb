{
 "cells": [
  {
   "cell_type": "code",
   "execution_count": 8,
   "metadata": {
    "collapsed": false
   },
   "outputs": [
    {
     "name": "stdout",
     "output_type": "stream",
     "text": [
      "importing Jupyter notebook from label_loader.ipynb\n"
     ]
    }
   ],
   "source": [
    "import sys\n",
    "from nbfinder import NotebookFinder\n",
    "sys.meta_path.append(NotebookFinder())\n",
    "import numpy as np\n",
    "from util import convert_bbox_minmax_to_cent_xywh\n",
    "import time\n",
    "from label_loader import  make_labels_for_dataset"
   ]
  },
  {
   "cell_type": "code",
   "execution_count": 10,
   "metadata": {
    "collapsed": false
   },
   "outputs": [],
   "source": [
    "def make_yolo_masks_for_dataset( camfile_name, kwargs):\n",
    "        t = time.time()\n",
    "        labels_tensor = make_labels_for_dataset(camfile_name,kwargs)\n",
    "        labels_tensor = convert_bbox_minmax_to_cent_xywh(labels_tensor)\n",
    "\n",
    "\n",
    "        yolo_mask = create_detection_gr_truth(labels_tensor, kwargs)\n",
    "        print \"make gt masks: \", time.time() -t\n",
    "        return yolo_mask"
   ]
  },
  {
   "cell_type": "code",
   "execution_count": 6,
   "metadata": {
    "collapsed": true
   },
   "outputs": [],
   "source": [
    "def create_detection_gr_truth(bbox_tensor,kwargs):\n",
    "        #x_xy : 1,2 tuple with x and y sizes for image\n",
    "        #scale_factor: factor to scale xy size by fro gr_truth grid for YOLO\n",
    "        #scale_factor = float(scale_factor)\n",
    "        # xdim, ydim = 768,1152\n",
    "        # scale_factor = 64\n",
    "        # bbox_tensor = make_labels_for_dataset(\"cam5_1_amip_run2.cam2.h2.1984-01-03-00000.nc\")\n",
    "        # num_classes = 4 \n",
    "        scale_factor = float(kwargs[\"scale_factor\"])\n",
    "        bbox_classes = bbox_tensor[:,:,4]\n",
    "        bbox_coords = bbox_tensor[:,:,:4]\n",
    "        xdim,ydim = kwargs[\"xdim\"], kwargs[\"ydim\"]\n",
    "        \n",
    "        #make sure xy coords divide cleanly with scale_factor\n",
    "        assert xdim % scale_factor == 0 and ydim % scale_factor == 0, \"scale factor %i must divide the xy (%i, %i) coords cleanly \" %(scale_factor,xdim, ydim)\n",
    "\n",
    "\n",
    "        x_len,y_len = xdim / int(scale_factor), ydim / int(scale_factor)\n",
    "        last_dim = 6 + kwargs[\"num_classes\"] #x,y,w,h,conf1,conf2 plus num_classes for one hot encoding\n",
    "\n",
    "\n",
    "        #divide up bbox with has range 0-95 to 0-95/scale_factor (so 6x6 for scale factor of 16)\n",
    "        bb_scaled = bbox_coords / scale_factor\n",
    "\n",
    "\n",
    "        #each coordinate goes at index i,j in the 6x6 array, where i,j are the coordinates of the\n",
    "        #lower left corner of the grid that center of the box (in 6x6 space ) falls on\n",
    "        #subtract eps so we dont't have one off error\n",
    "        eps = np.finfo(float).eps\n",
    "        inds = np.floor(bb_scaled[:,:,:2]-10*eps).astype('int')\n",
    "\n",
    "        #xywh where x and y are offset from lower left corner of grid thay are in [0,1] and w and h\n",
    "        # are what fraction the width and height of bboxes are of the total width and total height of the image\n",
    "        xywh = np.copy(bb_scaled)\n",
    "\n",
    "        #subtract the floored values to get the offset from the grid cell\n",
    "        xywh[:,:,:2] -= inds[:,:,:2].astype('float')\n",
    "\n",
    "\n",
    "        #divide by scaled width and height to get wdith and height relative to width and height of box\n",
    "        xywh[:,:,2] = np.log2(bbox_coords[:,:,2] / scale_factor)\n",
    "        xywh[:,:,3] = np.log2(bbox_coords[:,:,3] / scale_factor)\n",
    "\n",
    "\n",
    "        #make gr_truth which is \n",
    "\n",
    "        gr_truth = np.zeros((bbox_coords.shape[0],last_dim, x_len, y_len ))\n",
    "    #     else:\n",
    "    #         gr_truth = np.zeros((bbox_coords.shape[0], x_len,y_len,last_dim))\n",
    "\n",
    "\n",
    "        #sickens me to a do a for loop here, but numpy ain't cooperating\n",
    "        # I tried gr_truth[np.arange(gr_truth.shape[0]),inds[:0], inds[:1]][:,4] = xywh\n",
    "        #but it did not work\n",
    "\n",
    "        # we assume one box per image here\n",
    "        # for each grid point that is center of image plop in center, and width and height and class\n",
    "        for i in range(gr_truth.shape[0]):\n",
    "            #put coordinates, conf and class for all events (now there are multiple)\n",
    "            for j, coords in enumerate(xywh[i]):\n",
    "\n",
    "\n",
    "                # the index into the groudn truth grid where class should go\n",
    "                xind, yind = inds[i,j,0], inds[i,j,1]\n",
    "                gr_truth[i, :4, xind,yind,] = coords\n",
    "\n",
    "                #put in confidence\n",
    "                gr_truth[i,4,xind,yind] = 1 if bbox_classes[i,j] > 0. else 0.\n",
    "                gr_truth[i,5,xind,yind] = 1 if gr_truth[i,4,xind,yind] == 0. else 0.\n",
    "                #put in class label\n",
    "                gr_truth[i, 5 + int(bbox_classes[i,j]),xind,yind] = 1. if bbox_classes[i,j] > 0. else 0.\n",
    "\n",
    "        return gr_truth"
   ]
  },
  {
   "cell_type": "code",
   "execution_count": null,
   "metadata": {
    "collapsed": true
   },
   "outputs": [],
   "source": []
  },
  {
   "cell_type": "code",
   "execution_count": 4,
   "metadata": {
    "collapsed": true
   },
   "outputs": [],
   "source": [
    "def test_grid(bbox, grid, xdim, ydim, scale_factor,num_classes, caffe_format=False):\n",
    "    cls = int(bbox[4])\n",
    "    x,y = bbox[0] / scale_factor, bbox[1] / scale_factor\n",
    "    xo,yo = (bbox[0] % scale_factor) / float(scale_factor), (bbox[1] % scale_factor) / float(scale_factor)\n",
    "    w,h = bbox[2] / scale_factor / (xdim / scale_factor), bbox[3] / scale_factor/ (ydim / scale_factor)\n",
    "    \n",
    "    depth = 5 + num_classes\n",
    "    if caffe_format:\n",
    "        l_box = grid[:depth,x,y]\n",
    "    else:\n",
    "        l_box = grid[int(x),int(y),:depth]\n",
    "    lbl = num_classes*[0]\n",
    "    lbl[cls-1] = 1\n",
    "    \n",
    "    real_box = [xo,yo,w,h,1.]\n",
    "    real_box.extend(lbl)\n",
    "    \n",
    "    print l_box\n",
    "    print real_box\n",
    "    assert np.allclose(l_box, real_box), \"Tests Failed\""
   ]
  }
 ],
 "metadata": {
  "kernelspec": {
   "display_name": "Python 2",
   "language": "python",
   "name": "python2"
  },
  "language_info": {
   "codemirror_mode": {
    "name": "ipython",
    "version": 2
   },
   "file_extension": ".py",
   "mimetype": "text/x-python",
   "name": "python",
   "nbconvert_exporter": "python",
   "pygments_lexer": "ipython2",
   "version": "2.7.12"
  }
 },
 "nbformat": 4,
 "nbformat_minor": 2
}
