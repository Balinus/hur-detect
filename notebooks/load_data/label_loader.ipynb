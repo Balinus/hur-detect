{
 "cells": [
  {
   "cell_type": "code",
   "execution_count": 3,
   "metadata": {
    "collapsed": false
   },
   "outputs": [
    {
     "name": "stdout",
     "output_type": "stream",
     "text": [
      "importing Jupyter notebook from util.ipynb\n"
     ]
    }
   ],
   "source": [
    "import sys\n",
    "from nbfinder import NotebookFinder\n",
    "sys.meta_path.append(NotebookFinder())\n",
    "from util import get_timestamp\n",
    "import pandas as pd\n",
    "import numpy as np\n",
    "from os.path import join"
   ]
  },
  {
   "cell_type": "code",
   "execution_count": 4,
   "metadata": {
    "collapsed": true
   },
   "outputs": [],
   "source": [
    "def match_nc_to_csv(fname, weather_type,metadata_dir, inc_csv=False):\n",
    "        coord_keys = [\"xmin\", \"xmax\", \"ymin\", \"ymax\"]\n",
    "        ts=get_timestamp(fname)\n",
    "\n",
    "        if weather_type == 'us-ar':\n",
    "            labeldf = pd.read_csv(join(metadata_dir, 'ar_labels.csv'))\n",
    "            tmplabeldf=labeldf.ix[ (labeldf.month==ts.month) & (labeldf.day==ts.day) & (labeldf.year==ts.year) ].copy()\n",
    "        else:\n",
    "            labeldf = pd.read_csv(join(metadata_dir, '_'.join([str(ts.year),weather_type, 'labels.csv'])))\n",
    "            tmplabeldf=labeldf.ix[ (labeldf.month==ts.month) & (labeldf.day==ts.day) ].copy()\n",
    "\n",
    "\n",
    "        selectdf=tmplabeldf[[\"time_step\"]+ coord_keys + [\"category\"]]\n",
    "        if inc_csv is True:\n",
    "            return selectdf, labeldf\n",
    "        else:\n",
    "            return selectdf "
   ]
  },
  {
   "cell_type": "code",
   "execution_count": 5,
   "metadata": {
    "collapsed": true
   },
   "outputs": [],
   "source": [
    "def make_labels_for_dataset(fname, kwargs):\n",
    "    '''takes in string for fname and the number of time_steps and outputs\n",
    "    a time_steps by maximages by 5 tensor encoding the coordinates and class of each event in a time step'''\n",
    "\n",
    "    weather_types = ['tc','etc', 'us-ar']\n",
    "    ts=get_timestamp(fname)\n",
    "    maximagespertimestep=25\n",
    "    time_steps_per_file, metadata_dir = kwargs[\"time_steps_per_file\"], kwargs[\"metadata_dir\"]\n",
    "    # for every time step for every possible event, xmin,xmax,ymin,ymax,class\n",
    "    bboxes = np.zeros((time_steps_per_file, maximagespertimestep, 5))\n",
    "    event_counter = np.zeros((time_steps_per_file,))\n",
    "    for weather_type in weather_types:\n",
    "        selectdf = match_nc_to_csv(fname, weather_type, metadata_dir)\n",
    "\n",
    "        timelist=set(selectdf[\"time_step\"])\n",
    "        for t in timelist:\n",
    "            t = int(t)\n",
    "\n",
    "            coords_for_t = selectdf[selectdf[\"time_step\"]==t].drop([\"time_step\"], axis=1).values\n",
    "            coords_for_t = coords_for_t[(coords_for_t > 0).all(1)]\n",
    "\n",
    "            # get current number of events and number of events for this time step\n",
    "            num_events_for_t = coords_for_t.shape[0]\n",
    "            cur_num_events = int(event_counter[t])\n",
    "\n",
    "            #make slice\n",
    "            slice_for_t = slice(cur_num_events, cur_num_events + num_events_for_t)\n",
    "\n",
    "            #fill variables\n",
    "            bboxes[t, slice_for_t] = coords_for_t\n",
    "            event_counter[t] += num_events_for_t\n",
    "    return bboxes"
   ]
  },
  {
   "cell_type": "code",
   "execution_count": 7,
   "metadata": {
    "collapsed": false
   },
   "outputs": [
    {
     "ename": "UnboundLocalError",
     "evalue": "local variable 'run_dir' referenced before assignment",
     "output_type": "error",
     "traceback": [
      "\u001b[0;31m---------------------------------------------------------------------------\u001b[0m",
      "\u001b[0;31mUnboundLocalError\u001b[0m                         Traceback (most recent call last)",
      "\u001b[0;32m<ipython-input-7-b5a7cdec3ae6>\u001b[0m in \u001b[0;36m<module>\u001b[0;34m()\u001b[0m\n\u001b[1;32m      1\u001b[0m \u001b[0msys\u001b[0m\u001b[0;34m.\u001b[0m\u001b[0mpath\u001b[0m\u001b[0;34m.\u001b[0m\u001b[0minsert\u001b[0m\u001b[0;34m(\u001b[0m\u001b[0;36m0\u001b[0m\u001b[0;34m,\u001b[0m\u001b[0;34m\"/home/evan/hur-detect/scripts/\"\u001b[0m\u001b[0;34m)\u001b[0m\u001b[0;34m\u001b[0m\u001b[0m\n\u001b[1;32m      2\u001b[0m \u001b[0;32mfrom\u001b[0m \u001b[0mconfigs\u001b[0m \u001b[0;32mimport\u001b[0m \u001b[0;34m*\u001b[0m\u001b[0;34m\u001b[0m\u001b[0m\n\u001b[0;32m----> 3\u001b[0;31m \u001b[0mkwargs\u001b[0m \u001b[0;34m=\u001b[0m \u001b[0mprocess_kwargs\u001b[0m\u001b[0;34m(\u001b[0m\u001b[0msave_res\u001b[0m\u001b[0;34m=\u001b[0m\u001b[0mFalse\u001b[0m\u001b[0;34m)\u001b[0m\u001b[0;34m\u001b[0m\u001b[0m\n\u001b[0m",
      "\u001b[0;32m/home/evan/hur-detect/scripts/configs.py\u001b[0m in \u001b[0;36mprocess_kwargs\u001b[0;34m(args, save_res)\u001b[0m\n\u001b[1;32m    109\u001b[0m \u001b[0;34m\u001b[0m\u001b[0m\n\u001b[1;32m    110\u001b[0m     \u001b[0;34m'''save hyperparams'''\u001b[0m\u001b[0;34m\u001b[0m\u001b[0m\n\u001b[0;32m--> 111\u001b[0;31m     \u001b[0mdump_hyperparams\u001b[0m\u001b[0;34m(\u001b[0m\u001b[0mkwargs\u001b[0m\u001b[0;34m,\u001b[0m\u001b[0mrun_dir\u001b[0m\u001b[0;34m)\u001b[0m\u001b[0;34m\u001b[0m\u001b[0m\n\u001b[0m\u001b[1;32m    112\u001b[0m \u001b[0;34m\u001b[0m\u001b[0m\n\u001b[1;32m    113\u001b[0m     \u001b[0mkwargs\u001b[0m\u001b[0;34m[\u001b[0m\u001b[0;34m\"logger\"\u001b[0m\u001b[0;34m]\u001b[0m \u001b[0;34m=\u001b[0m \u001b[0msetup_logging\u001b[0m\u001b[0;34m(\u001b[0m\u001b[0mkwargs\u001b[0m\u001b[0;34m[\u001b[0m\u001b[0;34m'save_path'\u001b[0m\u001b[0;34m]\u001b[0m\u001b[0;34m)\u001b[0m\u001b[0;34m\u001b[0m\u001b[0m\n",
      "\u001b[0;31mUnboundLocalError\u001b[0m: local variable 'run_dir' referenced before assignment"
     ]
    }
   ],
   "source": [
    "sys.path.insert(0,\"/home/evan/hur-detect/scripts/\")\n",
    "from configs import *\n",
    "kwargs = process_kwargs(save_res=False)"
   ]
  },
  {
   "cell_type": "code",
   "execution_count": 8,
   "metadata": {
    "collapsed": false
   },
   "outputs": [
    {
     "ename": "IndexError",
     "evalue": "index 4 is out of bounds for axis 0 with size 4",
     "output_type": "error",
     "traceback": [
      "\u001b[0;31m---------------------------------------------------------------------------\u001b[0m",
      "\u001b[0;31mIndexError\u001b[0m                                Traceback (most recent call last)",
      "\u001b[0;32m<ipython-input-8-9bf86f21c4c6>\u001b[0m in \u001b[0;36m<module>\u001b[0;34m()\u001b[0m\n\u001b[0;32m----> 1\u001b[0;31m \u001b[0mmake_labels_for_dataset\u001b[0m\u001b[0;34m(\u001b[0m\u001b[0;34m\"cam5_1_amip_run2.cam2.h2.1979-01-17-00000.nc\"\u001b[0m\u001b[0;34m,\u001b[0m\u001b[0mkwargs\u001b[0m\u001b[0;34m)\u001b[0m\u001b[0;34m\u001b[0m\u001b[0m\n\u001b[0m",
      "\u001b[0;32m<ipython-input-6-71e604b21a93>\u001b[0m in \u001b[0;36mmake_labels_for_dataset\u001b[0;34m(fname, kwargs)\u001b[0m\n\u001b[1;32m     22\u001b[0m             \u001b[0;31m# get current number of events and number of events for this time step\u001b[0m\u001b[0;34m\u001b[0m\u001b[0;34m\u001b[0m\u001b[0m\n\u001b[1;32m     23\u001b[0m             \u001b[0mnum_events_for_t\u001b[0m \u001b[0;34m=\u001b[0m \u001b[0mcoords_for_t\u001b[0m\u001b[0;34m.\u001b[0m\u001b[0mshape\u001b[0m\u001b[0;34m[\u001b[0m\u001b[0;36m0\u001b[0m\u001b[0;34m]\u001b[0m\u001b[0;34m\u001b[0m\u001b[0m\n\u001b[0;32m---> 24\u001b[0;31m             \u001b[0mcur_num_events\u001b[0m \u001b[0;34m=\u001b[0m \u001b[0mint\u001b[0m\u001b[0;34m(\u001b[0m\u001b[0mevent_counter\u001b[0m\u001b[0;34m[\u001b[0m\u001b[0mt\u001b[0m\u001b[0;34m]\u001b[0m\u001b[0;34m)\u001b[0m\u001b[0;34m\u001b[0m\u001b[0m\n\u001b[0m\u001b[1;32m     25\u001b[0m \u001b[0;34m\u001b[0m\u001b[0m\n\u001b[1;32m     26\u001b[0m             \u001b[0;31m#make slice\u001b[0m\u001b[0;34m\u001b[0m\u001b[0;34m\u001b[0m\u001b[0m\n",
      "\u001b[0;31mIndexError\u001b[0m: index 4 is out of bounds for axis 0 with size 4"
     ]
    }
   ],
   "source": [
    "make_labels_for_dataset(\"cam5_1_amip_run2.cam2.h2.1979-01-17-00000.nc\",kwargs)"
   ]
  },
  {
   "cell_type": "code",
   "execution_count": null,
   "metadata": {
    "collapsed": true
   },
   "outputs": [],
   "source": []
  }
 ],
 "metadata": {
  "kernelspec": {
   "display_name": "Python 2",
   "language": "python",
   "name": "python2"
  },
  "language_info": {
   "codemirror_mode": {
    "name": "ipython",
    "version": 2
   },
   "file_extension": ".py",
   "mimetype": "text/x-python",
   "name": "python",
   "nbconvert_exporter": "python",
   "pygments_lexer": "ipython2",
   "version": "2.7.12"
  }
 },
 "nbformat": 4,
 "nbformat_minor": 2
}
