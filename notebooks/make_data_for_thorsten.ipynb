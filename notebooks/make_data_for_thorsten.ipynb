{
 "cells": [
  {
   "cell_type": "code",
   "execution_count": 5,
   "metadata": {
    "collapsed": true
   },
   "outputs": [],
   "source": [
    "import h5py"
   ]
  },
  {
   "cell_type": "code",
   "execution_count": 6,
   "metadata": {
    "collapsed": true
   },
   "outputs": [],
   "source": [
    "h5path = '/project/projectdirs/nervana/evan/preproc_data/data_for_caffe/hurricanes.h5'"
   ]
  },
  {
   "cell_type": "code",
   "execution_count": 23,
   "metadata": {
    "collapsed": true
   },
   "outputs": [],
   "source": [
    "train = '/project/projectdirs/nervana/evan/preproc_data/data_for_caffe/hurricane_train.h5'"
   ]
  },
  {
   "cell_type": "code",
   "execution_count": 7,
   "metadata": {
    "collapsed": true
   },
   "outputs": [],
   "source": [
    "new_h5 = '/project/projectdirs/nervana/evan/preproc_data/data_for_caffe/hurricanes_test.h5'"
   ]
  },
  {
   "cell_type": "code",
   "execution_count": 24,
   "metadata": {
    "collapsed": true
   },
   "outputs": [],
   "source": [
    "thf = h5py.File(train)"
   ]
  },
  {
   "cell_type": "code",
   "execution_count": 15,
   "metadata": {
    "collapsed": true
   },
   "outputs": [],
   "source": [
    "nhf = h5py.File(new_h5)"
   ]
  },
  {
   "cell_type": "code",
   "execution_count": 8,
   "metadata": {
    "collapsed": false
   },
   "outputs": [],
   "source": [
    "hf = h5py.File(h5path)"
   ]
  },
  {
   "cell_type": "code",
   "execution_count": 13,
   "metadata": {
    "collapsed": false
   },
   "outputs": [],
   "source": [
    "examples = hf['label'].shape[0]"
   ]
  },
  {
   "cell_type": "code",
   "execution_count": 14,
   "metadata": {
    "collapsed": true
   },
   "outputs": [],
   "source": [
    "ntr = int(0.8 * examples)"
   ]
  },
  {
   "cell_type": "code",
   "execution_count": 16,
   "metadata": {
    "collapsed": false
   },
   "outputs": [
    {
     "data": {
      "text/plain": [
       "<HDF5 dataset \"data\": shape (39965, 8, 32, 32), type \"<f4\">"
      ]
     },
     "execution_count": 16,
     "metadata": {},
     "output_type": "execute_result"
    }
   ],
   "source": [
    "nhf.create_dataset('data', data=hf['data'][ntr:])"
   ]
  },
  {
   "cell_type": "code",
   "execution_count": 17,
   "metadata": {
    "collapsed": false
   },
   "outputs": [
    {
     "data": {
      "text/plain": [
       "<HDF5 dataset \"label\": shape (39965, 1, 1, 1), type \"<f8\">"
      ]
     },
     "execution_count": 17,
     "metadata": {},
     "output_type": "execute_result"
    }
   ],
   "source": [
    "nhf.create_dataset('label', data=hf['label'][ntr:])"
   ]
  },
  {
   "cell_type": "code",
   "execution_count": 19,
   "metadata": {
    "collapsed": false
   },
   "outputs": [],
   "source": [
    "hfd = hf['data'][:ntr]"
   ]
  },
  {
   "cell_type": "code",
   "execution_count": 21,
   "metadata": {
    "collapsed": false
   },
   "outputs": [],
   "source": [
    "hfl = hf['label'][:ntr]"
   ]
  },
  {
   "cell_type": "code",
   "execution_count": 25,
   "metadata": {
    "collapsed": false
   },
   "outputs": [
    {
     "data": {
      "text/plain": [
       "<HDF5 dataset \"data\": shape (159859, 8, 32, 32), type \"<f4\">"
      ]
     },
     "execution_count": 25,
     "metadata": {},
     "output_type": "execute_result"
    }
   ],
   "source": [
    "thf.create_dataset('data', data=hfd)"
   ]
  },
  {
   "cell_type": "code",
   "execution_count": 26,
   "metadata": {
    "collapsed": false
   },
   "outputs": [
    {
     "data": {
      "text/plain": [
       "<HDF5 dataset \"label\": shape (159859, 1, 1, 1), type \"<f8\">"
      ]
     },
     "execution_count": 26,
     "metadata": {},
     "output_type": "execute_result"
    }
   ],
   "source": [
    "thf.create_dataset('label', data=hfl)"
   ]
  },
  {
   "cell_type": "code",
   "execution_count": 27,
   "metadata": {
    "collapsed": true
   },
   "outputs": [],
   "source": [
    "thf.close(); nhf.close(); hf.close()"
   ]
  },
  {
   "cell_type": "code",
   "execution_count": 29,
   "metadata": {
    "collapsed": false
   },
   "outputs": [
    {
     "name": "stdout",
     "output_type": "stream",
     "text": [
      "data                     Dataset {159859, 8, 32, 32}\r\n",
      "label                    Dataset {159859, 1, 1, 1}\r\n"
     ]
    }
   ],
   "source": [
    "!h5ls '/project/projectdirs/nervana/evan/preproc_data/data_for_caffe/hurricane_train.h5'"
   ]
  },
  {
   "cell_type": "code",
   "execution_count": 30,
   "metadata": {
    "collapsed": false
   },
   "outputs": [
    {
     "name": "stdout",
     "output_type": "stream",
     "text": [
      "data                     Dataset {39965, 8, 32, 32}\r\n",
      "label                    Dataset {39965, 1, 1, 1}\r\n"
     ]
    }
   ],
   "source": [
    "!h5ls '/project/projectdirs/nervana/evan/preproc_data/data_for_caffe/hurricanes_test.h5'\n"
   ]
  },
  {
   "cell_type": "code",
   "execution_count": 32,
   "metadata": {
    "collapsed": false
   },
   "outputs": [
    {
     "name": "stdout",
     "output_type": "stream",
     "text": [
      "README.md\t\t\t   hurr_main.ipynb\r\n",
      "archive.zip\t\t\t   make_data_for_thorsten.ipynb\r\n",
      "build_hur_classif_network.ipynb    nbfinder.py\r\n",
      "build_hur_detection_network.ipynb  neon\r\n",
      "config.json\t\t\t   print_n_plot.ipynb\r\n",
      "data_loader.ipynb\t\t   results\r\n",
      "detec_helper_fxns.ipynb\t\t   split_classif_detect_data.ipynb\r\n",
      "detection\t\t\t   train_val.ipynb\r\n",
      "helper_fxns.ipynb\r\n"
     ]
    }
   ],
   "source": []
  },
  {
   "cell_type": "code",
   "execution_count": 33,
   "metadata": {
    "collapsed": false
   },
   "outputs": [
    {
     "name": "stdout",
     "output_type": "stream",
     "text": [
      "-rw-rw-r-- 1 racah dasrepo 1309894984 Jul  5 23:42 /project/projectdirs/nervana/evan/preproc_data/data_for_caffe/hurricanes_test.h5\r\n"
     ]
    }
   ],
   "source": [
    "!ls -l '/project/projectdirs/nervana/evan/preproc_data/data_for_caffe/hurricanes_test.h5'"
   ]
  },
  {
   "cell_type": "code",
   "execution_count": 34,
   "metadata": {
    "collapsed": false
   },
   "outputs": [
    {
     "name": "stdout",
     "output_type": "stream",
     "text": [
      "-rwxrwxr-x 1 racah dasrepo 13108431072 Jul  5 23:42 /project/projectdirs/nervana/evan/preproc_data/data_for_caffe/hurricanes.h5\r\n"
     ]
    }
   ],
   "source": [
    "!ls -l '/project/projectdirs/nervana/evan/preproc_data/data_for_caffe/hurricanes.h5'"
   ]
  },
  {
   "cell_type": "code",
   "execution_count": 35,
   "metadata": {
    "collapsed": true
   },
   "outputs": [],
   "source": [
    "! mv /project/projectdirs/nervana/evan/preproc_data/data_for_caffe/hurricane_train.h5 /project/projectdirs/nervana/evan/preproc_data/data_for_caffe/hurricanes_train.h5"
   ]
  },
  {
   "cell_type": "code",
   "execution_count": 36,
   "metadata": {
    "collapsed": false
   },
   "outputs": [
    {
     "name": "stdout",
     "output_type": "stream",
     "text": [
      "\u001b[0m\u001b[00;32matmospheric_river_us+eu+landsea_sep10.h5\u001b[0m*  \u001b[00mhurricanes_test.h5\u001b[0m\r\n",
      "\u001b[00mfronts_all.h5\u001b[0m                              \u001b[00mhurricanes_train.h5\u001b[0m\r\n",
      "\u001b[00;32mhurricanes.h5\u001b[0m*\r\n"
     ]
    }
   ],
   "source": [
    "ls /project/projectdirs/nervana/evan/preproc_data/data_for_caffe/"
   ]
  },
  {
   "cell_type": "code",
   "execution_count": null,
   "metadata": {
    "collapsed": true
   },
   "outputs": [],
   "source": []
  }
 ],
 "metadata": {
  "kernelspec": {
   "display_name": "Python 2",
   "language": "python",
   "name": "python2"
  },
  "language_info": {
   "codemirror_mode": {
    "name": "ipython",
    "version": 2
   },
   "file_extension": ".py",
   "mimetype": "text/x-python",
   "name": "python",
   "nbconvert_exporter": "python",
   "pygments_lexer": "ipython2",
   "version": "2.7.12"
  }
 },
 "nbformat": 4,
 "nbformat_minor": 0
}
