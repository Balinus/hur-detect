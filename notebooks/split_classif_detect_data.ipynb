{
 "cells": [
  {
   "cell_type": "code",
   "execution_count": 1,
   "metadata": {
    "collapsed": false
   },
   "outputs": [
    {
     "name": "stdout",
     "output_type": "stream",
     "text": [
      "[u'hurricane', u'hurricane_box', u'nothurricane', u'nothurricane_box']\n"
     ]
    }
   ],
   "source": [
    "import h5py\n",
    "import numpy as np\n",
    "\n",
    "hur_file = h5py.File('/global/project/projectdirs/nervana/yunjie/dataset/localization/larger_hurricanes_loc.h5')\n",
    "\n",
    "classif_file =h5py.File('/global/project/projectdirs/nervana/evan/detection_data/hur_class.h5')\n",
    "\n",
    "detect_file = h5py.File('/global/project/projectdirs/nervana/evan/detection_data/hur_detect.h5')\n",
    "\n",
    "rng = np.random.RandomState(6)\n",
    "\n",
    "print hur_file.keys()\n",
    "\n",
    "hurs = hur_file['hurricane'][:]\n",
    "\n",
    "h_box = hur_file['hurricane_box'][:]\n",
    "\n",
    "nhurs = hur_file['nothurricane'][:]\n",
    "\n",
    "inds = np.arange(hurs.shape[0])\n",
    "\n",
    "rng.shuffle(inds)\n",
    "\n",
    "hurs = hurs[inds]\n",
    "\n",
    "h_box = h_box[inds] #forgot this one (very important)\n",
    "\n",
    "classif_hurs = hurs[:int(0.4*hurs.shape[0])]\n",
    "\n",
    "detect_hurs = hurs[int(0.4*hurs.shape[0]):]\n",
    "\n",
    "classif_hbox = h_box[:int(0.4*hurs.shape[0])]\n",
    "detect_hbox = h_box[int(0.4*hurs.shape[0]):]\n",
    "\n",
    "detect_hurs.shape\n",
    "\n",
    "nhurs = nhurs[inds]\n",
    "\n",
    "classif_nhurs = nhurs[:int(0.4*nhurs.shape[0])]\n",
    "\n",
    "detect_nhurs = nhurs[int(0.4*nhurs.shape[0]):]\n",
    "\n",
    "classif_file.create_dataset('hurricanes', data=classif_hurs)\n",
    "\n",
    "classif_file.create_dataset('hurricane_boxes', data=classif_hbox)\n",
    "\n",
    "classif_file.create_dataset('not_hurricanes', data=classif_nhurs)\n",
    "\n",
    "detect_file.create_dataset('hurricanes', data=detect_hurs)\n",
    "\n",
    "detect_file.create_dataset('hurricane_boxes', data=detect_hbox)\n",
    "\n",
    "detect_file.create_dataset('not_hurricanes', data=detect_nhurs)\n",
    "\n",
    "detect_file.close()\n",
    "classif_file.close()"
   ]
  },
  {
   "cell_type": "code",
   "execution_count": null,
   "metadata": {
    "collapsed": true
   },
   "outputs": [],
   "source": []
  }
 ],
 "metadata": {
  "kernelspec": {
   "display_name": "Python 2",
   "language": "python",
   "name": "python2"
  },
  "language_info": {
   "codemirror_mode": {
    "name": "ipython",
    "version": 2
   },
   "file_extension": ".py",
   "mimetype": "text/x-python",
   "name": "python",
   "nbconvert_exporter": "python",
   "pygments_lexer": "ipython2",
   "version": "2.7.11"
  }
 },
 "nbformat": 4,
 "nbformat_minor": 0
}
