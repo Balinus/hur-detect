{
 "cells": [
  {
   "cell_type": "code",
   "execution_count": 4,
   "metadata": {
    "collapsed": true
   },
   "outputs": [],
   "source": [
    "import h5py\n",
    "import numpy as np\n",
    "import os"
   ]
  },
  {
   "cell_type": "code",
   "execution_count": 1,
   "metadata": {
    "collapsed": false
   },
   "outputs": [
    {
     "name": "stdout",
     "output_type": "stream",
     "text": [
      "[u'hurricane', u'hurricane_box', u'nothurricane', u'nothurricane_box']\n"
     ]
    }
   ],
   "source": [
    "hur_file = h5py.File('/global/project/projectdirs/nervana/yunjie/dataset/localization/larger_hurricanes_loc.h5')\n",
    "\n",
    "classif_file =h5py.File('/global/project/projectdirs/nervana/evan/detection_data/hur_class.h5')\n",
    "\n",
    "detect_file = h5py.File('/global/project/projectdirs/nervana/evan/detection_data/hur_detect.h5')\n",
    "\n",
    "rng = np.random.RandomState(6)\n",
    "\n",
    "print hur_file.keys()\n",
    "\n",
    "hurs = hur_file['hurricane'][:]\n",
    "\n",
    "h_box = hur_file['hurricane_box'][:]\n",
    "\n",
    "nhurs = hur_file['nothurricane'][:]\n",
    "\n",
    "inds = np.arange(hurs.shape[0])\n",
    "\n",
    "rng.shuffle(inds)\n",
    "\n",
    "hurs = hurs[inds]\n",
    "\n",
    "h_box = h_box[inds] #forgot this one (very important)\n",
    "\n",
    "classif_hurs = hurs[:int(0.4*hurs.shape[0])]\n",
    "\n",
    "detect_hurs = hurs[int(0.4*hurs.shape[0]):]\n",
    "\n",
    "classif_hbox = h_box[:int(0.4*hurs.shape[0])]\n",
    "detect_hbox = h_box[int(0.4*hurs.shape[0]):]\n",
    "\n",
    "detect_hurs.shape\n",
    "\n",
    "nhurs = nhurs[inds]\n",
    "\n",
    "classif_nhurs = nhurs[:int(0.4*nhurs.shape[0])]\n",
    "\n",
    "detect_nhurs = nhurs[int(0.4*nhurs.shape[0]):]\n",
    "\n",
    "classif_file.create_dataset('hurricanes', data=classif_hurs)\n",
    "\n",
    "classif_file.create_dataset('hurricane_boxes', data=classif_hbox)\n",
    "\n",
    "classif_file.create_dataset('not_hurricanes', data=classif_nhurs)\n",
    "\n",
    "detect_file.create_dataset('hurricanes', data=detect_hurs)\n",
    "\n",
    "detect_file.create_dataset('hurricane_boxes', data=detect_hbox)\n",
    "\n",
    "detect_file.create_dataset('not_hurricanes', data=detect_nhurs)\n",
    "\n",
    "detect_file.close()\n",
    "classif_file.close()"
   ]
  },
  {
   "cell_type": "code",
   "execution_count": 5,
   "metadata": {
    "collapsed": true
   },
   "outputs": [],
   "source": [
    "path = '/project/projectdirs/dasrepo/gordon_bell/climate/data/detection/'"
   ]
  },
  {
   "cell_type": "code",
   "execution_count": 6,
   "metadata": {
    "collapsed": false
   },
   "outputs": [],
   "source": [
    "classif_file = h5py.File(path + 'hur_class.h5')"
   ]
  },
  {
   "cell_type": "code",
   "execution_count": 7,
   "metadata": {
    "collapsed": false
   },
   "outputs": [],
   "source": [
    "detect_file = h5py.File(path + 'hur_detect.h5')"
   ]
  },
  {
   "cell_type": "code",
   "execution_count": 30,
   "metadata": {
    "collapsed": false
   },
   "outputs": [],
   "source": [
    "train_file = h5py.File(path + 'hur_train_val.h5')\n",
    "\n",
    "detect_file['hurricanes'].shape\n",
    "\n",
    "detect_file.keys()\n",
    "\n",
    "tr_hurs = train_file.create_dataset('hurs', shape=(20000,8,96,96))\n",
    "\n",
    "tr_hurs[:15000] = detect_file['hurricanes']\n",
    "\n",
    "tr_hurs[15000:] = classif_file['hurricanes'][:5000]\n",
    "\n",
    "tr_hur_boxes = train_file.create_dataset('hur_boxes', shape=(20000,1,4))\n",
    "\n",
    "tr_hur_boxes[:15000] = detect_file['hurricane_boxes']\n",
    "\n",
    "tr_hur_boxes[15000:] = classif_file['hurricane_boxes'][:5000]\n",
    "\n",
    "tr_nhurs = train_file.create_dataset('nhurs', shape=(20000,8,96,96))\n",
    "\n",
    "tr_nhurs[:15000] = detect_file['not_hurricanes']\n",
    "\n",
    "tr_nhurs[15000:] = classif_file['not_hurricanes'][:5000]\n",
    "\n",
    "train_file.close()"
   ]
  },
  {
   "cell_type": "code",
   "execution_count": 38,
   "metadata": {
    "collapsed": false
   },
   "outputs": [],
   "source": [
    "os.remove(path + 'hur_test.h5')"
   ]
  },
  {
   "cell_type": "code",
   "execution_count": 39,
   "metadata": {
    "collapsed": true
   },
   "outputs": [],
   "source": [
    "test_file = h5py.File(path + 'hur_test.h5')"
   ]
  },
  {
   "cell_type": "code",
   "execution_count": 40,
   "metadata": {
    "collapsed": true
   },
   "outputs": [],
   "source": [
    "te_hurs = test_file.create_dataset('hurs', shape=(5000,8,96,96))"
   ]
  },
  {
   "cell_type": "code",
   "execution_count": 41,
   "metadata": {
    "collapsed": true
   },
   "outputs": [],
   "source": [
    "te_hurs[:5000] = classif_file['hurricanes'][5000:]\n",
    "\n",
    "te_hur_boxes = test_file.create_dataset('hur_boxes', shape=(5000,1,4))\n",
    "\n",
    "te_hur_boxes[:5000] = classif_file['hurricane_boxes'][5000:]\n",
    "\n",
    "te_nhurs = test_file.create_dataset('nhurs', shape=(5000,8,96,96))\n",
    "\n",
    "\n",
    "\n",
    "te_nhurs[:5000] = classif_file['not_hurricanes'][5000:]"
   ]
  },
  {
   "cell_type": "code",
   "execution_count": null,
   "metadata": {
    "collapsed": true
   },
   "outputs": [],
   "source": []
  },
  {
   "cell_type": "code",
   "execution_count": 47,
   "metadata": {
    "collapsed": false
   },
   "outputs": [
    {
     "data": {
      "text/plain": [
       "['hur_class.h5', 'hur_detect.h5', 'hur_train_val.h5', 'hur_test.h5']"
      ]
     },
     "execution_count": 47,
     "metadata": {},
     "output_type": "execute_result"
    }
   ],
   "source": [
    "os.listdir(path)"
   ]
  },
  {
   "cell_type": "code",
   "execution_count": 42,
   "metadata": {
    "collapsed": false
   },
   "outputs": [],
   "source": [
    "test_file.close()"
   ]
  },
  {
   "cell_type": "code",
   "execution_count": 19,
   "metadata": {
    "collapsed": false
   },
   "outputs": [
    {
     "data": {
      "text/plain": [
       "(5000, 1, 4)"
      ]
     },
     "execution_count": 19,
     "metadata": {},
     "output_type": "execute_result"
    }
   ],
   "source": [
    "test_file['hur_boxes'].shape"
   ]
  },
  {
   "cell_type": "code",
   "execution_count": 20,
   "metadata": {
    "collapsed": false
   },
   "outputs": [
    {
     "data": {
      "text/plain": [
       "'/project/projectdirs/dasrepo/gordon_bell/climate/data/detection/'"
      ]
     },
     "execution_count": 20,
     "metadata": {},
     "output_type": "execute_result"
    }
   ],
   "source": [
    "path"
   ]
  },
  {
   "cell_type": "code",
   "execution_count": 43,
   "metadata": {
    "collapsed": false
   },
   "outputs": [
    {
     "name": "stdout",
     "output_type": "stream",
     "text": [
      "total 28G\r\n",
      "drwxrwsr-x 3 racah dasrepo  512 Jul 16 17:44 ..\r\n",
      "-rw-rw-r-- 1 racah dasrepo 5.5G Jul 16 17:45 hur_class.h5\r\n",
      "-rw-rw-r-- 1 racah dasrepo 8.3G Jul 16 17:45 hur_detect.h5\r\n",
      "-rw-rw-r-- 1 racah dasrepo  11G Aug  5 14:18 hur_train_val.h5\r\n",
      "drwxrwsr-x 2 racah dasrepo  512 Aug  5 16:41 .\r\n",
      "-rw-rw-r-- 1 racah dasrepo 2.8G Aug  5 16:42 hur_test.h5\r\n"
     ]
    }
   ],
   "source": [
    "! ls -lahrt  /project/projectdirs/dasrepo/gordon_bell/climate/data/detection/"
   ]
  },
  {
   "cell_type": "code",
   "execution_count": 22,
   "metadata": {
    "collapsed": true
   },
   "outputs": [],
   "source": [
    "train_file = h5py.File(path + 'hur_train_val.h5')"
   ]
  },
  {
   "cell_type": "code",
   "execution_count": 37,
   "metadata": {
    "collapsed": false
   },
   "outputs": [
    {
     "data": {
      "text/plain": [
       "array([[ 0.,  0.,  0., ...,  0.,  0.,  0.],\n",
       "       [ 0.,  0.,  0., ...,  0.,  0.,  0.],\n",
       "       [ 0.,  0.,  0., ...,  0.,  0.,  0.],\n",
       "       ..., \n",
       "       [ 0.,  0.,  0., ...,  0.,  0.,  0.],\n",
       "       [ 0.,  0.,  0., ...,  0.,  0.,  0.],\n",
       "       [ 0.,  0.,  0., ...,  0.,  0.,  0.]], dtype=float32)"
      ]
     },
     "execution_count": 37,
     "metadata": {},
     "output_type": "execute_result"
    }
   ],
   "source": [
    "test_file['hurs'][100,1]"
   ]
  },
  {
   "cell_type": "code",
   "execution_count": 36,
   "metadata": {
    "collapsed": false
   },
   "outputs": [
    {
     "data": {
      "text/plain": [
       "array([[ 35.54942322,  35.33252335,  35.39119339, ...,  46.66811752,\n",
       "         45.7436142 ,  44.9848175 ],\n",
       "       [ 35.42816162,  35.46247482,  35.7043457 , ...,  46.70833588,\n",
       "         46.34134674,  45.23806763],\n",
       "       [ 35.74476242,  36.0340004 ,  36.1967392 , ...,  46.78645325,\n",
       "         46.73406982,  46.20595932],\n",
       "       ..., \n",
       "       [ 15.62064552,  15.27153492,  14.90193272, ...,  41.7114296 ,\n",
       "         40.06175613,  38.77220535],\n",
       "       [ 16.44297791,  16.2424221 ,  15.91788006, ...,  40.71082687,\n",
       "         39.01677322,  38.27013779],\n",
       "       [ 16.93037796,  16.87965584,  16.73151016, ...,  39.2886467 ,\n",
       "         38.4907341 ,  37.92019653]], dtype=float32)"
      ]
     },
     "execution_count": 36,
     "metadata": {},
     "output_type": "execute_result"
    }
   ],
   "source": [
    "classif_file['hurricanes'][9999,0]"
   ]
  },
  {
   "cell_type": "code",
   "execution_count": null,
   "metadata": {
    "collapsed": true
   },
   "outputs": [],
   "source": []
  }
 ],
 "metadata": {
  "kernelspec": {
   "display_name": "Python 2",
   "language": "python",
   "name": "python2"
  },
  "language_info": {
   "codemirror_mode": {
    "name": "ipython",
    "version": 2
   },
   "file_extension": ".py",
   "mimetype": "text/x-python",
   "name": "python",
   "nbconvert_exporter": "python",
   "pygments_lexer": "ipython2",
   "version": "2.7.12"
  }
 },
 "nbformat": 4,
 "nbformat_minor": 0
}
