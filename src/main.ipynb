{
 "cells": [
  {
   "cell_type": "code",
   "execution_count": 1,
   "metadata": {
    "collapsed": false
   },
   "outputs": [
    {
     "name": "stdout",
     "output_type": "stream",
     "text": [
      "importing Jupyter notebook from notebooks_src/callbacks/callbacks.ipynb\n"
     ]
    },
    {
     "name": "stderr",
     "output_type": "stream",
     "text": [
      "Using TensorFlow backend.\n"
     ]
    },
    {
     "name": "stdout",
     "output_type": "stream",
     "text": [
      "importing Jupyter notebook from notebooks_src/optimizers/get_opt.ipynb\n",
      "importing Jupyter notebook from notebooks_src/optimizers/configs.ipynb\n",
      "importing Jupyter notebook from notebooks_src/config_util.ipynb\n",
      "importing Jupyter notebook from notebooks_src/losses/configs.ipynb\n",
      "importing Jupyter notebook from notebooks_src/models/configs.ipynb\n",
      "importing Jupyter notebook from notebooks_src/models/iclr_semisupervised.ipynb\n",
      "importing Jupyter notebook from notebooks_src/models/util.ipynb\n",
      "importing Jupyter notebook from notebooks_src/models/iclr_supervised.ipynb\n",
      "importing Jupyter notebook from notebooks_src/load_data/generator.ipynb\n",
      "importing Jupyter notebook from notebooks_src/load_data/dataset.ipynb\n",
      "importing Jupyter notebook from notebooks_src/load_data/configs.ipynb\n",
      "importing Jupyter notebook from notebooks_src/fit/configs.ipynb\n"
     ]
    }
   ],
   "source": [
    "import sys\n",
    "from setup_command_line_args import parse_cla\n",
    "parse_cla() \n",
    "    \n",
    "    \n",
    "from notebooks_src.nbfinder import NotebookFinder\n",
    "sys.meta_path.append(NotebookFinder())\n",
    "\n",
    "from notebooks_src.callbacks import callbacks\n",
    "\n",
    "from keras.models import Model\n",
    "from notebooks_src.optimizers.get_opt import get_opt\n",
    "from notebooks_src.losses import get_loss\n",
    "import numpy as np\n",
    "from notebooks_src.models import get_model\n",
    "from notebooks_src.callbacks.callbacks import get_callbacks\n",
    "from notebooks_src.load_data.generator import get_generator\n",
    "from notebooks_src.fit.configs import configs"
   ]
  },
  {
   "cell_type": "code",
   "execution_count": 2,
   "metadata": {
    "collapsed": false
   },
   "outputs": [
    {
     "name": "stdout",
     "output_type": "stream",
     "text": [
      "iclr_semisupervised\n",
      "importing Jupyter notebook from notebooks_src/losses/iclr_supervised.ipynb\n",
      "importing Jupyter notebook from notebooks_src/losses/util.ipynb\n",
      "importing Jupyter notebook from notebooks_src/load_data/data/climate/data.ipynb\n",
      "importing Jupyter notebook from notebooks_src/load_data/data/climate/util.ipynb\n",
      "importing Jupyter notebook from notebooks_src/load_data/data/climate/labels/util.ipynb\n",
      "importing Jupyter notebook from notebooks_src/load_data/data/climate/configs.ipynb\n"
     ]
    }
   ],
   "source": [
    "model = get_model()\n",
    "\n",
    "opt = get_opt()\n",
    "\n",
    "loss, loss_weights = get_loss(model.name)\n",
    "\n",
    "model.compile(optimizer=opt, loss=loss, loss_weights=loss_weights)\n",
    "\n",
    "callbacks = get_callbacks()\n",
    "\n",
    "generator = get_generator(mode=model.mode, typ=\"tr\" )\n",
    "\n",
    "val_generator = get_generator(typ=\"val\", mode=model.mode)\n",
    "\n",
    "model.fit_generator(generator=generator,\n",
    "                    validation_data=val_generator, \n",
    "                    nb_val_samples=val_generator.num_ims,\n",
    "                    samples_per_epoch=generator.num_ims,\n",
    "                    callbacks=callbacks,\n",
    "                    nb_epoch=configs[\"num_epochs\"],nb_worker=4\n",
    "                   )"
   ]
  },
  {
   "cell_type": "code",
   "execution_count": null,
   "metadata": {
    "collapsed": true
   },
   "outputs": [],
   "source": []
  }
 ],
 "metadata": {
  "kernelspec": {
   "display_name": "Python 2",
   "language": "python",
   "name": "python2"
  },
  "language_info": {
   "codemirror_mode": {
    "name": "ipython",
    "version": 2
   },
   "file_extension": ".py",
   "mimetype": "text/x-python",
   "name": "python",
   "nbconvert_exporter": "python",
   "pygments_lexer": "ipython2",
   "version": "2.7.12"
  }
 },
 "nbformat": 4,
 "nbformat_minor": 2
}
