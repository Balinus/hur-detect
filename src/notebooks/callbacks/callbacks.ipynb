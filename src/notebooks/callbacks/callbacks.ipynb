{
 "cells": [
  {
   "cell_type": "code",
   "execution_count": 2,
   "metadata": {
    "collapsed": false
   },
   "outputs": [
    {
     "name": "stderr",
     "output_type": "stream",
     "text": [
      "Using TensorFlow backend.\n"
     ]
    }
   ],
   "source": [
    "import keras"
   ]
  },
  {
   "cell_type": "code",
   "execution_count": 4,
   "metadata": {
    "collapsed": true
   },
   "outputs": [],
   "source": [
    "import sys"
   ]
  },
  {
   "cell_type": "code",
   "execution_count": 18,
   "metadata": {
    "collapsed": true
   },
   "outputs": [],
   "source": [
    "import numpy as np\n",
    "import matplotlib.pyplot as plt\n",
    "%matplotlib inline"
   ]
  },
  {
   "cell_type": "code",
   "execution_count": 6,
   "metadata": {
    "collapsed": true
   },
   "outputs": [],
   "source": [
    "class WeightPrinter(keras.callbacks.Callback):\n",
    "\n",
    "\n",
    "    def on_batch_end(self, batch, logs={}):\n",
    "        weights = self.model.get_weights()\n",
    "        for i, weight_set in enumerate(weights):\n",
    "\n",
    "            weights_norm = np.sum(np.square(weight_set))\n",
    "            min_weight = np.min(weight_set)\n",
    "            max_weight = np.max(weight_set)\n",
    "            weight_shape = weight_set.shape\n",
    "            sys.stderr.write(\"\\n ####### \\n Weight Set %i shape: %s\\nweight norm: %5.2f \\nmin_weight: %5.2f\\nmax_weight: %5.2f\\n ##### \\n\"%(i, str(weight_shape),\n",
    "                                                                                                               weights_norm,\n",
    "                                                                                                               min_weight,\n",
    "                                                                                                               max_weight))\n",
    "        sys.stderr.write(str(logs.get(\"loss\")))\n",
    "        "
   ]
  },
  {
   "cell_type": "code",
   "execution_count": 7,
   "metadata": {
    "collapsed": false
   },
   "outputs": [],
   "source": [
    "class LearnCurve(keras.callbacks.Callback):\n",
    "    \n",
    "    def on_train_begin(self, logs={}):\n",
    "        self.losses = []\n",
    "        self.glob_losses = []\n",
    "\n",
    "    def on_batch_end(self, batch, logs={}):\n",
    "        #sys.stderr.write(str(logs))\n",
    "        self.losses.append(logs.get('loss'))\n",
    "    def on_epoch_end(self,epoch, logs):\n",
    "        self.glob_losses.append(logs.get('loss'))\n",
    "        if epoch % 1 ==0:\n",
    "\n",
    "            plt.plot(self.glob_losses)\n",
    "            plt.show()\n",
    "        \n",
    "        \n",
    "\n",
    "    def on_train_end(self,*args):\n",
    "        plt.plot(self.glob_losses)\n",
    "        plt.show()"
   ]
  },
  {
   "cell_type": "code",
   "execution_count": 3,
   "metadata": {
    "collapsed": false
   },
   "outputs": [],
   "source": [
    "def sched(epoch_ind):\n",
    "    if epoch_ind < 50:\n",
    "        return 0.0001\n",
    "    elif epoch_ind < 100:\n",
    "        return 0.00001\n",
    "    else:\n",
    "        return 0.000001\n",
    "\n",
    "lr_sched_cback = keras.callbacks.LearningRateScheduler(schedule=sched)"
   ]
  },
  {
   "cell_type": "code",
   "execution_count": 17,
   "metadata": {
    "collapsed": true
   },
   "outputs": [],
   "source": [
    "def get_callbacks():\n",
    "    return [LearnCurve()]"
   ]
  },
  {
   "cell_type": "code",
   "execution_count": null,
   "metadata": {
    "collapsed": true
   },
   "outputs": [],
   "source": []
  }
 ],
 "metadata": {
  "kernelspec": {
   "display_name": "Python 2",
   "language": "python",
   "name": "python2"
  },
  "language_info": {
   "codemirror_mode": {
    "name": "ipython",
    "version": 2
   },
   "file_extension": ".py",
   "mimetype": "text/x-python",
   "name": "python",
   "nbconvert_exporter": "python",
   "pygments_lexer": "ipython2",
   "version": "2.7.12"
  }
 },
 "nbformat": 4,
 "nbformat_minor": 2
}
