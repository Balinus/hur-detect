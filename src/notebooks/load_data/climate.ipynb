{
 "cells": [
  {
   "cell_type": "code",
   "execution_count": 3,
   "metadata": {
    "collapsed": false
   },
   "outputs": [
    {
     "name": "stdout",
     "output_type": "stream",
     "text": [
      "importing Jupyter notebook from dataset.ipynb\n",
      "importing Jupyter notebook from util.ipynb\n",
      "importing Jupyter notebook from labels/util.ipynb\n",
      "importing Jupyter notebook from configs.ipynb\n"
     ]
    }
   ],
   "source": [
    "\n",
    "import sys\n",
    "import os\n",
    "from nbfinder import NotebookFinder\n",
    "sys.meta_path.append(NotebookFinder())\n",
    "from dataset import make_datasets\n",
    "import numpy as np"
   ]
  },
  {
   "cell_type": "code",
   "execution_count": 4,
   "metadata": {
    "collapsed": true
   },
   "outputs": [],
   "source": [
    "import threading"
   ]
  },
  {
   "cell_type": "code",
   "execution_count": 5,
   "metadata": {
    "collapsed": false
   },
   "outputs": [],
   "source": [
    "from configs import configs"
   ]
  },
  {
   "cell_type": "code",
   "execution_count": null,
   "metadata": {
    "collapsed": true
   },
   "outputs": [],
   "source": [
    "def get_generator(typ,num_ims=None):\n",
    "    if num_ims is None:\n",
    "        num_ims = configs[\"num_\"+ typ+\"_ims\"]\n",
    "    return ClimateGenThreadSafe(batch_size = configs[\"batch_size\"],\n",
    "                                typ=typ, \n",
    "                                tf_mode=True, \n",
    "                                num_ex = num_ims) \n",
    "    "
   ]
  },
  {
   "cell_type": "code",
   "execution_count": 7,
   "metadata": {
    "collapsed": true
   },
   "outputs": [],
   "source": [
    "\n",
    "def climate_gen(batch_size=128, typ=\"tr\", tf_mode=True, num_ex=-1):\n",
    "    cl_data = make_datasets(num_tr_examples=num_tr,typ=typ)\n",
    "    data = getattr(cl_data, typ)\n",
    "    \n",
    "    \n",
    "    #supposed to go indefinitely\n",
    "    while 1:\n",
    "        ims,lbls = data.next_batch(batch_size=batch_size)\n",
    "        if tf_mode:\n",
    "            ims, lbls  = np.transpose(ims,axes= (0,2,3,1)), np.transpose(lbls,axes= (0,2,3,1))\n",
    "        lbls = correct_class_labels(lbls)\n",
    "        \n",
    "        yield ims, lbls\n",
    "            \n",
    "                "
   ]
  },
  {
   "cell_type": "code",
   "execution_count": 18,
   "metadata": {
    "collapsed": true
   },
   "outputs": [],
   "source": [
    "class ClimateGenThreadSafe(object):\n",
    "    def __init__(self, batch_size=128, typ=\"tr\", tf_mode=True, num_ex=-1):\n",
    "        self.data = make_datasets(num_examples=num_ex,typ=typ)\n",
    "        self.tf_mode = tf_mode\n",
    "        self.batch_size = batch_size\n",
    "        # create a lock\n",
    "        self.lock = threading.Lock()\n",
    "\n",
    "    def __iter__(self):\n",
    "        return self\n",
    "    @property\n",
    "    def num_ims(self):\n",
    "        return self.data.num_examples\n",
    "    \n",
    "    def next(self):\n",
    "        # acquire/release the lock when updating self.i\n",
    "        with self.lock:\n",
    "            ims,lbls = self.data.next_batch(batch_size=self.batch_size)\n",
    "            if self.tf_mode:\n",
    "                ims, lbls  = np.transpose(ims,axes= (0,2,3,1)), np.transpose(lbls,axes= (0,2,3,1))\n",
    "            lbls = correct_class_labels(lbls)\n",
    "            return ims, lbls"
   ]
  },
  {
   "cell_type": "code",
   "execution_count": 19,
   "metadata": {
    "collapsed": true
   },
   "outputs": [],
   "source": [
    "def correct_class_labels(lbls, tf_mode=True):\n",
    "    \"\"\"subtract class labels by 1, so labels used to be 1-4 now 0-3 and 0 is still 0\"\"\"\n",
    "    if tf_mode:\n",
    "        cl_index = 5\n",
    "        lbls[:,:,:,cl_index] = lbls[:,:,:,cl_index] - 1\n",
    "        lbls[:,:,:,cl_index] = np.where(lbls[:,:,:,cl_index]==-1,\n",
    "                                        np.zeros_like(lbls[:,:,:,cl_index]),\n",
    "                                        lbls[:,:,:,cl_index] )\n",
    "    else:\n",
    "        assert False, \"not implemented\"\n",
    "    return lbls\n",
    "    "
   ]
  },
  {
   "cell_type": "code",
   "execution_count": 20,
   "metadata": {
    "collapsed": false,
    "scrolled": true
   },
   "outputs": [
    {
     "name": "stdout",
     "output_type": "stream",
     "text": [
      "(4, 768, 768, 16) (4, 24, 24, 6)\n",
      "(4, 768, 768, 16) (4, 24, 24, 6)\n"
     ]
    },
    {
     "ename": "KeyboardInterrupt",
     "evalue": "",
     "output_type": "error",
     "traceback": [
      "\u001b[0;31m---------------------------------------------------------------------------\u001b[0m",
      "\u001b[0;31mKeyboardInterrupt\u001b[0m                         Traceback (most recent call last)",
      "\u001b[0;32m<ipython-input-20-d5f750244de1>\u001b[0m in \u001b[0;36m<module>\u001b[0;34m()\u001b[0m\n\u001b[1;32m      1\u001b[0m \u001b[0;32mif\u001b[0m \u001b[0m__name__\u001b[0m \u001b[0;34m==\u001b[0m \u001b[0;34m\"__main__\"\u001b[0m\u001b[0;34m:\u001b[0m\u001b[0;34m\u001b[0m\u001b[0m\n\u001b[1;32m      2\u001b[0m     \u001b[0mcg\u001b[0m \u001b[0;34m=\u001b[0m \u001b[0mClimateGenThreadSafe\u001b[0m\u001b[0;34m(\u001b[0m\u001b[0mbatch_size\u001b[0m\u001b[0;34m=\u001b[0m\u001b[0;36m4\u001b[0m\u001b[0;34m)\u001b[0m\u001b[0;34m\u001b[0m\u001b[0m\n\u001b[0;32m----> 3\u001b[0;31m     \u001b[0;32mfor\u001b[0m \u001b[0mim\u001b[0m\u001b[0;34m,\u001b[0m\u001b[0mlbl\u001b[0m \u001b[0;32min\u001b[0m \u001b[0mcg\u001b[0m\u001b[0;34m:\u001b[0m\u001b[0;34m\u001b[0m\u001b[0m\n\u001b[0m\u001b[1;32m      4\u001b[0m         \u001b[0;32mprint\u001b[0m \u001b[0mim\u001b[0m\u001b[0;34m.\u001b[0m\u001b[0mshape\u001b[0m\u001b[0;34m,\u001b[0m \u001b[0mlbl\u001b[0m\u001b[0;34m.\u001b[0m\u001b[0mshape\u001b[0m\u001b[0;34m\u001b[0m\u001b[0m\n\u001b[1;32m      5\u001b[0m \u001b[0;34m\u001b[0m\u001b[0m\n",
      "\u001b[0;32m<ipython-input-18-4073373b8803>\u001b[0m in \u001b[0;36mnext\u001b[0;34m(self)\u001b[0m\n\u001b[1;32m     15\u001b[0m         \u001b[0;31m# acquire/release the lock when updating self.i\u001b[0m\u001b[0;34m\u001b[0m\u001b[0;34m\u001b[0m\u001b[0m\n\u001b[1;32m     16\u001b[0m         \u001b[0;32mwith\u001b[0m \u001b[0mself\u001b[0m\u001b[0;34m.\u001b[0m\u001b[0mlock\u001b[0m\u001b[0;34m:\u001b[0m\u001b[0;34m\u001b[0m\u001b[0m\n\u001b[0;32m---> 17\u001b[0;31m             \u001b[0mims\u001b[0m\u001b[0;34m,\u001b[0m\u001b[0mlbls\u001b[0m \u001b[0;34m=\u001b[0m \u001b[0mself\u001b[0m\u001b[0;34m.\u001b[0m\u001b[0mdata\u001b[0m\u001b[0;34m.\u001b[0m\u001b[0mnext_batch\u001b[0m\u001b[0;34m(\u001b[0m\u001b[0mbatch_size\u001b[0m\u001b[0;34m=\u001b[0m\u001b[0mself\u001b[0m\u001b[0;34m.\u001b[0m\u001b[0mbatch_size\u001b[0m\u001b[0;34m)\u001b[0m\u001b[0;34m\u001b[0m\u001b[0m\n\u001b[0m\u001b[1;32m     18\u001b[0m             \u001b[0;32mif\u001b[0m \u001b[0mself\u001b[0m\u001b[0;34m.\u001b[0m\u001b[0mtf_mode\u001b[0m\u001b[0;34m:\u001b[0m\u001b[0;34m\u001b[0m\u001b[0m\n\u001b[1;32m     19\u001b[0m                 \u001b[0mims\u001b[0m\u001b[0;34m,\u001b[0m \u001b[0mlbls\u001b[0m  \u001b[0;34m=\u001b[0m \u001b[0mnp\u001b[0m\u001b[0;34m.\u001b[0m\u001b[0mtranspose\u001b[0m\u001b[0;34m(\u001b[0m\u001b[0mims\u001b[0m\u001b[0;34m,\u001b[0m\u001b[0maxes\u001b[0m\u001b[0;34m=\u001b[0m \u001b[0;34m(\u001b[0m\u001b[0;36m0\u001b[0m\u001b[0;34m,\u001b[0m\u001b[0;36m2\u001b[0m\u001b[0;34m,\u001b[0m\u001b[0;36m3\u001b[0m\u001b[0;34m,\u001b[0m\u001b[0;36m1\u001b[0m\u001b[0;34m)\u001b[0m\u001b[0;34m)\u001b[0m\u001b[0;34m,\u001b[0m \u001b[0mnp\u001b[0m\u001b[0;34m.\u001b[0m\u001b[0mtranspose\u001b[0m\u001b[0;34m(\u001b[0m\u001b[0mlbls\u001b[0m\u001b[0;34m,\u001b[0m\u001b[0maxes\u001b[0m\u001b[0;34m=\u001b[0m \u001b[0;34m(\u001b[0m\u001b[0;36m0\u001b[0m\u001b[0;34m,\u001b[0m\u001b[0;36m2\u001b[0m\u001b[0;34m,\u001b[0m\u001b[0;36m3\u001b[0m\u001b[0;34m,\u001b[0m\u001b[0;36m1\u001b[0m\u001b[0;34m)\u001b[0m\u001b[0;34m)\u001b[0m\u001b[0;34m\u001b[0m\u001b[0m\n",
      "\u001b[0;32m/home/evan/hur-detect/src/notebooks/load_data/dataset.ipynb\u001b[0m in \u001b[0;36mnext_batch\u001b[0;34m(self, batch_size, shuffle)\u001b[0m\n",
      "\u001b[0;32m/home/evan/hur-detect/src/notebooks/load_data/dataset.ipynb\u001b[0m in \u001b[0;36m__getitem__\u001b[0;34m(self, slice_)\u001b[0m\n",
      "\u001b[0;32m/home/evan/hur-detect/src/notebooks/load_data/dataset.ipynb\u001b[0m in \u001b[0;36mgrab_data_chunk\u001b[0;34m(self, filepaths, crop_indices)\u001b[0m\n",
      "\u001b[0;32m/home/evan/hur-detect/src/notebooks/load_data/util.ipynb\u001b[0m in \u001b[0;36mconvert_nc_data_to_tensor\u001b[0;34m(dataset, variables, is_label, time_step_sample_freq, time_steps_per_example)\u001b[0m\n",
      "\u001b[0;32m/home/evan/hur-detect/src/notebooks/load_data/util.ipynb\u001b[0m in \u001b[0;36minterleave_variables\u001b[0;34m(labelled_vars, time_steps_per_example, label)\u001b[0m\n",
      "\u001b[0;32m/home/evan/hur-detect/src/notebooks/load_data/util.ipynb\u001b[0m in \u001b[0;36minterleave_2d\u001b[0;34m(labelled_vars)\u001b[0m\n",
      "\u001b[0;31mKeyboardInterrupt\u001b[0m: "
     ]
    }
   ],
   "source": [
    "if __name__ == \"__main__\":\n",
    "    cg = ClimateGenThreadSafe(batch_size=4)\n",
    "    for im,lbl in cg:\n",
    "        print im.shape, lbl.shape\n",
    "        \n",
    "    # for im,lbl in climate_gen(batch_size=10, num_tr=20):\n",
    "    #         print im.shape, lbl.shape\n",
    "    #         print np.any(lbl[:,:,:,5] == 4)"
   ]
  },
  {
   "cell_type": "code",
   "execution_count": 1,
   "metadata": {
    "collapsed": false
   },
   "outputs": [
    {
     "name": "stdout",
     "output_type": "stream",
     "text": [
      "[NbConvertApp] Converting notebook climate.ipynb to script\n",
      "[NbConvertApp] Writing 2406 bytes to climate.py\n"
     ]
    }
   ],
   "source": [
    "#! jupyter nbconvert --to script climate.ipynb"
   ]
  },
  {
   "cell_type": "code",
   "execution_count": null,
   "metadata": {
    "collapsed": true
   },
   "outputs": [],
   "source": []
  }
 ],
 "metadata": {
  "kernelspec": {
   "display_name": "Python 2",
   "language": "python",
   "name": "python2"
  },
  "language_info": {
   "codemirror_mode": {
    "name": "ipython",
    "version": 2
   },
   "file_extension": ".py",
   "mimetype": "text/x-python",
   "name": "python",
   "nbconvert_exporter": "python",
   "pygments_lexer": "ipython2",
   "version": "2.7.12"
  }
 },
 "nbformat": 4,
 "nbformat_minor": 2
}
