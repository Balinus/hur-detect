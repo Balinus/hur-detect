{
 "cells": [
  {
   "cell_type": "code",
   "execution_count": null,
   "metadata": {
    "collapsed": true
   },
   "outputs": [],
   "source": [
    "data_format_args = {'input_shape': (None,16,768,1152),\n",
    "                    'time_steps_per_example': 1,\n",
    "\n",
    "                    \"time_step_sample_frequency\": 1,\n",
    "                    \"time_steps_per_file\": 8,\n",
    "                    \"image_variables\" :['PRECT','PS','PSL','QREFHT','T200','T500','TMQ','TREFHT',\n",
    "                                  'TS','U850','UBOT','V850','VBOT','Z1000','Z200','ZBOT'],\n",
    "                    \"label_variables\" : [\"x_coord\",\"y_coord\",\"w_coord\",\"h_coord\",\"obj\",\"cls\"]\n",
    "                        \n",
    "                    \n",
    "    \n",
    "}\n",
    "\n",
    "\n",
    "                \n",
    "                \n",
    "\n",
    "\n",
    "\n",
    "tr_val_test_args = {'batch_size' : 1,\n",
    "                    'num_test_days':365,\n",
    "                    'num_tr_days': 365,\n",
    "                    'tr_years': [1979],\n",
    "                    'val_years': [1980],\n",
    "                    \"test_years\" : [1981],\n",
    "                    \"tr_unlabelled_years\": [1982],\n",
    "                    'shuffle': False,\n",
    "                    'epochs': 10000,\n",
    "                    \"test\": False,\n",
    "                   }\n",
    "\n",
    "file_args = {'labels_file': \"/home/evan/data/climate/labels/labels.csv\",\n",
    "             'data_dir': \"/home/evan/data/climate/input\",\n",
    "             \"data_list_dir\": \"/home/evan/data/climate/lists/small-gpu-size_lists\"\n",
    "             \n",
    "             \n",
    "    \n",
    "}"
   ]
  },
  {
   "cell_type": "code",
   "execution_count": 8,
   "metadata": {
    "collapsed": true
   },
   "outputs": [],
   "source": [
    "kwargs_list = [data_format_args, tr_val_test_args, file_args ]\n",
    "\n",
    "configs = {}\n",
    "for kwargs in kwargs_list:\n",
    "    configs.update(kwargs)\n",
    "\n",
    "\n",
    "def update_configs(cl_kwargs):\n",
    "    for k,v in cl_kwargs.iteritems():\n",
    "        if k in data_configs:\n",
    "            configs[k] = v\n",
    "    return configs"
   ]
  }
 ],
 "metadata": {
  "kernelspec": {
   "display_name": "Python 2",
   "language": "python",
   "name": "python2"
  },
  "language_info": {
   "codemirror_mode": {
    "name": "ipython",
    "version": 2
   },
   "file_extension": ".py",
   "mimetype": "text/x-python",
   "name": "python",
   "nbconvert_exporter": "python",
   "pygments_lexer": "ipython2",
   "version": "2.7.12"
  }
 },
 "nbformat": 4,
 "nbformat_minor": 2
}
