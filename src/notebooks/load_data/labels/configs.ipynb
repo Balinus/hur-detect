{
 "cells": [
  {
   "cell_type": "code",
   "execution_count": 3,
   "metadata": {
    "collapsed": false
   },
   "outputs": [],
   "source": [
    "\n",
    "label_format_args = {  'num_classes': 4,\n",
    "                       'box_sizes':[(64,64)],\n",
    "                       'scale_factor': 64,                    \n",
    "                     \"variables\": ['PRECT','PS','PSL','QREFHT','T200','T500','TMQ','TREFHT',\n",
    "                                  'TS','U850','UBOT','V850','VBOT','Z1000','Z200','ZBOT'],\n",
    "                    \"xdim\": 768,\n",
    "                    \"ydim\": 1152,\n",
    "                     \n",
    "    \n",
    "}"
   ]
  },
  {
   "cell_type": "code",
   "execution_count": 4,
   "metadata": {
    "collapsed": true
   },
   "outputs": [],
   "source": [
    "kwargs_list = [label_format_args ]\n",
    "\n",
    "configs = {}\n",
    "for kwargs in kwargs_list:\n",
    "    configs.update(kwargs)\n",
    "\n",
    "\n",
    "def update_configs(cl_kwargs):\n",
    "    for k,v in cl_kwargs.iteritems():\n",
    "        if k in configs:\n",
    "            configs[k] = v\n",
    "    return configs"
   ]
  },
  {
   "cell_type": "code",
   "execution_count": null,
   "metadata": {
    "collapsed": true
   },
   "outputs": [],
   "source": []
  }
 ],
 "metadata": {
  "kernelspec": {
   "display_name": "Python 2",
   "language": "python",
   "name": "python2"
  },
  "language_info": {
   "codemirror_mode": {
    "name": "ipython",
    "version": 2
   },
   "file_extension": ".py",
   "mimetype": "text/x-python",
   "name": "python",
   "nbconvert_exporter": "python",
   "pygments_lexer": "ipython2",
   "version": "2.7.12"
  }
 },
 "nbformat": 4,
 "nbformat_minor": 2
}
