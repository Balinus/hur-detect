{
 "cells": [
  {
   "cell_type": "code",
   "execution_count": 1,
   "metadata": {
    "collapsed": false
   },
   "outputs": [
    {
     "name": "stdout",
     "output_type": "stream",
     "text": [
      "importing Jupyter notebook from labels/util.ipynb\n"
     ]
    }
   ],
   "source": [
    "import re\n",
    "import numpy as np\n",
    "import datetime as dt\n",
    "import os\n",
    "import sys\n",
    "from nbfinder import NotebookFinder\n",
    "sys.meta_path.append(NotebookFinder())\n",
    "import numpy as np\n",
    "import time\n",
    "import h5py\n",
    "import os\n",
    "from os.path import join\n",
    "from labels.util import get_timestamp"
   ]
  },
  {
   "cell_type": "code",
   "execution_count": 9,
   "metadata": {
    "collapsed": true
   },
   "outputs": [],
   "source": [
    "def normalize(arr,min_=None, max_=None, axis=(0,2,3)):\n",
    "        if min_ is None or max_ is None:\n",
    "            min_ = arr.min(axis=(0,2,3), keepdims=True)\n",
    "\n",
    "            max_ = arr.max(axis=(0,2,3), keepdims=True)\n",
    "\n",
    "        midrange = (max_ + min_) / 2.\n",
    "\n",
    "        range_ = (max_ - min_) / 2.\n",
    "        \n",
    "        arr -= midrange\n",
    "\n",
    "        arr /= (range_)\n",
    "        return arr, min_, max_   "
   ]
  },
  {
   "cell_type": "code",
   "execution_count": 12,
   "metadata": {
    "collapsed": true
   },
   "outputs": [],
   "source": [
    "def get_camfiles(data_dir, years, with_dir=False):\n",
    "    lsdir=os.listdir(data_dir)\n",
    "    rpfile = re.compile(r\"^cam5_.*\\.nc$\")\n",
    "    camfiles = [f for f in lsdir if rpfile.match(f)]\n",
    "    camfiles = [c for c in camfiles if get_timestamp(c).year in years]\n",
    "    camfiles.sort()\n",
    "    if with_dir:\n",
    "        camfiles = [join(data_dir, camfile) for camfile in camfiles]\n",
    "    return camfiles"
   ]
  },
  {
   "cell_type": "code",
   "execution_count": 13,
   "metadata": {
    "collapsed": false
   },
   "outputs": [],
   "source": [
    "def interleave_variables(labelled_vars, time_steps_per_example):\n",
    "    #get some metadata\n",
    "    n_tot_frames = sum([v.shape[0] for v in labelled_vars])\n",
    "    xdim = labelled_vars[0].shape[1]\n",
    "    ydim = labelled_vars[0].shape[2]\n",
    "    time_steps = labelled_vars[0].shape[0]\n",
    "    nvar = len(labelled_vars)\n",
    "    \n",
    "    def interleave_2d(labelled_vars):\n",
    "        #interleave each variable together\n",
    "        #tmp after this should be len(filenames)*4*nvar,768,1152\n",
    "        #nvar = 16 usually\n",
    "        tmp=np.empty((n_tot_frames,xdim,ydim ))\n",
    "        for i in range(nvar):\n",
    "            tmp[i::nvar,:] = labelled_vars[i]\n",
    "\n",
    "        #now make tmp len(filenames)*4, 16, 768,1152 array\n",
    "        tmp=tmp.reshape((time_steps, nvar, xdim, ydim))\n",
    "        return tmp\n",
    "        \n",
    "    def interleave_3d(labelled_vars, time_steps_per_example):\n",
    "        #interleaves each example in 3D fashion ,so takes k frames from each variable and\n",
    "        #concatenates them where k is time_steps_per_example\n",
    "        \n",
    "        num_ex = time_steps / time_steps_per_example\n",
    "        \n",
    "        tmp=np.empty((num_ex, nvar, time_steps_per_example, xdim, ydim))\n",
    "        for ex_ind in range(num_ex):\n",
    "            for var_ind in range(nvar):\n",
    "                tmp[ex_ind, var_ind,:time_steps_per_example,:] = labelled_vars[var_ind][ex_ind:ex_ind \n",
    "                                                                                        + time_steps_per_example]\n",
    "\n",
    "        return tmp\n",
    "    \n",
    "    if time_steps_per_example > 1:\n",
    "        tens= interleave_3d(labelled_vars, time_steps_per_example)\n",
    "        tens, _, _ = normalize(tens, axis=(0,2,3,4))\n",
    "    else:\n",
    "        tens = interleave_2d(labelled_vars)\n",
    "        tens, _, _ = normalize(tens)\n",
    "        \n",
    "    return tens\n",
    "        \n",
    "        \n",
    "\n",
    "   \n",
    "        "
   ]
  },
  {
   "cell_type": "code",
   "execution_count": 14,
   "metadata": {
    "collapsed": true
   },
   "outputs": [],
   "source": [
    "def convert_nc_data_to_tensor(dataset,variables, \n",
    "                                           time_step_sample_freq, time_steps_per_example):\n",
    "        #get every variable for every timestep across each file (var[i] is a len(filenames)*4, 768,1152 array )\n",
    "        var = [dataset.variables[v][:] for v in variables]\n",
    "\n",
    "        #get every other time step (b/c only labelled in every other)\n",
    "        labelled_vars = [v[::time_step_sample_freq] for v in var]\n",
    "        \n",
    "        tensor = interleave_variables(labelled_vars,time_steps_per_example)\n",
    "        return tensor"
   ]
  }
 ],
 "metadata": {
  "kernelspec": {
   "display_name": "Python 2",
   "language": "python",
   "name": "python2"
  },
  "language_info": {
   "codemirror_mode": {
    "name": "ipython",
    "version": 2
   },
   "file_extension": ".py",
   "mimetype": "text/x-python",
   "name": "python",
   "nbconvert_exporter": "python",
   "pygments_lexer": "ipython2",
   "version": "2.7.12"
  }
 },
 "nbformat": 4,
 "nbformat_minor": 2
}
