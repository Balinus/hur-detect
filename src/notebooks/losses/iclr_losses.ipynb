{
 "cells": [
  {
   "cell_type": "code",
   "execution_count": 100,
   "metadata": {
    "collapsed": false
   },
   "outputs": [],
   "source": [
    "from keras.objectives import mean_squared_error"
   ]
  },
  {
   "cell_type": "code",
   "execution_count": 101,
   "metadata": {
    "collapsed": true
   },
   "outputs": [],
   "source": [
    "import tensorflow"
   ]
  },
  {
   "cell_type": "code",
   "execution_count": 102,
   "metadata": {
    "collapsed": true
   },
   "outputs": [],
   "source": [
    "import tensorflow as tf"
   ]
  },
  {
   "cell_type": "code",
   "execution_count": 21,
   "metadata": {
    "collapsed": true
   },
   "outputs": [],
   "source": [
    "import sys\n",
    "from nbfinder import NotebookFinder\n",
    "sys.meta_path.append(NotebookFinder())"
   ]
  },
  {
   "cell_type": "code",
   "execution_count": 22,
   "metadata": {
    "collapsed": false
   },
   "outputs": [
    {
     "name": "stdout",
     "output_type": "stream",
     "text": [
      "importing Jupyter notebook from configs.ipynb\n"
     ]
    }
   ],
   "source": [
    "from configs import configs"
   ]
  },
  {
   "cell_type": "code",
   "execution_count": 161,
   "metadata": {
    "collapsed": false
   },
   "outputs": [],
   "source": [
    "def mask_out_nonobjs(inp_tens, obj_tens):\n",
    "    #make sure channel is last dim\n",
    "    mask = tf.cast(obj_tens, dtype=tf.bool)\n",
    "    masked_data = tf.boolean_mask(tensor=inp_tens, mask=mask,)\n",
    "    return masked_data\n",
    "    "
   ]
  },
  {
   "cell_type": "code",
   "execution_count": 162,
   "metadata": {
    "collapsed": true
   },
   "outputs": [],
   "source": [
    "def class_loss(y_pred, y_true, obj_tens):\n",
    "#     y_pred = mask_out_nonobjs(y_pred, obj_tens)\n",
    "#     y_true = mask_out_nonobjs(y_true, obj_tens)\n",
    "    losses = tf.nn.sparse_softmax_cross_entropy_with_logits(logits=y_pred,labels=y_true)\n",
    "    tf.mul(losses, tf.squeeze(obj_tens))\n",
    "    return tf.reduce_mean(losses)\n",
    "    \n",
    "    "
   ]
  },
  {
   "cell_type": "code",
   "execution_count": 163,
   "metadata": {
    "collapsed": true
   },
   "outputs": [],
   "source": [
    "def obj_loss(y_pred, y_true):\n",
    "    losses = tf.nn.sparse_softmax_cross_entropy_with_logits(logits=y_pred,labels=y_true)\n",
    "    return tf.reduce_mean(losses)\n",
    "    "
   ]
  },
  {
   "cell_type": "code",
   "execution_count": 164,
   "metadata": {
    "collapsed": true
   },
   "outputs": [],
   "source": [
    "def coord_loss(y_pred, y_true, obj_tens):\n",
    "    #y_pred, y_true = mask_out_nonobjs(y_pred,obj_tens), mask_out_nonobjs(y_true, obj_tens)\n",
    "    losses = smooth_l1(tf.subtract(y_true, y_pred))\n",
    "    tf.mul(losses, obj_tens)\n",
    "    return tf.reduce_mean(losses)"
   ]
  },
  {
   "cell_type": "code",
   "execution_count": 165,
   "metadata": {
    "collapsed": true
   },
   "outputs": [],
   "source": [
    "def reconstruction_loss(y_pred, y_true):\n",
    "    return tf.reduce_mean(mean_squared_error(y_pred, y_true))"
   ]
  },
  {
   "cell_type": "code",
   "execution_count": 166,
   "metadata": {
    "collapsed": true
   },
   "outputs": [],
   "source": [
    " def smooth_l1(x):\n",
    "    abs_x = tf.abs(x)\n",
    "    is_less_than_1 = tf.stop_gradient(tf.to_float(tf.less(abs_x,1.)))\n",
    "    \n",
    "    loss = tf.pow(x, 2) * 0.5 * is_less_than_1 \\\n",
    "                    + (abs_x - 0.5) * (1.0 - is_less_than_1)\n",
    "\n",
    "    return loss"
   ]
  },
  {
   "cell_type": "code",
   "execution_count": 171,
   "metadata": {
    "collapsed": false
   },
   "outputs": [],
   "source": [
    "def yolo_box_loss(y_true, y_pred):\n",
    "    alpha, beta = [configs[k] for k in [\"alpha\", \"beta\"]]\n",
    "    \n",
    "    y_pred_xy,y_pred_wh,y_pred_obj, y_pred_cls1,y_pred_cl2 = tf.split(value=y_pred,num_split=5,split_dim=3)\n",
    "    y_pred_cls = tf.concat(values=[y_pred_cls1,y_pred_cl2], concat_dim=3)\n",
    "    \n",
    "    y_true_xy,y_true_wh,y_true_obj_y_true_cls = tf.split(value=y_true,num_split=3,split_dim=3)\n",
    "    y_true_obj, y_true_cls = tf.split(value=y_true_obj_y_true_cls, num_split=2, split_dim=3)\n",
    "    \n",
    "    y_mask_obj = tf.cast(y_true_obj, tf.float32)\n",
    "    y_true_obj = tf.squeeze(tf.cast(y_true_obj, tf.int32))\n",
    "    y_true_cls = tf.squeeze(tf.cast(y_true_cls, tf.int32))\n",
    "    cls_loss = class_loss(y_pred_cls, y_true_cls,y_mask_obj)\n",
    "    o_loss = obj_loss(y_pred_obj,y_true_obj)\n",
    "    xy_loss = coord_loss(y_pred_xy, y_true_xy, y_mask_obj)\n",
    "    wh_loss = coord_loss(y_pred_wh, y_true_wh, y_mask_obj)\n",
    "    \n",
    "    \n",
    "    \n",
    "    xy_loss = tf.scalar_mul(alpha, xy_loss)\n",
    "    wh_loss = tf.scalar_mul(beta, wh_loss)\n",
    "    \n",
    "    loss = tf.add_n([xy_loss, wh_loss, o_loss, cls_loss])\n",
    "    return loss\n",
    "    "
   ]
  },
  {
   "cell_type": "code",
   "execution_count": 172,
   "metadata": {
    "collapsed": true
   },
   "outputs": [],
   "source": [
    "# def yolo_semisupervised_loss(y_true, y_pred):\n",
    "#     y_reconstruction = y_pred\n",
    "#     y_true_im = y_true\n",
    "#     loss_rec = reconstruction_loss(y_reconstruction, y_true_im)\n",
    "#     loss_box = yolo_supervised_loss(outputs, gr_truth)\n",
    "#     loss = tf.add(loss_box,tf.scalar_mul(configs[\"lambda\"], loss_box) )\n",
    "#     return loss\n",
    "    \n",
    "    "
   ]
  },
  {
   "cell_type": "code",
   "execution_count": 173,
   "metadata": {
    "collapsed": false
   },
   "outputs": [
    {
     "name": "stdout",
     "output_type": "stream",
     "text": [
      "(5, 24, 24)\n"
     ]
    }
   ],
   "source": [
    "if __name__ == \"__main__\":\n",
    "    sess = tf.InteractiveSession()\n",
    "    brn=tf.contrib.distributions.Bernoulli(p=0.5)\n",
    "    uni = tf.contrib.distributions.Uniform(0.,1.)\n",
    "    cat = tf.contrib.distributions.Categorical(p=4*[0.25])\n",
    "    nrm = tf.contrib.distributions.Normal(mu=0.,sigma=1.)\n",
    "    \n",
    "    \n",
    "    y_true_obj = tf.cast(brn.sample(sample_shape=(5,24,24,1)),tf.float32)\n",
    "    \n",
    "\n",
    "    y_pred_cls = uni.sample(sample_shape=(5,24,24, 4))\n",
    "    y_pred_obj = uni.sample(sample_shape=(5,24,24, 2))\n",
    "    y_pred_xy = nrm.sample(sample_shape=(5,24,24,2))\n",
    "    y_pred_wh = nrm.sample(sample_shape=(5,24,24,2))\n",
    "    y_true_xy = nrm.sample(sample_shape=(5,24,24,2))\n",
    "    y_true_wh = nrm.sample(sample_shape=(5,24,24,2))\n",
    "    y_true_cls = tf.cast(cat.sample(sample_shape=(5,24,24,1)), tf.float32)\n",
    "    \n",
    "    y_true_im = nrm.sample(sample_shape=(768,768,16))\n",
    "    y_pred_im = nrm.sample(sample_shape=(768,768,16))\n",
    "    \n",
    "    \n",
    "    outputs = tf.concat(values=[y_pred_xy,y_pred_wh,y_pred_obj, y_pred_cls], concat_dim=3)\n",
    "    gr_truth = tf.concat(values=[y_true_xy,y_true_wh,y_true_obj, y_true_cls], concat_dim=3)\n",
    "    loss= sess.run(yolo_box_loss(gr_truth, outputs))\n",
    "    #print sess.run(yolo_semisupervised_loss(outputs, gr_truth))\n"
   ]
  },
  {
   "cell_type": "code",
   "execution_count": null,
   "metadata": {
    "collapsed": true
   },
   "outputs": [],
   "source": []
  }
 ],
 "metadata": {
  "kernelspec": {
   "display_name": "Python 2",
   "language": "python",
   "name": "python2"
  },
  "language_info": {
   "codemirror_mode": {
    "name": "ipython",
    "version": 2
   },
   "file_extension": ".py",
   "mimetype": "text/x-python",
   "name": "python",
   "nbconvert_exporter": "python",
   "pygments_lexer": "ipython2",
   "version": "2.7.12"
  }
 },
 "nbformat": 4,
 "nbformat_minor": 2
}
