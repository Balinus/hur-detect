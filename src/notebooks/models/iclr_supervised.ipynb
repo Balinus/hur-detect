{
 "cells": [
  {
   "cell_type": "code",
   "execution_count": 36,
   "metadata": {
    "collapsed": false
   },
   "outputs": [],
   "source": [
    "import sys\n",
    "from nbfinder import NotebookFinder\n",
    "sys.meta_path.append(NotebookFinder())\n",
    "import keras\n",
    "from util import make_model_data_struct"
   ]
  },
  {
   "cell_type": "code",
   "execution_count": 37,
   "metadata": {
    "collapsed": true
   },
   "outputs": [],
   "source": [
    "from keras.initializations import he_normal"
   ]
  },
  {
   "cell_type": "code",
   "execution_count": 38,
   "metadata": {
    "collapsed": true
   },
   "outputs": [],
   "source": [
    "from keras.models import Model"
   ]
  },
  {
   "cell_type": "code",
   "execution_count": 39,
   "metadata": {
    "collapsed": false
   },
   "outputs": [],
   "source": [
    "from keras.layers import Input, Conv2D,Deconv2D,merge, BatchNormalization,Activation\n",
    "from configs import configs\n",
    "from keras.layers.advanced_activations import LeakyReLU"
   ]
  },
  {
   "cell_type": "code",
   "execution_count": 40,
   "metadata": {
    "collapsed": false
   },
   "outputs": [],
   "source": [
    "from keras.regularizers import l2"
   ]
  },
  {
   "cell_type": "code",
   "execution_count": 41,
   "metadata": {
    "collapsed": false
   },
   "outputs": [],
   "source": [
    "encoder_num_filters_list = configs[\"num_filter_list\"]\n",
    "num_layers = len(encoder_num_filters_list)\n",
    "inp_shape = configs[\"input_shape\"]"
   ]
  },
  {
   "cell_type": "code",
   "execution_count": 42,
   "metadata": {
    "collapsed": false
   },
   "outputs": [],
   "source": [
    "input_ = Input(inp_shape)"
   ]
  },
  {
   "cell_type": "code",
   "execution_count": 43,
   "metadata": {
    "collapsed": false
   },
   "outputs": [],
   "source": [
    "conv_kwargs =  dict(border_mode=\"same\", init=configs[\"w_init\"], W_regularizer=l2(configs[\"w_decay\"]))"
   ]
  },
  {
   "cell_type": "code",
   "execution_count": 44,
   "metadata": {
    "collapsed": false
   },
   "outputs": [],
   "source": [
    "def encoder(inp):\n",
    "    x = inp\n",
    "    for lay_no in range(num_layers):\n",
    "        num_filters = encoder_num_filters_list[lay_no]\n",
    "        x = Conv2D(num_filters, 5,5, subsample=(2,2),**conv_kwargs )(x)\n",
    "#         bn = BatchNormalization()(conv)\n",
    "#         x = Activation(activation=LeakyReLU(alpha=0.1))(bn)\n",
    "\n",
    "    return x"
   ]
  },
  {
   "cell_type": "code",
   "execution_count": 45,
   "metadata": {
    "collapsed": false
   },
   "outputs": [],
   "source": [
    "def bbox(encoder):\n",
    "    \n",
    "    xy_coords_score = Conv2D(2,3,3,\n",
    "                             activation=\"linear\", \n",
    "                             name=\"xy_score\",**conv_kwargs)(encoder)\n",
    "    \n",
    "    \n",
    "    \n",
    "    wh_coords_score = Conv2D(2,3,3,\n",
    "                             activation=\"linear\",\n",
    "                             name=\"wh_score\",**conv_kwargs)(encoder)\n",
    "    \n",
    "    objectness_score = Conv2D(2,3,3,\n",
    "                              activation=\"relu\", name=\"objectness_score\",**conv_kwargs)(encoder)\n",
    "    \n",
    "    class_score = Conv2D(configs[\"num_classes\"],3,3,\n",
    "                         activation=\"relu\", \n",
    "                         name=\"class_score\", **conv_kwargs)(encoder)\n",
    "    \n",
    "    \n",
    "    output = merge([xy_coords_score,wh_coords_score,objectness_score,class_score],\n",
    "                   concat_axis=-1, mode=\"concat\",name=\"box_score\")\n",
    "    return output"
   ]
  },
  {
   "cell_type": "code",
   "execution_count": 46,
   "metadata": {
    "collapsed": false
   },
   "outputs": [],
   "source": [
    "output = bbox(encoder(inp=input_))"
   ]
  },
  {
   "cell_type": "code",
   "execution_count": 47,
   "metadata": {
    "collapsed": true
   },
   "outputs": [],
   "source": [
    "def get_model_params():\n",
    "    return make_model_data_struct(input=input_, output=output)"
   ]
  },
  {
   "cell_type": "code",
   "execution_count": 50,
   "metadata": {
    "collapsed": false
   },
   "outputs": [
    {
     "name": "stdout",
     "output_type": "stream",
     "text": [
      "[NbConvertApp] Converting notebook iclr_supervised.ipynb to script\n",
      "[NbConvertApp] Writing 2226 bytes to iclr_supervised.py\n"
     ]
    }
   ],
   "source": [
    "#! jupyter nbconvert --to script iclr_supervised.ipynb"
   ]
  },
  {
   "cell_type": "code",
   "execution_count": null,
   "metadata": {
    "collapsed": true
   },
   "outputs": [],
   "source": []
  }
 ],
 "metadata": {
  "kernelspec": {
   "display_name": "Python 2",
   "language": "python",
   "name": "python2"
  },
  "language_info": {
   "codemirror_mode": {
    "name": "ipython",
    "version": 2
   },
   "file_extension": ".py",
   "mimetype": "text/x-python",
   "name": "python",
   "nbconvert_exporter": "python",
   "pygments_lexer": "ipython2",
   "version": "2.7.12"
  }
 },
 "nbformat": 4,
 "nbformat_minor": 2
}
