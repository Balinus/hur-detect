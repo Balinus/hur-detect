{
 "cells": [
  {
   "cell_type": "code",
   "execution_count": 1,
   "metadata": {
    "collapsed": true
   },
   "outputs": [],
   "source": [
    "import sys\n",
    "from notebooks_src.nbfinder import NotebookFinder\n",
    "sys.meta_path.append(NotebookFinder())\n",
    "\n",
    "from notebooks_src.config_util import update_configs\n",
    "\n",
    "\n",
    "kwargs_dict = dict(data_format_args = {'input_shape': (None,16,768,1152),\n",
    "                    'time_steps_per_example': 1,\n",
    "\n",
    "                    \"time_step_sample_frequency\": 2,\n",
    "                    \"time_steps_per_file\": 8,\n",
    "                    \"image_variables\" :['PRECT','PS','PSL','QREFHT','T200','T500','TMQ','TREFHT',\n",
    "                                  'TS','U850','UBOT','V850','VBOT','Z1000','Z200','ZBOT'],\n",
    "                    \"label_variables\" : [\"x_coord\",\"y_coord\",\"w_coord\",\"h_coord\",\"obj\",\"cls\"]\n",
    "                        \n",
    "                    \n",
    "    \n",
    "},\n",
    "\n",
    "\n",
    "                \n",
    "                \n",
    "\n",
    "\n",
    "\n",
    "tr_val_test_args = {'batch_size' : 16,\n",
    "                    \"num_tr_ims\": 48,\n",
    "                    \"num_val_ims\": 16,\n",
    "                    \"num_test_ims\": 32\n",
    "                   },\n",
    "\n",
    "file_args = {'labels_file': \"/home/evan/data/climate/labels/labels.csv\",\n",
    "             'data_dir': \"/home/evan/data/climate/input\",\n",
    "             \"data_list_dir\": \"/home/evan/data/climate/lists/small-gpu-size_lists/semisupervised/\"},\n",
    "             \n",
    "data_type = {\"data_name\": \"climate\"})\n",
    "    \n",
    "\n",
    "\n",
    "configs = {}\n",
    "for kwargs in kwargs_dict.values():\n",
    "    configs.update(kwargs)\n",
    "\n",
    "\n",
    "configs = update_configs(configs)\n"
   ]
  },
  {
   "cell_type": "code",
   "execution_count": null,
   "metadata": {
    "collapsed": true
   },
   "outputs": [],
   "source": []
  }
 ],
 "metadata": {
  "kernelspec": {
   "display_name": "Python 2",
   "language": "python",
   "name": "python2"
  },
  "language_info": {
   "codemirror_mode": {
    "name": "ipython",
    "version": 2
   },
   "file_extension": ".py",
   "mimetype": "text/x-python",
   "name": "python",
   "nbconvert_exporter": "python",
   "pygments_lexer": "ipython2",
   "version": "2.7.12"
  }
 },
 "nbformat": 4,
 "nbformat_minor": 2
}
