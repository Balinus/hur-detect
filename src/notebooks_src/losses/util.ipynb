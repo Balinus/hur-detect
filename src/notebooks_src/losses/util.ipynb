{
 "cells": [
  {
   "cell_type": "code",
   "execution_count": 1,
   "metadata": {
    "collapsed": true
   },
   "outputs": [],
   "source": [
    "import tensorflow as tf"
   ]
  },
  {
   "cell_type": "code",
   "execution_count": 4,
   "metadata": {
    "collapsed": true
   },
   "outputs": [],
   "source": [
    "def add_epsilon(tens):\n",
    "    epsilon = tf.constant(value=0.0001)\n",
    "    return tf.add(tens,epsilon)\n",
    "    \n",
    "\n",
    "def average_nonzero_elements(tens):\n",
    "    denominator = tf.count_nonzero(tens)\n",
    "    denominator = tf.cast(denominator, tf.float32) + 0.001\n",
    "    tens_sum = tf.reduce_sum(tens)\n",
    "    mean_tens = tf.div(tens_sum, denominator)\n",
    "    return mean_tens\n",
    "    \n",
    "\n",
    "\n",
    "def mask_tens(tens, mask):\n",
    "    return tf.mul(tens, mask)   \n",
    "    #tf.where(tf.equal(mask, tf.zeros_like(mask)),tf.zeros_like(tens),  tens)\n",
    "    \n",
    "\n",
    "def zero_out_nans(tens):\n",
    "    return tf.where(condition=tf.is_nan(tens),x=tf.zeros_like(tens), y=tens)"
   ]
  },
  {
   "cell_type": "code",
   "execution_count": null,
   "metadata": {
    "collapsed": true
   },
   "outputs": [],
   "source": []
  }
 ],
 "metadata": {
  "kernelspec": {
   "display_name": "Python 2",
   "language": "python",
   "name": "python2"
  },
  "language_info": {
   "codemirror_mode": {
    "name": "ipython",
    "version": 2
   },
   "file_extension": ".py",
   "mimetype": "text/x-python",
   "name": "python",
   "nbconvert_exporter": "python",
   "pygments_lexer": "ipython2",
   "version": "2.7.12"
  }
 },
 "nbformat": 4,
 "nbformat_minor": 2
}
