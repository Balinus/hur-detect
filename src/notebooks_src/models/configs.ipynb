{
 "cells": [
  {
   "cell_type": "code",
   "execution_count": 1,
   "metadata": {
    "collapsed": true
   },
   "outputs": [],
   "source": [
    "import sys\n",
    "from notebooks_src.nbfinder import NotebookFinder\n",
    "sys.meta_path.append(NotebookFinder())\n",
    "\n",
    "from notebooks_src.config_util import update_configs\n",
    "\n",
    "from keras.initializations import he_normal"
   ]
  },
  {
   "cell_type": "code",
   "execution_count": 1,
   "metadata": {
    "collapsed": false
   },
   "outputs": [],
   "source": [
    "configs= {\"input_shape\": (768,768,16),\n",
    "         #\"num_filter_list\":[128, 256, 512, 768, 1024], \n",
    "        \"num_filter_list\":[128/8, 256/8, 512/8, 768/8, 1024/8],\n",
    "         \"model\": \"iclr_semisupervised\",\n",
    "         \"num_classes\": 4, \"w_decay\": 0.0005, \"w_init\":\"he_normal\" }"
   ]
  },
  {
   "cell_type": "code",
   "execution_count": 1,
   "metadata": {
    "collapsed": false
   },
   "outputs": [
    {
     "name": "stdout",
     "output_type": "stream",
     "text": [
      "[NbConvertApp] Converting notebook configs.ipynb to script\n",
      "[NbConvertApp] Writing 204 bytes to configs.py\n"
     ]
    }
   ],
   "source": [
    "#! jupyter nbconvert --to script configs.ipynb"
   ]
  },
  {
   "cell_type": "code",
   "execution_count": null,
   "metadata": {
    "collapsed": true
   },
   "outputs": [],
   "source": [
    "configs = update_configs(configs)"
   ]
  }
 ],
 "metadata": {
  "kernelspec": {
   "display_name": "Python 2",
   "language": "python",
   "name": "python2"
  },
  "language_info": {
   "codemirror_mode": {
    "name": "ipython",
    "version": 2
   },
   "file_extension": ".py",
   "mimetype": "text/x-python",
   "name": "python",
   "nbconvert_exporter": "python",
   "pygments_lexer": "ipython2",
   "version": "2.7.12"
  }
 },
 "nbformat": 4,
 "nbformat_minor": 2
}
