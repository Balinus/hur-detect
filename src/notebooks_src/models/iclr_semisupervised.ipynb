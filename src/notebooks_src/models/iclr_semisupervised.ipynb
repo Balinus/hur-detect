{
 "cells": [
  {
   "cell_type": "code",
   "execution_count": 13,
   "metadata": {
    "collapsed": false
   },
   "outputs": [],
   "source": [
    "import sys\n",
    "from nbfinder import NotebookFinder\n",
    "sys.meta_path.append(NotebookFinder())\n",
    "import keras"
   ]
  },
  {
   "cell_type": "code",
   "execution_count": 14,
   "metadata": {
    "collapsed": true
   },
   "outputs": [],
   "source": [
    "from keras.models import Model"
   ]
  },
  {
   "cell_type": "code",
   "execution_count": 2,
   "metadata": {
    "collapsed": false
   },
   "outputs": [
    {
     "name": "stderr",
     "output_type": "stream",
     "text": [
      "Using TensorFlow backend.\n"
     ]
    },
    {
     "ename": "ImportError",
     "evalue": "No module named configs",
     "output_type": "error",
     "traceback": [
      "\u001b[0;31m---------------------------------------------------------------------------\u001b[0m",
      "\u001b[0;31mImportError\u001b[0m                               Traceback (most recent call last)",
      "\u001b[0;32m<ipython-input-2-e973a242081f>\u001b[0m in \u001b[0;36m<module>\u001b[0;34m()\u001b[0m\n\u001b[1;32m      1\u001b[0m \u001b[0;32mfrom\u001b[0m \u001b[0mkeras\u001b[0m\u001b[0;34m.\u001b[0m\u001b[0mlayers\u001b[0m \u001b[0;32mimport\u001b[0m \u001b[0mInput\u001b[0m\u001b[0;34m,\u001b[0m \u001b[0mConv2D\u001b[0m\u001b[0;34m,\u001b[0m\u001b[0mDeconv2D\u001b[0m\u001b[0;34m\u001b[0m\u001b[0m\n\u001b[0;32m----> 2\u001b[0;31m \u001b[0;32mfrom\u001b[0m \u001b[0mconfigs\u001b[0m \u001b[0;32mimport\u001b[0m \u001b[0mconfigs\u001b[0m\u001b[0;34m\u001b[0m\u001b[0m\n\u001b[0m\u001b[1;32m      3\u001b[0m \u001b[0;32mfrom\u001b[0m \u001b[0mutil\u001b[0m \u001b[0;32mimport\u001b[0m \u001b[0mmake_model_data_struct\u001b[0m\u001b[0;34m\u001b[0m\u001b[0m\n",
      "\u001b[0;31mImportError\u001b[0m: No module named configs"
     ]
    }
   ],
   "source": [
    "from keras.layers import Input, Conv2D,Deconv2D\n",
    "from configs import configs\n",
    "from util import make_model_data_struct"
   ]
  },
  {
   "cell_type": "code",
   "execution_count": null,
   "metadata": {
    "collapsed": true
   },
   "outputs": [],
   "source": [
    "from keras.regularizers import l2"
   ]
  },
  {
   "cell_type": "code",
   "execution_count": 16,
   "metadata": {
    "collapsed": false
   },
   "outputs": [],
   "source": [
    "from iclr_supervised import encoder, bbox"
   ]
  },
  {
   "cell_type": "code",
   "execution_count": 17,
   "metadata": {
    "collapsed": false
   },
   "outputs": [],
   "source": [
    "encoder_num_filters_list = configs[\"num_filter_list\"]\n",
    "num_layers = len(encoder_num_filters_list)\n",
    "inp_shape = configs[\"input_shape\"]"
   ]
  },
  {
   "cell_type": "code",
   "execution_count": 18,
   "metadata": {
    "collapsed": false
   },
   "outputs": [],
   "source": [
    "input_ = Input(inp_shape)"
   ]
  },
  {
   "cell_type": "code",
   "execution_count": null,
   "metadata": {
    "collapsed": true
   },
   "outputs": [],
   "source": [
    "conv_kwargs =  dict(border_mode=\"same\", init=configs[\"w_init\"], W_regularizer=l2(configs[\"w_decay\"]))"
   ]
  },
  {
   "cell_type": "code",
   "execution_count": 36,
   "metadata": {
    "collapsed": false
   },
   "outputs": [],
   "source": [
    "def decoder(code_layer_output):\n",
    "    # us all filter sizes from encoder except for last, most recent one\n",
    "    decoder_num_filters_list = encoder_num_filters_list[:-1]\n",
    "    # use them in reverse\n",
    "    decoder_num_filters_list.reverse()\n",
    "    \n",
    "    # so the last layer gets to shape of input, last layer num_filters == input num channels\n",
    "    decoder_num_filters_list.append(inp_shape[-1])\n",
    "\n",
    "    x = code_layer_output\n",
    "    \n",
    "    for lay_no in range(num_layers):\n",
    "        num_filters = decoder_num_filters_list[lay_no]\n",
    "        o_shape = [None]+ [dim / 2**(num_layers - lay_no -1) for dim in inp_shape[0:2]] + [num_filters]\n",
    "        #print o_shape\n",
    "        if lay_no == num_layers - 1:\n",
    "            name = \"reconstruction\"\n",
    "        else:\n",
    "            name = \"deconv_\" + str(lay_no)\n",
    "        x = Deconv2D(num_filters, 5,5,subsample=(2,2), output_shape=o_shape,  name=name, **conv_kwargs)(x)\n",
    "\n",
    "\n",
    "    return x"
   ]
  },
  {
   "cell_type": "code",
   "execution_count": 37,
   "metadata": {
    "collapsed": false
   },
   "outputs": [],
   "source": [
    "code_layer_output = encoder(inp=input_)"
   ]
  },
  {
   "cell_type": "code",
   "execution_count": 38,
   "metadata": {
    "collapsed": false
   },
   "outputs": [
    {
     "name": "stdout",
     "output_type": "stream",
     "text": [
      "[None, 48, 48, 96]\n",
      "[None, 96, 96, 64]\n",
      "[None, 192, 192, 32]\n",
      "[None, 384, 384, 16]\n",
      "[None, 768, 768, 16]\n"
     ]
    }
   ],
   "source": [
    "reconstruction = decoder(code_layer_output)"
   ]
  },
  {
   "cell_type": "code",
   "execution_count": 23,
   "metadata": {
    "collapsed": false
   },
   "outputs": [],
   "source": [
    "box_score= bbox(code_layer_output)"
   ]
  },
  {
   "cell_type": "code",
   "execution_count": 24,
   "metadata": {
    "collapsed": false
   },
   "outputs": [],
   "source": [
    "def get_model_params():\n",
    "    return make_model_data_struct(input=input_, output = [box_score, reconstruction])"
   ]
  },
  {
   "cell_type": "code",
   "execution_count": 1,
   "metadata": {
    "collapsed": false
   },
   "outputs": [
    {
     "name": "stdout",
     "output_type": "stream",
     "text": [
      "[NbConvertApp] Converting notebook iclr_semisupervised.ipynb to script\n",
      "[NbConvertApp] Writing 1829 bytes to iclr_semisupervised.py\n"
     ]
    }
   ],
   "source": [
    "#! jupyter nbconvert --to script iclr_semisupervised.ipynb"
   ]
  },
  {
   "cell_type": "code",
   "execution_count": null,
   "metadata": {
    "collapsed": true
   },
   "outputs": [],
   "source": []
  }
 ],
 "metadata": {
  "kernelspec": {
   "display_name": "Python 2",
   "language": "python",
   "name": "python2"
  },
  "language_info": {
   "codemirror_mode": {
    "name": "ipython",
    "version": 2
   },
   "file_extension": ".py",
   "mimetype": "text/x-python",
   "name": "python",
   "nbconvert_exporter": "python",
   "pygments_lexer": "ipython2",
   "version": "2.7.12"
  }
 },
 "nbformat": 4,
 "nbformat_minor": 2
}
