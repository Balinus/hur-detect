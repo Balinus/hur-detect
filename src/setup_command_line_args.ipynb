{
 "cells": [
  {
   "cell_type": "code",
   "execution_count": 10,
   "metadata": {
    "collapsed": false
   },
   "outputs": [],
   "source": [
    "import importlib"
   ]
  },
  {
   "cell_type": "code",
   "execution_count": 6,
   "metadata": {
    "collapsed": true
   },
   "outputs": [],
   "source": [
    "import os"
   ]
  },
  {
   "cell_type": "code",
   "execution_count": 16,
   "metadata": {
    "collapsed": true
   },
   "outputs": [],
   "source": [
    "from os.path import join"
   ]
  },
  {
   "cell_type": "code",
   "execution_count": 24,
   "metadata": {
    "collapsed": true
   },
   "outputs": [],
   "source": [
    "import argparse\n",
    "import sys"
   ]
  },
  {
   "cell_type": "code",
   "execution_count": 21,
   "metadata": {
    "collapsed": true
   },
   "outputs": [],
   "source": [
    "import json"
   ]
  },
  {
   "cell_type": "code",
   "execution_count": 19,
   "metadata": {
    "collapsed": true
   },
   "outputs": [],
   "source": [
    "def grab_all_configs():\n",
    "    args = {}\n",
    "\n",
    "    for dirpath, dirnames, filenames in os.walk(\"./dotpy_src\"):\n",
    "        if \"ipynb_checkpoints\" not in dirpath:\n",
    "            package_name = dirpath.split(\".\")[-1].split(\"/\")[-1]\n",
    "            mod_list = [d for d in dirnames if \"ipynb_checkpoints\" not in d]\n",
    "            if len(mod_list) > 0:\n",
    "                package_name = package_name + \".\" if package_name is not \"\" else package_name\n",
    "\n",
    "                for mod in mod_list:\n",
    "                    if os.path.exists(join(dirpath, mod, \"configs.py\")):\n",
    "                        try:\n",
    "\n",
    "                            configs = importlib.import_module(package_name + mod + \".configs\" )\n",
    "                            args.update(configs.configs)\n",
    "                        except:\n",
    "                            pass#print \"oh no \" + package_name + mod + \".configs\"\n",
    "                    else:\n",
    "                        pass\n",
    "    return args"
   ]
  },
  {
   "cell_type": "code",
   "execution_count": 6,
   "metadata": {
    "collapsed": true
   },
   "outputs": [],
   "source": [
    "def parse_cla():\n",
    "    #dump empty dict\n",
    "    with open(\"./configs.json\", \"w\") as f:\n",
    "        json.dump({},f)\n",
    "    # no notebook\n",
    "    #print sys.argv[0]\n",
    "    configs = {}\n",
    "    if \"ipykernel\" not in sys.argv[0]:\n",
    "        configs = _parse_cla()\n",
    "        with open(\"./configs.json\", \"w\") as f:\n",
    "            json.dump(configs,f)\n",
    "    return configs\n",
    "    \n",
    "\n",
    "    \n"
   ]
  },
  {
   "cell_type": "code",
   "execution_count": 20,
   "metadata": {
    "collapsed": true
   },
   "outputs": [],
   "source": [
    "def _parse_cla():\n",
    "    configs = grab_all_configs()\n",
    "\n",
    "    parser = argparse.ArgumentParser(formatter_class=argparse.ArgumentDefaultsHelpFormatter)\n",
    "    for k,v in configs.iteritems():\n",
    "        \n",
    "        if k is not \"variables\":\n",
    "            if type(v) is list:\n",
    "                parser.add_argument('--' + k, type=type(v[0]),nargs='+', default=v, help=k)\n",
    "            elif type(v) is bool:\n",
    "                parser.add_argument('--' + k, action='store_true', help=k)\n",
    "            else:   \n",
    "                parser.add_argument('--' + k, type=type(v), default=v, help=k)\n",
    "\n",
    "    args = parser.parse_args()\n",
    "    return args.__dict__"
   ]
  },
  {
   "cell_type": "code",
   "execution_count": null,
   "metadata": {
    "collapsed": true
   },
   "outputs": [],
   "source": [
    "if __name__ == \"__main__\":\n",
    "    pass\n",
    "#     cla = parse_cla()\n",
    "#     for k,v in cla.iteritems():\n",
    "#         print k, \" : \", v\n"
   ]
  },
  {
   "cell_type": "code",
   "execution_count": null,
   "metadata": {
    "collapsed": true
   },
   "outputs": [],
   "source": []
  }
 ],
 "metadata": {
  "kernelspec": {
   "display_name": "Python 2",
   "language": "python",
   "name": "python2"
  },
  "language_info": {
   "codemirror_mode": {
    "name": "ipython",
    "version": 2
   },
   "file_extension": ".py",
   "mimetype": "text/x-python",
   "name": "python",
   "nbconvert_exporter": "python",
   "pygments_lexer": "ipython2",
   "version": "2.7.12"
  }
 },
 "nbformat": 4,
 "nbformat_minor": 2
}
