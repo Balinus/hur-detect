{
 "cells": [
  {
   "cell_type": "code",
   "execution_count": 10,
   "metadata": {
    "collapsed": false
   },
   "outputs": [
    {
     "name": "stdout",
     "output_type": "stream",
     "text": [
      "importing Jupyter notebook from helper_fxns.ipynb\n",
      "importing Jupyter notebook from build_hur_classif_network.ipynb\n"
     ]
    }
   ],
   "source": [
    "import numpy as np\n",
    "import lasagne\n",
    "from nbfinder import NotebookFinder\n",
    "import sys\n",
    "sys.meta_path.append(NotebookFinder())\n",
    "\n",
    "\n",
    "from helper_fxns import iterate_minibatches, early_stop, plot_training\n",
    "from build_hur_classif_network import build_network"
   ]
  },
  {
   "cell_type": "code",
   "execution_count": 9,
   "metadata": {
    "collapsed": true
   },
   "outputs": [],
   "source": [
    "def train_one_epoch(x,y,num_minibatches, train_fn, val_fn):\n",
    "    err = 0\n",
    "    acc = 0\n",
    "    batches = 0\n",
    "    start_time = time.time()\n",
    "    for batch in iterate_minibatches(x, y, num_minibatches, shuffle=True):\n",
    "        inputs, targets = batch\n",
    "        train_err += train_fn(inputs, targets)\n",
    "        _, acc = val_fn(inputs, targets)\n",
    "        train_acc += acc\n",
    "        train_batches += 1\n",
    "    return err, acc, batches"
   ]
  },
  {
   "cell_type": "code",
   "execution_count": 6,
   "metadata": {
    "collapsed": true
   },
   "outputs": [],
   "source": [
    "def val_one_epoch(x,y,num_miniBatches, val_fn):\n",
    "        val_err = 0\n",
    "        val_acc = 0\n",
    "        val_batches = 0\n",
    "        for batch in iterate_minibatches(X_val, y_val, 50, shuffle=False):\n",
    "            inputs, targets = batch\n",
    "            err, acc = val_fn(inputs, targets)\n",
    "            val_err += err\n",
    "            val_acc += acc\n",
    "            val_batches += 1\n",
    "        return val_err, val_acc, val_batches"
   ]
  },
  {
   "cell_type": "code",
   "execution_count": 7,
   "metadata": {
    "collapsed": false
   },
   "outputs": [],
   "source": [
    "def print_results(epoch, num_epochs, start_time, tr_err, tr_acc, val_err, val_acc):\n",
    "    # Then we print the results for this epoch:\n",
    "    print \"Epoch {} of {} took {:.3f}s\".format(epoch + 1, num_epochs, time.time() - start_time)\n",
    "    print \"  training loss:\\t\\t{:.6f}\".format(tr_err)\n",
    "    print \"  training acc:\\t\\t{:.6f}\".format(tr_acc)\n",
    "    print \"  validation loss:\\t\\t{:.6f}\".format(val_err)\n",
    "    print \"  validation accuracy:\\t\\t{:.2f} %\".format(val_acc)"
   ]
  },
  {
   "cell_type": "code",
   "execution_count": 8,
   "metadata": {
    "collapsed": true
   },
   "outputs": [],
   "source": [
    "def train(datasets, num_epochs, save=False, frac_of_datasets=1, network_kwargs={}):\n",
    "    train_fn,val_fn,network = build_network(**network_kwargs)\n",
    "    print \"Starting training...\" \n",
    "    X_train, y_train, X_val, y_val, X_test, y_test = datasets\n",
    "\n",
    "    train_errs, train_accs, val_errs, val_accs = 4*([])\n",
    "    \n",
    "    for epoch in range(num_epochs):\n",
    "        tr_err, tr_acc, tr_batches = train_one_epoch(X_train, y_train,\n",
    "                                                     num_minibatches=1000,\n",
    "                                                     train_fn=train_fn,\n",
    "                                                     val_fn=val_fn)\n",
    "        \n",
    "        val_err, val_acc, val_batches = val_one_epoch(X_val, y_val,\n",
    "                                                     num_minibatches=50,\n",
    "                                                      val_fn=val_fn)\n",
    "\n",
    "        for seq, num, scal in zip([train_errs, train_accs, val_errs, val_accs],\n",
    "                             [tr_err, tr_acc, val_err, val_acc], \n",
    "                             [tr_batches, tr_batches, val_batches, val_batches] ):\n",
    "            seq.append(num / scal )\n",
    "\n",
    "\n",
    "        print_results(epoch, num_epochs, start_time, tr_err, tr_acc, val_err, val_acc)\n",
    "        plot_training(train_errs,[], 'err')\n",
    "        \n",
    "\n",
    "\n",
    "    if save and epoch % 10 == 0:\n",
    "    # Optionally, you could now dump the network weights to a file like this:\n",
    "        np.savez('model.npz', *lasagne.layers.get_all_param_values(network))"
   ]
  },
  {
   "cell_type": "code",
   "execution_count": null,
   "metadata": {
    "collapsed": true
   },
   "outputs": [],
   "source": []
  }
 ],
 "metadata": {
  "kernelspec": {
   "display_name": "Python 2",
   "language": "python",
   "name": "python2"
  },
  "language_info": {
   "codemirror_mode": {
    "name": "ipython",
    "version": 2
   },
   "file_extension": ".py",
   "mimetype": "text/x-python",
   "name": "python",
   "nbconvert_exporter": "python",
   "pygments_lexer": "ipython2",
   "version": "2.7.11"
  }
 },
 "nbformat": 4,
 "nbformat_minor": 0
}
